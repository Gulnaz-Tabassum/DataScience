{
 "cells": [
  {
   "cell_type": "markdown",
   "metadata": {},
   "source": [
    "# Data Science Project\n",
    "\n",
    "\n",
    "\n",
    "\n",
    "            \n",
    " \n"
   ]
  },
  {
   "cell_type": "markdown",
   "metadata": {},
   "source": [
    "##  Project Topic: Multiview Linear Discriminant Analysis(MLDA) "
   ]
  },
  {
   "cell_type": "markdown",
   "metadata": {},
   "source": [
    "Prepared by \n",
    "1. Kanishk Gupta(0801CS171031) \n",
    "2. Harsh Pastaria (0801CS171027)\n",
    "3. Aadeesh Jain(0801CS171001)\n",
    "            "
   ]
  },
  {
   "cell_type": "markdown",
   "metadata": {},
   "source": [
    "## Importing the required libraries"
   ]
  },
  {
   "cell_type": "code",
   "execution_count": 1,
   "metadata": {},
   "outputs": [],
   "source": [
    "\n",
    "\n",
    "import numpy as np\n",
    "import pandas as pd\n",
    "import math"
   ]
  },
  {
   "cell_type": "markdown",
   "metadata": {},
   "source": [
    "# Importing Datasets"
   ]
  },
  {
   "cell_type": "code",
   "execution_count": 2,
   "metadata": {},
   "outputs": [],
   "source": [
    "X=pd.read_csv('mfeat-mor',delim_whitespace=True,header=None)"
   ]
  },
  {
   "cell_type": "markdown",
   "metadata": {},
   "source": [
    "We are considering 2 datasets for multiview X,Y also these datasets uploaded in github for further info."
   ]
  },
  {
   "cell_type": "code",
   "execution_count": 3,
   "metadata": {},
   "outputs": [
    {
     "data": {
      "text/html": [
       "<div>\n",
       "<style scoped>\n",
       "    .dataframe tbody tr th:only-of-type {\n",
       "        vertical-align: middle;\n",
       "    }\n",
       "\n",
       "    .dataframe tbody tr th {\n",
       "        vertical-align: top;\n",
       "    }\n",
       "\n",
       "    .dataframe thead th {\n",
       "        text-align: right;\n",
       "    }\n",
       "</style>\n",
       "<table border=\"1\" class=\"dataframe\">\n",
       "  <thead>\n",
       "    <tr style=\"text-align: right;\">\n",
       "      <th></th>\n",
       "      <th>0</th>\n",
       "      <th>1</th>\n",
       "      <th>2</th>\n",
       "      <th>3</th>\n",
       "      <th>4</th>\n",
       "      <th>5</th>\n",
       "    </tr>\n",
       "  </thead>\n",
       "  <tbody>\n",
       "    <tr>\n",
       "      <th>0</th>\n",
       "      <td>1.0</td>\n",
       "      <td>0.0</td>\n",
       "      <td>0.0</td>\n",
       "      <td>133.150861</td>\n",
       "      <td>1.311693</td>\n",
       "      <td>1620.221779</td>\n",
       "    </tr>\n",
       "    <tr>\n",
       "      <th>1</th>\n",
       "      <td>1.0</td>\n",
       "      <td>0.0</td>\n",
       "      <td>0.0</td>\n",
       "      <td>126.724861</td>\n",
       "      <td>1.302745</td>\n",
       "      <td>1609.334822</td>\n",
       "    </tr>\n",
       "    <tr>\n",
       "      <th>2</th>\n",
       "      <td>1.0</td>\n",
       "      <td>0.0</td>\n",
       "      <td>0.0</td>\n",
       "      <td>131.173861</td>\n",
       "      <td>1.319031</td>\n",
       "      <td>1568.978435</td>\n",
       "    </tr>\n",
       "    <tr>\n",
       "      <th>3</th>\n",
       "      <td>1.0</td>\n",
       "      <td>0.0</td>\n",
       "      <td>0.0</td>\n",
       "      <td>129.478861</td>\n",
       "      <td>1.270878</td>\n",
       "      <td>1695.055281</td>\n",
       "    </tr>\n",
       "    <tr>\n",
       "      <th>4</th>\n",
       "      <td>1.0</td>\n",
       "      <td>0.0</td>\n",
       "      <td>0.0</td>\n",
       "      <td>127.262861</td>\n",
       "      <td>1.329637</td>\n",
       "      <td>1647.720235</td>\n",
       "    </tr>\n",
       "    <tr>\n",
       "      <th>...</th>\n",
       "      <td>...</td>\n",
       "      <td>...</td>\n",
       "      <td>...</td>\n",
       "      <td>...</td>\n",
       "      <td>...</td>\n",
       "      <td>...</td>\n",
       "    </tr>\n",
       "    <tr>\n",
       "      <th>1995</th>\n",
       "      <td>1.0</td>\n",
       "      <td>1.0</td>\n",
       "      <td>1.0</td>\n",
       "      <td>157.498861</td>\n",
       "      <td>1.655794</td>\n",
       "      <td>5326.025889</td>\n",
       "    </tr>\n",
       "    <tr>\n",
       "      <th>1996</th>\n",
       "      <td>1.0</td>\n",
       "      <td>1.0</td>\n",
       "      <td>1.0</td>\n",
       "      <td>152.404861</td>\n",
       "      <td>1.620345</td>\n",
       "      <td>5243.267754</td>\n",
       "    </tr>\n",
       "    <tr>\n",
       "      <th>1997</th>\n",
       "      <td>1.0</td>\n",
       "      <td>1.0</td>\n",
       "      <td>1.0</td>\n",
       "      <td>134.672861</td>\n",
       "      <td>1.541987</td>\n",
       "      <td>3766.763222</td>\n",
       "    </tr>\n",
       "    <tr>\n",
       "      <th>1998</th>\n",
       "      <td>1.0</td>\n",
       "      <td>1.0</td>\n",
       "      <td>1.0</td>\n",
       "      <td>142.926861</td>\n",
       "      <td>1.426381</td>\n",
       "      <td>4118.327320</td>\n",
       "    </tr>\n",
       "    <tr>\n",
       "      <th>1999</th>\n",
       "      <td>1.0</td>\n",
       "      <td>1.0</td>\n",
       "      <td>1.0</td>\n",
       "      <td>133.920861</td>\n",
       "      <td>1.564621</td>\n",
       "      <td>3808.021317</td>\n",
       "    </tr>\n",
       "  </tbody>\n",
       "</table>\n",
       "<p>2000 rows × 6 columns</p>\n",
       "</div>"
      ],
      "text/plain": [
       "        0    1    2           3         4            5\n",
       "0     1.0  0.0  0.0  133.150861  1.311693  1620.221779\n",
       "1     1.0  0.0  0.0  126.724861  1.302745  1609.334822\n",
       "2     1.0  0.0  0.0  131.173861  1.319031  1568.978435\n",
       "3     1.0  0.0  0.0  129.478861  1.270878  1695.055281\n",
       "4     1.0  0.0  0.0  127.262861  1.329637  1647.720235\n",
       "...   ...  ...  ...         ...       ...          ...\n",
       "1995  1.0  1.0  1.0  157.498861  1.655794  5326.025889\n",
       "1996  1.0  1.0  1.0  152.404861  1.620345  5243.267754\n",
       "1997  1.0  1.0  1.0  134.672861  1.541987  3766.763222\n",
       "1998  1.0  1.0  1.0  142.926861  1.426381  4118.327320\n",
       "1999  1.0  1.0  1.0  133.920861  1.564621  3808.021317\n",
       "\n",
       "[2000 rows x 6 columns]"
      ]
     },
     "execution_count": 3,
     "metadata": {},
     "output_type": "execute_result"
    }
   ],
   "source": [
    "X"
   ]
  },
  {
   "cell_type": "markdown",
   "metadata": {},
   "source": [
    "Impritjg"
   ]
  },
  {
   "cell_type": "code",
   "execution_count": 4,
   "metadata": {},
   "outputs": [],
   "source": [
    "Y=df=pd.read_csv('mfeat-pix',delim_whitespace=True,header=None)"
   ]
  },
  {
   "cell_type": "code",
   "execution_count": 5,
   "metadata": {},
   "outputs": [
    {
     "data": {
      "text/html": [
       "<div>\n",
       "<style scoped>\n",
       "    .dataframe tbody tr th:only-of-type {\n",
       "        vertical-align: middle;\n",
       "    }\n",
       "\n",
       "    .dataframe tbody tr th {\n",
       "        vertical-align: top;\n",
       "    }\n",
       "\n",
       "    .dataframe thead th {\n",
       "        text-align: right;\n",
       "    }\n",
       "</style>\n",
       "<table border=\"1\" class=\"dataframe\">\n",
       "  <thead>\n",
       "    <tr style=\"text-align: right;\">\n",
       "      <th></th>\n",
       "      <th>0</th>\n",
       "      <th>1</th>\n",
       "      <th>2</th>\n",
       "      <th>3</th>\n",
       "      <th>4</th>\n",
       "      <th>5</th>\n",
       "      <th>6</th>\n",
       "      <th>7</th>\n",
       "      <th>8</th>\n",
       "      <th>9</th>\n",
       "      <th>...</th>\n",
       "      <th>230</th>\n",
       "      <th>231</th>\n",
       "      <th>232</th>\n",
       "      <th>233</th>\n",
       "      <th>234</th>\n",
       "      <th>235</th>\n",
       "      <th>236</th>\n",
       "      <th>237</th>\n",
       "      <th>238</th>\n",
       "      <th>239</th>\n",
       "    </tr>\n",
       "  </thead>\n",
       "  <tbody>\n",
       "    <tr>\n",
       "      <th>0</th>\n",
       "      <td>0</td>\n",
       "      <td>3</td>\n",
       "      <td>4</td>\n",
       "      <td>4</td>\n",
       "      <td>6</td>\n",
       "      <td>6</td>\n",
       "      <td>6</td>\n",
       "      <td>6</td>\n",
       "      <td>6</td>\n",
       "      <td>5</td>\n",
       "      <td>...</td>\n",
       "      <td>4</td>\n",
       "      <td>4</td>\n",
       "      <td>4</td>\n",
       "      <td>4</td>\n",
       "      <td>4</td>\n",
       "      <td>3</td>\n",
       "      <td>0</td>\n",
       "      <td>0</td>\n",
       "      <td>0</td>\n",
       "      <td>0</td>\n",
       "    </tr>\n",
       "    <tr>\n",
       "      <th>1</th>\n",
       "      <td>0</td>\n",
       "      <td>0</td>\n",
       "      <td>0</td>\n",
       "      <td>0</td>\n",
       "      <td>0</td>\n",
       "      <td>0</td>\n",
       "      <td>1</td>\n",
       "      <td>3</td>\n",
       "      <td>4</td>\n",
       "      <td>4</td>\n",
       "      <td>...</td>\n",
       "      <td>2</td>\n",
       "      <td>4</td>\n",
       "      <td>4</td>\n",
       "      <td>4</td>\n",
       "      <td>4</td>\n",
       "      <td>2</td>\n",
       "      <td>0</td>\n",
       "      <td>0</td>\n",
       "      <td>0</td>\n",
       "      <td>0</td>\n",
       "    </tr>\n",
       "    <tr>\n",
       "      <th>2</th>\n",
       "      <td>0</td>\n",
       "      <td>0</td>\n",
       "      <td>1</td>\n",
       "      <td>4</td>\n",
       "      <td>4</td>\n",
       "      <td>4</td>\n",
       "      <td>4</td>\n",
       "      <td>4</td>\n",
       "      <td>4</td>\n",
       "      <td>3</td>\n",
       "      <td>...</td>\n",
       "      <td>1</td>\n",
       "      <td>3</td>\n",
       "      <td>4</td>\n",
       "      <td>4</td>\n",
       "      <td>4</td>\n",
       "      <td>4</td>\n",
       "      <td>4</td>\n",
       "      <td>2</td>\n",
       "      <td>1</td>\n",
       "      <td>0</td>\n",
       "    </tr>\n",
       "    <tr>\n",
       "      <th>3</th>\n",
       "      <td>0</td>\n",
       "      <td>0</td>\n",
       "      <td>3</td>\n",
       "      <td>3</td>\n",
       "      <td>2</td>\n",
       "      <td>2</td>\n",
       "      <td>4</td>\n",
       "      <td>5</td>\n",
       "      <td>6</td>\n",
       "      <td>6</td>\n",
       "      <td>...</td>\n",
       "      <td>4</td>\n",
       "      <td>4</td>\n",
       "      <td>4</td>\n",
       "      <td>4</td>\n",
       "      <td>2</td>\n",
       "      <td>0</td>\n",
       "      <td>0</td>\n",
       "      <td>0</td>\n",
       "      <td>0</td>\n",
       "      <td>0</td>\n",
       "    </tr>\n",
       "    <tr>\n",
       "      <th>4</th>\n",
       "      <td>0</td>\n",
       "      <td>0</td>\n",
       "      <td>0</td>\n",
       "      <td>0</td>\n",
       "      <td>0</td>\n",
       "      <td>0</td>\n",
       "      <td>3</td>\n",
       "      <td>4</td>\n",
       "      <td>6</td>\n",
       "      <td>6</td>\n",
       "      <td>...</td>\n",
       "      <td>4</td>\n",
       "      <td>4</td>\n",
       "      <td>4</td>\n",
       "      <td>4</td>\n",
       "      <td>3</td>\n",
       "      <td>1</td>\n",
       "      <td>0</td>\n",
       "      <td>0</td>\n",
       "      <td>0</td>\n",
       "      <td>0</td>\n",
       "    </tr>\n",
       "    <tr>\n",
       "      <th>...</th>\n",
       "      <td>...</td>\n",
       "      <td>...</td>\n",
       "      <td>...</td>\n",
       "      <td>...</td>\n",
       "      <td>...</td>\n",
       "      <td>...</td>\n",
       "      <td>...</td>\n",
       "      <td>...</td>\n",
       "      <td>...</td>\n",
       "      <td>...</td>\n",
       "      <td>...</td>\n",
       "      <td>...</td>\n",
       "      <td>...</td>\n",
       "      <td>...</td>\n",
       "      <td>...</td>\n",
       "      <td>...</td>\n",
       "      <td>...</td>\n",
       "      <td>...</td>\n",
       "      <td>...</td>\n",
       "      <td>...</td>\n",
       "      <td>...</td>\n",
       "    </tr>\n",
       "    <tr>\n",
       "      <th>1995</th>\n",
       "      <td>0</td>\n",
       "      <td>0</td>\n",
       "      <td>0</td>\n",
       "      <td>1</td>\n",
       "      <td>3</td>\n",
       "      <td>4</td>\n",
       "      <td>5</td>\n",
       "      <td>6</td>\n",
       "      <td>4</td>\n",
       "      <td>4</td>\n",
       "      <td>...</td>\n",
       "      <td>4</td>\n",
       "      <td>4</td>\n",
       "      <td>4</td>\n",
       "      <td>4</td>\n",
       "      <td>4</td>\n",
       "      <td>4</td>\n",
       "      <td>4</td>\n",
       "      <td>0</td>\n",
       "      <td>0</td>\n",
       "      <td>0</td>\n",
       "    </tr>\n",
       "    <tr>\n",
       "      <th>1996</th>\n",
       "      <td>0</td>\n",
       "      <td>0</td>\n",
       "      <td>0</td>\n",
       "      <td>0</td>\n",
       "      <td>3</td>\n",
       "      <td>6</td>\n",
       "      <td>6</td>\n",
       "      <td>6</td>\n",
       "      <td>6</td>\n",
       "      <td>6</td>\n",
       "      <td>...</td>\n",
       "      <td>4</td>\n",
       "      <td>4</td>\n",
       "      <td>4</td>\n",
       "      <td>3</td>\n",
       "      <td>0</td>\n",
       "      <td>0</td>\n",
       "      <td>0</td>\n",
       "      <td>0</td>\n",
       "      <td>0</td>\n",
       "      <td>0</td>\n",
       "    </tr>\n",
       "    <tr>\n",
       "      <th>1997</th>\n",
       "      <td>0</td>\n",
       "      <td>0</td>\n",
       "      <td>0</td>\n",
       "      <td>2</td>\n",
       "      <td>4</td>\n",
       "      <td>4</td>\n",
       "      <td>4</td>\n",
       "      <td>6</td>\n",
       "      <td>4</td>\n",
       "      <td>4</td>\n",
       "      <td>...</td>\n",
       "      <td>0</td>\n",
       "      <td>2</td>\n",
       "      <td>4</td>\n",
       "      <td>4</td>\n",
       "      <td>4</td>\n",
       "      <td>1</td>\n",
       "      <td>0</td>\n",
       "      <td>0</td>\n",
       "      <td>0</td>\n",
       "      <td>0</td>\n",
       "    </tr>\n",
       "    <tr>\n",
       "      <th>1998</th>\n",
       "      <td>0</td>\n",
       "      <td>0</td>\n",
       "      <td>0</td>\n",
       "      <td>0</td>\n",
       "      <td>0</td>\n",
       "      <td>0</td>\n",
       "      <td>2</td>\n",
       "      <td>4</td>\n",
       "      <td>4</td>\n",
       "      <td>5</td>\n",
       "      <td>...</td>\n",
       "      <td>3</td>\n",
       "      <td>4</td>\n",
       "      <td>4</td>\n",
       "      <td>4</td>\n",
       "      <td>4</td>\n",
       "      <td>2</td>\n",
       "      <td>0</td>\n",
       "      <td>0</td>\n",
       "      <td>0</td>\n",
       "      <td>0</td>\n",
       "    </tr>\n",
       "    <tr>\n",
       "      <th>1999</th>\n",
       "      <td>0</td>\n",
       "      <td>0</td>\n",
       "      <td>1</td>\n",
       "      <td>5</td>\n",
       "      <td>6</td>\n",
       "      <td>6</td>\n",
       "      <td>6</td>\n",
       "      <td>6</td>\n",
       "      <td>6</td>\n",
       "      <td>6</td>\n",
       "      <td>...</td>\n",
       "      <td>4</td>\n",
       "      <td>4</td>\n",
       "      <td>1</td>\n",
       "      <td>0</td>\n",
       "      <td>0</td>\n",
       "      <td>0</td>\n",
       "      <td>0</td>\n",
       "      <td>0</td>\n",
       "      <td>0</td>\n",
       "      <td>0</td>\n",
       "    </tr>\n",
       "  </tbody>\n",
       "</table>\n",
       "<p>2000 rows × 240 columns</p>\n",
       "</div>"
      ],
      "text/plain": [
       "      0    1    2    3    4    5    6    7    8    9    ...  230  231  232  \\\n",
       "0       0    3    4    4    6    6    6    6    6    5  ...    4    4    4   \n",
       "1       0    0    0    0    0    0    1    3    4    4  ...    2    4    4   \n",
       "2       0    0    1    4    4    4    4    4    4    3  ...    1    3    4   \n",
       "3       0    0    3    3    2    2    4    5    6    6  ...    4    4    4   \n",
       "4       0    0    0    0    0    0    3    4    6    6  ...    4    4    4   \n",
       "...   ...  ...  ...  ...  ...  ...  ...  ...  ...  ...  ...  ...  ...  ...   \n",
       "1995    0    0    0    1    3    4    5    6    4    4  ...    4    4    4   \n",
       "1996    0    0    0    0    3    6    6    6    6    6  ...    4    4    4   \n",
       "1997    0    0    0    2    4    4    4    6    4    4  ...    0    2    4   \n",
       "1998    0    0    0    0    0    0    2    4    4    5  ...    3    4    4   \n",
       "1999    0    0    1    5    6    6    6    6    6    6  ...    4    4    1   \n",
       "\n",
       "      233  234  235  236  237  238  239  \n",
       "0       4    4    3    0    0    0    0  \n",
       "1       4    4    2    0    0    0    0  \n",
       "2       4    4    4    4    2    1    0  \n",
       "3       4    2    0    0    0    0    0  \n",
       "4       4    3    1    0    0    0    0  \n",
       "...   ...  ...  ...  ...  ...  ...  ...  \n",
       "1995    4    4    4    4    0    0    0  \n",
       "1996    3    0    0    0    0    0    0  \n",
       "1997    4    4    1    0    0    0    0  \n",
       "1998    4    4    2    0    0    0    0  \n",
       "1999    0    0    0    0    0    0    0  \n",
       "\n",
       "[2000 rows x 240 columns]"
      ]
     },
     "execution_count": 5,
     "metadata": {},
     "output_type": "execute_result"
    }
   ],
   "source": [
    "Y"
   ]
  },
  {
   "cell_type": "markdown",
   "metadata": {},
   "source": [
    "Calculating shape of each dataset by using shape function"
   ]
  },
  {
   "cell_type": "code",
   "execution_count": 6,
   "metadata": {},
   "outputs": [
    {
     "data": {
      "text/plain": [
       "(2000, 240)"
      ]
     },
     "execution_count": 6,
     "metadata": {},
     "output_type": "execute_result"
    }
   ],
   "source": [
    "Y.shape"
   ]
  },
  {
   "cell_type": "markdown",
   "metadata": {},
   "source": [
    "Reducing dataset column and rows for better results"
   ]
  },
  {
   "cell_type": "code",
   "execution_count": 7,
   "metadata": {},
   "outputs": [],
   "source": [
    "Y=Y[:10]"
   ]
  },
  {
   "cell_type": "code",
   "execution_count": 8,
   "metadata": {},
   "outputs": [
    {
     "data": {
      "text/html": [
       "<div>\n",
       "<style scoped>\n",
       "    .dataframe tbody tr th:only-of-type {\n",
       "        vertical-align: middle;\n",
       "    }\n",
       "\n",
       "    .dataframe tbody tr th {\n",
       "        vertical-align: top;\n",
       "    }\n",
       "\n",
       "    .dataframe thead th {\n",
       "        text-align: right;\n",
       "    }\n",
       "</style>\n",
       "<table border=\"1\" class=\"dataframe\">\n",
       "  <thead>\n",
       "    <tr style=\"text-align: right;\">\n",
       "      <th></th>\n",
       "      <th>0</th>\n",
       "      <th>1</th>\n",
       "      <th>2</th>\n",
       "      <th>3</th>\n",
       "      <th>4</th>\n",
       "      <th>5</th>\n",
       "      <th>6</th>\n",
       "      <th>7</th>\n",
       "      <th>8</th>\n",
       "      <th>9</th>\n",
       "      <th>...</th>\n",
       "      <th>230</th>\n",
       "      <th>231</th>\n",
       "      <th>232</th>\n",
       "      <th>233</th>\n",
       "      <th>234</th>\n",
       "      <th>235</th>\n",
       "      <th>236</th>\n",
       "      <th>237</th>\n",
       "      <th>238</th>\n",
       "      <th>239</th>\n",
       "    </tr>\n",
       "  </thead>\n",
       "  <tbody>\n",
       "    <tr>\n",
       "      <th>0</th>\n",
       "      <td>0</td>\n",
       "      <td>3</td>\n",
       "      <td>4</td>\n",
       "      <td>4</td>\n",
       "      <td>6</td>\n",
       "      <td>6</td>\n",
       "      <td>6</td>\n",
       "      <td>6</td>\n",
       "      <td>6</td>\n",
       "      <td>5</td>\n",
       "      <td>...</td>\n",
       "      <td>4</td>\n",
       "      <td>4</td>\n",
       "      <td>4</td>\n",
       "      <td>4</td>\n",
       "      <td>4</td>\n",
       "      <td>3</td>\n",
       "      <td>0</td>\n",
       "      <td>0</td>\n",
       "      <td>0</td>\n",
       "      <td>0</td>\n",
       "    </tr>\n",
       "    <tr>\n",
       "      <th>1</th>\n",
       "      <td>0</td>\n",
       "      <td>0</td>\n",
       "      <td>0</td>\n",
       "      <td>0</td>\n",
       "      <td>0</td>\n",
       "      <td>0</td>\n",
       "      <td>1</td>\n",
       "      <td>3</td>\n",
       "      <td>4</td>\n",
       "      <td>4</td>\n",
       "      <td>...</td>\n",
       "      <td>2</td>\n",
       "      <td>4</td>\n",
       "      <td>4</td>\n",
       "      <td>4</td>\n",
       "      <td>4</td>\n",
       "      <td>2</td>\n",
       "      <td>0</td>\n",
       "      <td>0</td>\n",
       "      <td>0</td>\n",
       "      <td>0</td>\n",
       "    </tr>\n",
       "    <tr>\n",
       "      <th>2</th>\n",
       "      <td>0</td>\n",
       "      <td>0</td>\n",
       "      <td>1</td>\n",
       "      <td>4</td>\n",
       "      <td>4</td>\n",
       "      <td>4</td>\n",
       "      <td>4</td>\n",
       "      <td>4</td>\n",
       "      <td>4</td>\n",
       "      <td>3</td>\n",
       "      <td>...</td>\n",
       "      <td>1</td>\n",
       "      <td>3</td>\n",
       "      <td>4</td>\n",
       "      <td>4</td>\n",
       "      <td>4</td>\n",
       "      <td>4</td>\n",
       "      <td>4</td>\n",
       "      <td>2</td>\n",
       "      <td>1</td>\n",
       "      <td>0</td>\n",
       "    </tr>\n",
       "    <tr>\n",
       "      <th>3</th>\n",
       "      <td>0</td>\n",
       "      <td>0</td>\n",
       "      <td>3</td>\n",
       "      <td>3</td>\n",
       "      <td>2</td>\n",
       "      <td>2</td>\n",
       "      <td>4</td>\n",
       "      <td>5</td>\n",
       "      <td>6</td>\n",
       "      <td>6</td>\n",
       "      <td>...</td>\n",
       "      <td>4</td>\n",
       "      <td>4</td>\n",
       "      <td>4</td>\n",
       "      <td>4</td>\n",
       "      <td>2</td>\n",
       "      <td>0</td>\n",
       "      <td>0</td>\n",
       "      <td>0</td>\n",
       "      <td>0</td>\n",
       "      <td>0</td>\n",
       "    </tr>\n",
       "    <tr>\n",
       "      <th>4</th>\n",
       "      <td>0</td>\n",
       "      <td>0</td>\n",
       "      <td>0</td>\n",
       "      <td>0</td>\n",
       "      <td>0</td>\n",
       "      <td>0</td>\n",
       "      <td>3</td>\n",
       "      <td>4</td>\n",
       "      <td>6</td>\n",
       "      <td>6</td>\n",
       "      <td>...</td>\n",
       "      <td>4</td>\n",
       "      <td>4</td>\n",
       "      <td>4</td>\n",
       "      <td>4</td>\n",
       "      <td>3</td>\n",
       "      <td>1</td>\n",
       "      <td>0</td>\n",
       "      <td>0</td>\n",
       "      <td>0</td>\n",
       "      <td>0</td>\n",
       "    </tr>\n",
       "    <tr>\n",
       "      <th>5</th>\n",
       "      <td>0</td>\n",
       "      <td>0</td>\n",
       "      <td>0</td>\n",
       "      <td>0</td>\n",
       "      <td>0</td>\n",
       "      <td>0</td>\n",
       "      <td>0</td>\n",
       "      <td>0</td>\n",
       "      <td>0</td>\n",
       "      <td>5</td>\n",
       "      <td>...</td>\n",
       "      <td>4</td>\n",
       "      <td>4</td>\n",
       "      <td>2</td>\n",
       "      <td>0</td>\n",
       "      <td>0</td>\n",
       "      <td>0</td>\n",
       "      <td>0</td>\n",
       "      <td>0</td>\n",
       "      <td>0</td>\n",
       "      <td>0</td>\n",
       "    </tr>\n",
       "    <tr>\n",
       "      <th>6</th>\n",
       "      <td>0</td>\n",
       "      <td>3</td>\n",
       "      <td>4</td>\n",
       "      <td>4</td>\n",
       "      <td>6</td>\n",
       "      <td>6</td>\n",
       "      <td>6</td>\n",
       "      <td>5</td>\n",
       "      <td>4</td>\n",
       "      <td>5</td>\n",
       "      <td>...</td>\n",
       "      <td>4</td>\n",
       "      <td>4</td>\n",
       "      <td>4</td>\n",
       "      <td>4</td>\n",
       "      <td>4</td>\n",
       "      <td>4</td>\n",
       "      <td>4</td>\n",
       "      <td>3</td>\n",
       "      <td>0</td>\n",
       "      <td>0</td>\n",
       "    </tr>\n",
       "    <tr>\n",
       "      <th>7</th>\n",
       "      <td>0</td>\n",
       "      <td>0</td>\n",
       "      <td>0</td>\n",
       "      <td>3</td>\n",
       "      <td>6</td>\n",
       "      <td>6</td>\n",
       "      <td>6</td>\n",
       "      <td>6</td>\n",
       "      <td>6</td>\n",
       "      <td>6</td>\n",
       "      <td>...</td>\n",
       "      <td>4</td>\n",
       "      <td>4</td>\n",
       "      <td>4</td>\n",
       "      <td>4</td>\n",
       "      <td>3</td>\n",
       "      <td>0</td>\n",
       "      <td>0</td>\n",
       "      <td>0</td>\n",
       "      <td>0</td>\n",
       "      <td>0</td>\n",
       "    </tr>\n",
       "    <tr>\n",
       "      <th>8</th>\n",
       "      <td>0</td>\n",
       "      <td>0</td>\n",
       "      <td>3</td>\n",
       "      <td>4</td>\n",
       "      <td>6</td>\n",
       "      <td>6</td>\n",
       "      <td>6</td>\n",
       "      <td>6</td>\n",
       "      <td>6</td>\n",
       "      <td>6</td>\n",
       "      <td>...</td>\n",
       "      <td>4</td>\n",
       "      <td>4</td>\n",
       "      <td>4</td>\n",
       "      <td>4</td>\n",
       "      <td>4</td>\n",
       "      <td>4</td>\n",
       "      <td>4</td>\n",
       "      <td>4</td>\n",
       "      <td>1</td>\n",
       "      <td>0</td>\n",
       "    </tr>\n",
       "    <tr>\n",
       "      <th>9</th>\n",
       "      <td>0</td>\n",
       "      <td>1</td>\n",
       "      <td>2</td>\n",
       "      <td>4</td>\n",
       "      <td>4</td>\n",
       "      <td>4</td>\n",
       "      <td>4</td>\n",
       "      <td>4</td>\n",
       "      <td>4</td>\n",
       "      <td>4</td>\n",
       "      <td>...</td>\n",
       "      <td>2</td>\n",
       "      <td>2</td>\n",
       "      <td>3</td>\n",
       "      <td>3</td>\n",
       "      <td>2</td>\n",
       "      <td>2</td>\n",
       "      <td>2</td>\n",
       "      <td>2</td>\n",
       "      <td>1</td>\n",
       "      <td>0</td>\n",
       "    </tr>\n",
       "  </tbody>\n",
       "</table>\n",
       "<p>10 rows × 240 columns</p>\n",
       "</div>"
      ],
      "text/plain": [
       "   0    1    2    3    4    5    6    7    8    9    ...  230  231  232  233  \\\n",
       "0    0    3    4    4    6    6    6    6    6    5  ...    4    4    4    4   \n",
       "1    0    0    0    0    0    0    1    3    4    4  ...    2    4    4    4   \n",
       "2    0    0    1    4    4    4    4    4    4    3  ...    1    3    4    4   \n",
       "3    0    0    3    3    2    2    4    5    6    6  ...    4    4    4    4   \n",
       "4    0    0    0    0    0    0    3    4    6    6  ...    4    4    4    4   \n",
       "5    0    0    0    0    0    0    0    0    0    5  ...    4    4    2    0   \n",
       "6    0    3    4    4    6    6    6    5    4    5  ...    4    4    4    4   \n",
       "7    0    0    0    3    6    6    6    6    6    6  ...    4    4    4    4   \n",
       "8    0    0    3    4    6    6    6    6    6    6  ...    4    4    4    4   \n",
       "9    0    1    2    4    4    4    4    4    4    4  ...    2    2    3    3   \n",
       "\n",
       "   234  235  236  237  238  239  \n",
       "0    4    3    0    0    0    0  \n",
       "1    4    2    0    0    0    0  \n",
       "2    4    4    4    2    1    0  \n",
       "3    2    0    0    0    0    0  \n",
       "4    3    1    0    0    0    0  \n",
       "5    0    0    0    0    0    0  \n",
       "6    4    4    4    3    0    0  \n",
       "7    3    0    0    0    0    0  \n",
       "8    4    4    4    4    1    0  \n",
       "9    2    2    2    2    1    0  \n",
       "\n",
       "[10 rows x 240 columns]"
      ]
     },
     "execution_count": 8,
     "metadata": {},
     "output_type": "execute_result"
    }
   ],
   "source": [
    "Y"
   ]
  },
  {
   "cell_type": "code",
   "execution_count": 9,
   "metadata": {},
   "outputs": [
    {
     "data": {
      "text/html": [
       "<div>\n",
       "<style scoped>\n",
       "    .dataframe tbody tr th:only-of-type {\n",
       "        vertical-align: middle;\n",
       "    }\n",
       "\n",
       "    .dataframe tbody tr th {\n",
       "        vertical-align: top;\n",
       "    }\n",
       "\n",
       "    .dataframe thead th {\n",
       "        text-align: right;\n",
       "    }\n",
       "</style>\n",
       "<table border=\"1\" class=\"dataframe\">\n",
       "  <thead>\n",
       "    <tr style=\"text-align: right;\">\n",
       "      <th></th>\n",
       "      <th>0</th>\n",
       "      <th>1</th>\n",
       "      <th>2</th>\n",
       "      <th>3</th>\n",
       "      <th>4</th>\n",
       "      <th>5</th>\n",
       "    </tr>\n",
       "  </thead>\n",
       "  <tbody>\n",
       "    <tr>\n",
       "      <th>0</th>\n",
       "      <td>1.0</td>\n",
       "      <td>0.0</td>\n",
       "      <td>0.0</td>\n",
       "      <td>133.150861</td>\n",
       "      <td>1.311693</td>\n",
       "      <td>1620.221779</td>\n",
       "    </tr>\n",
       "    <tr>\n",
       "      <th>1</th>\n",
       "      <td>1.0</td>\n",
       "      <td>0.0</td>\n",
       "      <td>0.0</td>\n",
       "      <td>126.724861</td>\n",
       "      <td>1.302745</td>\n",
       "      <td>1609.334822</td>\n",
       "    </tr>\n",
       "    <tr>\n",
       "      <th>2</th>\n",
       "      <td>1.0</td>\n",
       "      <td>0.0</td>\n",
       "      <td>0.0</td>\n",
       "      <td>131.173861</td>\n",
       "      <td>1.319031</td>\n",
       "      <td>1568.978435</td>\n",
       "    </tr>\n",
       "    <tr>\n",
       "      <th>3</th>\n",
       "      <td>1.0</td>\n",
       "      <td>0.0</td>\n",
       "      <td>0.0</td>\n",
       "      <td>129.478861</td>\n",
       "      <td>1.270878</td>\n",
       "      <td>1695.055281</td>\n",
       "    </tr>\n",
       "    <tr>\n",
       "      <th>4</th>\n",
       "      <td>1.0</td>\n",
       "      <td>0.0</td>\n",
       "      <td>0.0</td>\n",
       "      <td>127.262861</td>\n",
       "      <td>1.329637</td>\n",
       "      <td>1647.720235</td>\n",
       "    </tr>\n",
       "    <tr>\n",
       "      <th>5</th>\n",
       "      <td>1.0</td>\n",
       "      <td>0.0</td>\n",
       "      <td>0.0</td>\n",
       "      <td>131.058861</td>\n",
       "      <td>1.310403</td>\n",
       "      <td>2027.211367</td>\n",
       "    </tr>\n",
       "    <tr>\n",
       "      <th>6</th>\n",
       "      <td>1.0</td>\n",
       "      <td>0.0</td>\n",
       "      <td>0.0</td>\n",
       "      <td>138.442861</td>\n",
       "      <td>1.379906</td>\n",
       "      <td>1918.750472</td>\n",
       "    </tr>\n",
       "    <tr>\n",
       "      <th>7</th>\n",
       "      <td>1.0</td>\n",
       "      <td>0.0</td>\n",
       "      <td>0.0</td>\n",
       "      <td>129.346861</td>\n",
       "      <td>1.305646</td>\n",
       "      <td>1547.263727</td>\n",
       "    </tr>\n",
       "    <tr>\n",
       "      <th>8</th>\n",
       "      <td>1.0</td>\n",
       "      <td>0.0</td>\n",
       "      <td>0.0</td>\n",
       "      <td>139.542861</td>\n",
       "      <td>1.374661</td>\n",
       "      <td>1871.055934</td>\n",
       "    </tr>\n",
       "    <tr>\n",
       "      <th>9</th>\n",
       "      <td>1.0</td>\n",
       "      <td>0.0</td>\n",
       "      <td>0.0</td>\n",
       "      <td>132.628861</td>\n",
       "      <td>1.374434</td>\n",
       "      <td>1884.680458</td>\n",
       "    </tr>\n",
       "  </tbody>\n",
       "</table>\n",
       "</div>"
      ],
      "text/plain": [
       "     0    1    2           3         4            5\n",
       "0  1.0  0.0  0.0  133.150861  1.311693  1620.221779\n",
       "1  1.0  0.0  0.0  126.724861  1.302745  1609.334822\n",
       "2  1.0  0.0  0.0  131.173861  1.319031  1568.978435\n",
       "3  1.0  0.0  0.0  129.478861  1.270878  1695.055281\n",
       "4  1.0  0.0  0.0  127.262861  1.329637  1647.720235\n",
       "5  1.0  0.0  0.0  131.058861  1.310403  2027.211367\n",
       "6  1.0  0.0  0.0  138.442861  1.379906  1918.750472\n",
       "7  1.0  0.0  0.0  129.346861  1.305646  1547.263727\n",
       "8  1.0  0.0  0.0  139.542861  1.374661  1871.055934\n",
       "9  1.0  0.0  0.0  132.628861  1.374434  1884.680458"
      ]
     },
     "execution_count": 9,
     "metadata": {},
     "output_type": "execute_result"
    }
   ],
   "source": [
    "X=X[:10]\n",
    "X"
   ]
  },
  {
   "cell_type": "code",
   "execution_count": 10,
   "metadata": {},
   "outputs": [
    {
     "name": "stderr",
     "output_type": "stream",
     "text": [
      "c:\\users\\khushi\\appdata\\local\\programs\\python\\python38-32\\lib\\site-packages\\pandas\\core\\frame.py:4162: SettingWithCopyWarning: \n",
      "A value is trying to be set on a copy of a slice from a DataFrame\n",
      "\n",
      "See the caveats in the documentation: https://pandas.pydata.org/pandas-docs/stable/user_guide/indexing.html#returning-a-view-versus-a-copy\n",
      "  return super().drop(\n"
     ]
    }
   ],
   "source": [
    "Y.drop(Y.iloc[:, 7:], inplace = True, axis = 1) \n",
    "  "
   ]
  },
  {
   "cell_type": "code",
   "execution_count": 11,
   "metadata": {},
   "outputs": [
    {
     "data": {
      "text/html": [
       "<div>\n",
       "<style scoped>\n",
       "    .dataframe tbody tr th:only-of-type {\n",
       "        vertical-align: middle;\n",
       "    }\n",
       "\n",
       "    .dataframe tbody tr th {\n",
       "        vertical-align: top;\n",
       "    }\n",
       "\n",
       "    .dataframe thead th {\n",
       "        text-align: right;\n",
       "    }\n",
       "</style>\n",
       "<table border=\"1\" class=\"dataframe\">\n",
       "  <thead>\n",
       "    <tr style=\"text-align: right;\">\n",
       "      <th></th>\n",
       "      <th>0</th>\n",
       "      <th>1</th>\n",
       "      <th>2</th>\n",
       "      <th>3</th>\n",
       "      <th>4</th>\n",
       "      <th>5</th>\n",
       "      <th>6</th>\n",
       "    </tr>\n",
       "  </thead>\n",
       "  <tbody>\n",
       "    <tr>\n",
       "      <th>0</th>\n",
       "      <td>0</td>\n",
       "      <td>3</td>\n",
       "      <td>4</td>\n",
       "      <td>4</td>\n",
       "      <td>6</td>\n",
       "      <td>6</td>\n",
       "      <td>6</td>\n",
       "    </tr>\n",
       "    <tr>\n",
       "      <th>1</th>\n",
       "      <td>0</td>\n",
       "      <td>0</td>\n",
       "      <td>0</td>\n",
       "      <td>0</td>\n",
       "      <td>0</td>\n",
       "      <td>0</td>\n",
       "      <td>1</td>\n",
       "    </tr>\n",
       "    <tr>\n",
       "      <th>2</th>\n",
       "      <td>0</td>\n",
       "      <td>0</td>\n",
       "      <td>1</td>\n",
       "      <td>4</td>\n",
       "      <td>4</td>\n",
       "      <td>4</td>\n",
       "      <td>4</td>\n",
       "    </tr>\n",
       "    <tr>\n",
       "      <th>3</th>\n",
       "      <td>0</td>\n",
       "      <td>0</td>\n",
       "      <td>3</td>\n",
       "      <td>3</td>\n",
       "      <td>2</td>\n",
       "      <td>2</td>\n",
       "      <td>4</td>\n",
       "    </tr>\n",
       "    <tr>\n",
       "      <th>4</th>\n",
       "      <td>0</td>\n",
       "      <td>0</td>\n",
       "      <td>0</td>\n",
       "      <td>0</td>\n",
       "      <td>0</td>\n",
       "      <td>0</td>\n",
       "      <td>3</td>\n",
       "    </tr>\n",
       "    <tr>\n",
       "      <th>5</th>\n",
       "      <td>0</td>\n",
       "      <td>0</td>\n",
       "      <td>0</td>\n",
       "      <td>0</td>\n",
       "      <td>0</td>\n",
       "      <td>0</td>\n",
       "      <td>0</td>\n",
       "    </tr>\n",
       "    <tr>\n",
       "      <th>6</th>\n",
       "      <td>0</td>\n",
       "      <td>3</td>\n",
       "      <td>4</td>\n",
       "      <td>4</td>\n",
       "      <td>6</td>\n",
       "      <td>6</td>\n",
       "      <td>6</td>\n",
       "    </tr>\n",
       "    <tr>\n",
       "      <th>7</th>\n",
       "      <td>0</td>\n",
       "      <td>0</td>\n",
       "      <td>0</td>\n",
       "      <td>3</td>\n",
       "      <td>6</td>\n",
       "      <td>6</td>\n",
       "      <td>6</td>\n",
       "    </tr>\n",
       "    <tr>\n",
       "      <th>8</th>\n",
       "      <td>0</td>\n",
       "      <td>0</td>\n",
       "      <td>3</td>\n",
       "      <td>4</td>\n",
       "      <td>6</td>\n",
       "      <td>6</td>\n",
       "      <td>6</td>\n",
       "    </tr>\n",
       "    <tr>\n",
       "      <th>9</th>\n",
       "      <td>0</td>\n",
       "      <td>1</td>\n",
       "      <td>2</td>\n",
       "      <td>4</td>\n",
       "      <td>4</td>\n",
       "      <td>4</td>\n",
       "      <td>4</td>\n",
       "    </tr>\n",
       "  </tbody>\n",
       "</table>\n",
       "</div>"
      ],
      "text/plain": [
       "   0  1  2  3  4  5  6\n",
       "0  0  3  4  4  6  6  6\n",
       "1  0  0  0  0  0  0  1\n",
       "2  0  0  1  4  4  4  4\n",
       "3  0  0  3  3  2  2  4\n",
       "4  0  0  0  0  0  0  3\n",
       "5  0  0  0  0  0  0  0\n",
       "6  0  3  4  4  6  6  6\n",
       "7  0  0  0  3  6  6  6\n",
       "8  0  0  3  4  6  6  6\n",
       "9  0  1  2  4  4  4  4"
      ]
     },
     "execution_count": 11,
     "metadata": {},
     "output_type": "execute_result"
    }
   ],
   "source": [
    "Y"
   ]
  },
  {
   "cell_type": "markdown",
   "metadata": {},
   "source": [
    "Our both datsets have now equal no of rows and as well as columns for ex in this (6,6)"
   ]
  },
  {
   "cell_type": "code",
   "execution_count": 12,
   "metadata": {},
   "outputs": [
    {
     "name": "stderr",
     "output_type": "stream",
     "text": [
      "c:\\users\\khushi\\appdata\\local\\programs\\python\\python38-32\\lib\\site-packages\\pandas\\core\\frame.py:4162: SettingWithCopyWarning: \n",
      "A value is trying to be set on a copy of a slice from a DataFrame\n",
      "\n",
      "See the caveats in the documentation: https://pandas.pydata.org/pandas-docs/stable/user_guide/indexing.html#returning-a-view-versus-a-copy\n",
      "  return super().drop(\n"
     ]
    }
   ],
   "source": [
    "Y.drop(Y.iloc[:, 6:], inplace = True, axis = 1) \n",
    "  "
   ]
  },
  {
   "cell_type": "code",
   "execution_count": 13,
   "metadata": {},
   "outputs": [
    {
     "data": {
      "text/html": [
       "<div>\n",
       "<style scoped>\n",
       "    .dataframe tbody tr th:only-of-type {\n",
       "        vertical-align: middle;\n",
       "    }\n",
       "\n",
       "    .dataframe tbody tr th {\n",
       "        vertical-align: top;\n",
       "    }\n",
       "\n",
       "    .dataframe thead th {\n",
       "        text-align: right;\n",
       "    }\n",
       "</style>\n",
       "<table border=\"1\" class=\"dataframe\">\n",
       "  <thead>\n",
       "    <tr style=\"text-align: right;\">\n",
       "      <th></th>\n",
       "      <th>0</th>\n",
       "      <th>1</th>\n",
       "      <th>2</th>\n",
       "      <th>3</th>\n",
       "      <th>4</th>\n",
       "      <th>5</th>\n",
       "    </tr>\n",
       "  </thead>\n",
       "  <tbody>\n",
       "    <tr>\n",
       "      <th>0</th>\n",
       "      <td>0</td>\n",
       "      <td>3</td>\n",
       "      <td>4</td>\n",
       "      <td>4</td>\n",
       "      <td>6</td>\n",
       "      <td>6</td>\n",
       "    </tr>\n",
       "    <tr>\n",
       "      <th>1</th>\n",
       "      <td>0</td>\n",
       "      <td>0</td>\n",
       "      <td>0</td>\n",
       "      <td>0</td>\n",
       "      <td>0</td>\n",
       "      <td>0</td>\n",
       "    </tr>\n",
       "    <tr>\n",
       "      <th>2</th>\n",
       "      <td>0</td>\n",
       "      <td>0</td>\n",
       "      <td>1</td>\n",
       "      <td>4</td>\n",
       "      <td>4</td>\n",
       "      <td>4</td>\n",
       "    </tr>\n",
       "    <tr>\n",
       "      <th>3</th>\n",
       "      <td>0</td>\n",
       "      <td>0</td>\n",
       "      <td>3</td>\n",
       "      <td>3</td>\n",
       "      <td>2</td>\n",
       "      <td>2</td>\n",
       "    </tr>\n",
       "    <tr>\n",
       "      <th>4</th>\n",
       "      <td>0</td>\n",
       "      <td>0</td>\n",
       "      <td>0</td>\n",
       "      <td>0</td>\n",
       "      <td>0</td>\n",
       "      <td>0</td>\n",
       "    </tr>\n",
       "    <tr>\n",
       "      <th>5</th>\n",
       "      <td>0</td>\n",
       "      <td>0</td>\n",
       "      <td>0</td>\n",
       "      <td>0</td>\n",
       "      <td>0</td>\n",
       "      <td>0</td>\n",
       "    </tr>\n",
       "    <tr>\n",
       "      <th>6</th>\n",
       "      <td>0</td>\n",
       "      <td>3</td>\n",
       "      <td>4</td>\n",
       "      <td>4</td>\n",
       "      <td>6</td>\n",
       "      <td>6</td>\n",
       "    </tr>\n",
       "    <tr>\n",
       "      <th>7</th>\n",
       "      <td>0</td>\n",
       "      <td>0</td>\n",
       "      <td>0</td>\n",
       "      <td>3</td>\n",
       "      <td>6</td>\n",
       "      <td>6</td>\n",
       "    </tr>\n",
       "    <tr>\n",
       "      <th>8</th>\n",
       "      <td>0</td>\n",
       "      <td>0</td>\n",
       "      <td>3</td>\n",
       "      <td>4</td>\n",
       "      <td>6</td>\n",
       "      <td>6</td>\n",
       "    </tr>\n",
       "    <tr>\n",
       "      <th>9</th>\n",
       "      <td>0</td>\n",
       "      <td>1</td>\n",
       "      <td>2</td>\n",
       "      <td>4</td>\n",
       "      <td>4</td>\n",
       "      <td>4</td>\n",
       "    </tr>\n",
       "  </tbody>\n",
       "</table>\n",
       "</div>"
      ],
      "text/plain": [
       "   0  1  2  3  4  5\n",
       "0  0  3  4  4  6  6\n",
       "1  0  0  0  0  0  0\n",
       "2  0  0  1  4  4  4\n",
       "3  0  0  3  3  2  2\n",
       "4  0  0  0  0  0  0\n",
       "5  0  0  0  0  0  0\n",
       "6  0  3  4  4  6  6\n",
       "7  0  0  0  3  6  6\n",
       "8  0  0  3  4  6  6\n",
       "9  0  1  2  4  4  4"
      ]
     },
     "execution_count": 13,
     "metadata": {},
     "output_type": "execute_result"
    }
   ],
   "source": [
    "Y"
   ]
  },
  {
   "cell_type": "code",
   "execution_count": 14,
   "metadata": {},
   "outputs": [
    {
     "data": {
      "text/html": [
       "<div>\n",
       "<style scoped>\n",
       "    .dataframe tbody tr th:only-of-type {\n",
       "        vertical-align: middle;\n",
       "    }\n",
       "\n",
       "    .dataframe tbody tr th {\n",
       "        vertical-align: top;\n",
       "    }\n",
       "\n",
       "    .dataframe thead th {\n",
       "        text-align: right;\n",
       "    }\n",
       "</style>\n",
       "<table border=\"1\" class=\"dataframe\">\n",
       "  <thead>\n",
       "    <tr style=\"text-align: right;\">\n",
       "      <th></th>\n",
       "      <th>0</th>\n",
       "      <th>1</th>\n",
       "      <th>2</th>\n",
       "      <th>3</th>\n",
       "      <th>4</th>\n",
       "      <th>5</th>\n",
       "    </tr>\n",
       "  </thead>\n",
       "  <tbody>\n",
       "    <tr>\n",
       "      <th>0</th>\n",
       "      <td>1.0</td>\n",
       "      <td>0.0</td>\n",
       "      <td>0.0</td>\n",
       "      <td>133.150861</td>\n",
       "      <td>1.311693</td>\n",
       "      <td>1620.221779</td>\n",
       "    </tr>\n",
       "    <tr>\n",
       "      <th>1</th>\n",
       "      <td>1.0</td>\n",
       "      <td>0.0</td>\n",
       "      <td>0.0</td>\n",
       "      <td>126.724861</td>\n",
       "      <td>1.302745</td>\n",
       "      <td>1609.334822</td>\n",
       "    </tr>\n",
       "    <tr>\n",
       "      <th>2</th>\n",
       "      <td>1.0</td>\n",
       "      <td>0.0</td>\n",
       "      <td>0.0</td>\n",
       "      <td>131.173861</td>\n",
       "      <td>1.319031</td>\n",
       "      <td>1568.978435</td>\n",
       "    </tr>\n",
       "    <tr>\n",
       "      <th>3</th>\n",
       "      <td>1.0</td>\n",
       "      <td>0.0</td>\n",
       "      <td>0.0</td>\n",
       "      <td>129.478861</td>\n",
       "      <td>1.270878</td>\n",
       "      <td>1695.055281</td>\n",
       "    </tr>\n",
       "    <tr>\n",
       "      <th>4</th>\n",
       "      <td>1.0</td>\n",
       "      <td>0.0</td>\n",
       "      <td>0.0</td>\n",
       "      <td>127.262861</td>\n",
       "      <td>1.329637</td>\n",
       "      <td>1647.720235</td>\n",
       "    </tr>\n",
       "    <tr>\n",
       "      <th>5</th>\n",
       "      <td>1.0</td>\n",
       "      <td>0.0</td>\n",
       "      <td>0.0</td>\n",
       "      <td>131.058861</td>\n",
       "      <td>1.310403</td>\n",
       "      <td>2027.211367</td>\n",
       "    </tr>\n",
       "    <tr>\n",
       "      <th>6</th>\n",
       "      <td>1.0</td>\n",
       "      <td>0.0</td>\n",
       "      <td>0.0</td>\n",
       "      <td>138.442861</td>\n",
       "      <td>1.379906</td>\n",
       "      <td>1918.750472</td>\n",
       "    </tr>\n",
       "    <tr>\n",
       "      <th>7</th>\n",
       "      <td>1.0</td>\n",
       "      <td>0.0</td>\n",
       "      <td>0.0</td>\n",
       "      <td>129.346861</td>\n",
       "      <td>1.305646</td>\n",
       "      <td>1547.263727</td>\n",
       "    </tr>\n",
       "    <tr>\n",
       "      <th>8</th>\n",
       "      <td>1.0</td>\n",
       "      <td>0.0</td>\n",
       "      <td>0.0</td>\n",
       "      <td>139.542861</td>\n",
       "      <td>1.374661</td>\n",
       "      <td>1871.055934</td>\n",
       "    </tr>\n",
       "    <tr>\n",
       "      <th>9</th>\n",
       "      <td>1.0</td>\n",
       "      <td>0.0</td>\n",
       "      <td>0.0</td>\n",
       "      <td>132.628861</td>\n",
       "      <td>1.374434</td>\n",
       "      <td>1884.680458</td>\n",
       "    </tr>\n",
       "  </tbody>\n",
       "</table>\n",
       "</div>"
      ],
      "text/plain": [
       "     0    1    2           3         4            5\n",
       "0  1.0  0.0  0.0  133.150861  1.311693  1620.221779\n",
       "1  1.0  0.0  0.0  126.724861  1.302745  1609.334822\n",
       "2  1.0  0.0  0.0  131.173861  1.319031  1568.978435\n",
       "3  1.0  0.0  0.0  129.478861  1.270878  1695.055281\n",
       "4  1.0  0.0  0.0  127.262861  1.329637  1647.720235\n",
       "5  1.0  0.0  0.0  131.058861  1.310403  2027.211367\n",
       "6  1.0  0.0  0.0  138.442861  1.379906  1918.750472\n",
       "7  1.0  0.0  0.0  129.346861  1.305646  1547.263727\n",
       "8  1.0  0.0  0.0  139.542861  1.374661  1871.055934\n",
       "9  1.0  0.0  0.0  132.628861  1.374434  1884.680458"
      ]
     },
     "execution_count": 14,
     "metadata": {},
     "output_type": "execute_result"
    }
   ],
   "source": [
    "X"
   ]
  },
  {
   "cell_type": "code",
   "execution_count": 15,
   "metadata": {},
   "outputs": [],
   "source": [
    "row,n=X.shape"
   ]
  },
  {
   "cell_type": "code",
   "execution_count": 16,
   "metadata": {},
   "outputs": [
    {
     "data": {
      "text/plain": [
       "6"
      ]
     },
     "execution_count": 16,
     "metadata": {},
     "output_type": "execute_result"
    }
   ],
   "source": [
    "n"
   ]
  },
  {
   "cell_type": "markdown",
   "metadata": {},
   "source": [
    "## Mathematical Formulation Implementation\n"
   ]
  },
  {
   "cell_type": "markdown",
   "metadata": {},
   "source": [
    "##  Creation of Covariance Matrix for the datasets "
   ]
  },
  {
   "cell_type": "markdown",
   "metadata": {},
   "source": [
    "Notations Used for calculation of Covariance matrices \n",
    "1. Cxy=Covariance matrices between datasets x and y\n",
    "2. Cyy=Covariance matrices between datasets y and y\n",
    "3. Cxx=Covariance matrices between datasets x and x"
   ]
  },
  {
   "cell_type": "markdown",
   "metadata": {},
   "source": [
    "Dot function returns the dot product of two arrays. For 2-D vectors, it is the equivalent to matrix multiplication."
   ]
  },
  {
   "cell_type": "code",
   "execution_count": 17,
   "metadata": {},
   "outputs": [],
   "source": [
    "Cxy=np.dot(X,Y.T)"
   ]
  },
  {
   "cell_type": "code",
   "execution_count": 18,
   "metadata": {},
   "outputs": [
    {
     "data": {
      "text/plain": [
       "array([[1710.30071261,    0.        , 1169.78955539,  607.08658793,\n",
       "           0.        ,    0.        , 1710.30071261, 1688.10890238,\n",
       "        1710.30071261, 1169.78955539],\n",
       "       [1695.12080798,    0.        , 1158.24161897,  600.24161972,\n",
       "           0.        ,    0.        , 1695.12080798, 1673.99999775,\n",
       "        1695.12080798, 1158.24161897],\n",
       "       [1657.74670663,    0.        , 1134.31421807,  589.01941927,\n",
       "           0.        ,    0.        , 1657.74670663, 1635.8843964 ,\n",
       "        1657.74670663, 1134.31421807],\n",
       "       [1782.64540052,    0.        , 1217.20334733,  630.1814839 ,\n",
       "           0.        ,    0.        , 1782.64540052, 1761.06559029,\n",
       "        1782.64540052, 1217.20334733],\n",
       "       [1733.89177921,    0.        , 1184.20848867,  613.31472124,\n",
       "           0.        ,    0.        , 1733.89177921, 1712.68130231,\n",
       "        1733.89177921, 1184.20848867],\n",
       "       [2115.89434403,    0.        , 1439.72042077,  741.70335395,\n",
       "           0.        ,    0.        , 2115.89434403, 2094.05120046,\n",
       "        2115.89434403, 1439.72042077],\n",
       "       [2012.42561838,    0.        , 1372.38215923,  709.26488985,\n",
       "           0.        ,    0.        , 2012.42561838, 1989.35180815,\n",
       "        2012.42561838, 1372.38215923],\n",
       "       [1634.8006142 ,    0.        , 1118.61082311,  580.86322179,\n",
       "           0.        ,    0.        , 1634.8006142 , 1613.24280397,\n",
       "        1634.8006142 , 1118.61082311],\n",
       "       [1965.45917015,    0.        , 1341.31563819,  693.91496266,\n",
       "           0.        ,    0.        , 1965.45917015, 1942.20202658,\n",
       "        1965.45917015, 1341.31563819],\n",
       "       [1974.47413326,    0.        , 1345.78916915,  694.99939481,\n",
       "           0.        ,    0.        , 1974.47413326, 1952.36932303,\n",
       "        1974.47413326, 1345.78916915]])"
      ]
     },
     "execution_count": 18,
     "metadata": {},
     "output_type": "execute_result"
    }
   ],
   "source": [
    "Cxy=Cxy/n\n",
    "Cxy"
   ]
  },
  {
   "cell_type": "code",
   "execution_count": 19,
   "metadata": {},
   "outputs": [
    {
     "data": {
      "text/plain": [
       "array([1710.30071261,    0.        , 1169.78955539,  607.08658793,\n",
       "          0.        ,    0.        , 1710.30071261, 1688.10890238,\n",
       "       1710.30071261, 1169.78955539])"
      ]
     },
     "execution_count": 19,
     "metadata": {},
     "output_type": "execute_result"
    }
   ],
   "source": [
    "Cxy[0]"
   ]
  },
  {
   "cell_type": "code",
   "execution_count": 20,
   "metadata": {},
   "outputs": [
    {
     "data": {
      "text/plain": [
       "(10, 10)"
      ]
     },
     "execution_count": 20,
     "metadata": {},
     "output_type": "execute_result"
    }
   ],
   "source": [
    "Cxy.shape"
   ]
  },
  {
   "cell_type": "code",
   "execution_count": 21,
   "metadata": {},
   "outputs": [
    {
     "data": {
      "text/plain": [
       "array([[18.83333333,  0.        , 11.33333333,  8.        ,  0.        ,\n",
       "         0.        , 18.83333333, 14.        , 16.66666667, 12.5       ],\n",
       "       [ 0.        ,  0.        ,  0.        ,  0.        ,  0.        ,\n",
       "         0.        ,  0.        ,  0.        ,  0.        ,  0.        ],\n",
       "       [11.33333333,  0.        ,  8.16666667,  5.16666667,  0.        ,\n",
       "         0.        , 11.33333333, 10.        , 11.16666667,  8.33333333],\n",
       "       [ 8.        ,  0.        ,  5.16666667,  4.33333333,  0.        ,\n",
       "         0.        ,  8.        ,  5.5       ,  7.5       ,  5.66666667],\n",
       "       [ 0.        ,  0.        ,  0.        ,  0.        ,  0.        ,\n",
       "         0.        ,  0.        ,  0.        ,  0.        ,  0.        ],\n",
       "       [ 0.        ,  0.        ,  0.        ,  0.        ,  0.        ,\n",
       "         0.        ,  0.        ,  0.        ,  0.        ,  0.        ],\n",
       "       [18.83333333,  0.        , 11.33333333,  8.        ,  0.        ,\n",
       "         0.        , 18.83333333, 14.        , 16.66666667, 12.5       ],\n",
       "       [14.        ,  0.        , 10.        ,  5.5       ,  0.        ,\n",
       "         0.        , 14.        , 13.5       , 14.        , 10.        ],\n",
       "       [16.66666667,  0.        , 11.16666667,  7.5       ,  0.        ,\n",
       "         0.        , 16.66666667, 14.        , 16.16666667, 11.66666667],\n",
       "       [12.5       ,  0.        ,  8.33333333,  5.66666667,  0.        ,\n",
       "         0.        , 12.5       , 10.        , 11.66666667,  8.83333333]])"
      ]
     },
     "execution_count": 21,
     "metadata": {},
     "output_type": "execute_result"
    }
   ],
   "source": [
    "Cyy=np.dot(Y,Y.T)\n",
    "Cyy=Cyy/n\n",
    "Cyy"
   ]
  },
  {
   "cell_type": "code",
   "execution_count": 22,
   "metadata": {},
   "outputs": [
    {
     "data": {
      "text/plain": [
       "array([[440475.08088602, 437392.59359429, 426593.61222376,\n",
       "        460601.39539607, 447770.01898253, 550330.88763462,\n",
       "        521206.31651111, 420689.29121013, 508351.43830122,\n",
       "        511877.12904757],\n",
       "       [437392.59359429, 434336.74286676, 423606.22296757,\n",
       "        457387.0560252 , 444643.94196141, 546512.16119753,\n",
       "        517576.48321974, 417743.25987134, 504806.96831281,\n",
       "        508315.34235347],\n",
       "       [426593.61222376, 423606.22296757, 413150.44171328,\n",
       "        446082.01678638, 433655.63829703, 532974.19036135,\n",
       "        504773.50278922, 407432.1783844 , 492325.60005641,\n",
       "        495737.20794018],\n",
       "       [460601.39539607, 457387.0560252 , 446082.01678638,\n",
       "        481663.29963075, 468242.904456  , 575534.55851289,\n",
       "        545052.71646843, 439907.98271898, 531602.30687942,\n",
       "        535302.15746524],\n",
       "       [447770.01898253, 444643.94196141, 433655.63829703,\n",
       "        468242.904456  , 455196.7627372 , 559493.14288892,\n",
       "        529864.241284  , 427653.58998487, 516789.69590172,\n",
       "        520384.61381311],\n",
       "       [550330.88763462, 546512.16119753, 532974.19036135,\n",
       "        575534.55851289, 559493.14288892, 687794.17787686,\n",
       "        651309.95637641, 525597.56306061, 635219.49794492,\n",
       "        639671.77257839],\n",
       "       [521206.31651111, 517576.48321974, 504773.50278922,\n",
       "        545052.71646843, 529864.241284  , 651309.95637641,\n",
       "        616795.45053945, 497787.15967168, 601568.51114863,\n",
       "        605765.98894709],\n",
       "       [420689.29121013, 417743.25987134, 407432.1783844 ,\n",
       "        439907.98271898, 427653.58998487, 525597.56306061,\n",
       "        497787.15967168, 401793.05949334, 485511.53415506,\n",
       "        488875.9385951 ],\n",
       "       [508351.43830122, 504806.96831281, 492325.60005641,\n",
       "        531602.30687942, 516789.69590172, 635219.49794492,\n",
       "        601568.51114863, 485511.53415506, 586720.90157966,\n",
       "        590808.80925327],\n",
       "       [511877.12904757, 508315.34235347, 495737.20794018,\n",
       "        535302.15746524, 520384.61381311, 639671.77257839,\n",
       "        605765.98894709, 488875.9385951 , 590808.80925327,\n",
       "        594935.62210001]])"
      ]
     },
     "execution_count": 22,
     "metadata": {},
     "output_type": "execute_result"
    }
   ],
   "source": [
    "Cxx=np.dot(X,X.T)\n",
    "Cxx=Cxx/n\n",
    "Cxx"
   ]
  },
  {
   "cell_type": "markdown",
   "metadata": {},
   "source": [
    "W below is an diagonal matrices of size(n*n)"
   ]
  },
  {
   "cell_type": "code",
   "execution_count": 23,
   "metadata": {},
   "outputs": [
    {
     "data": {
      "text/plain": [
       "[[0.16666666666666666, 0, 0, 0, 0, 0],\n",
       " [0, 0.16666666666666666, 0, 0, 0, 0],\n",
       " [0, 0, 0.16666666666666666, 0, 0, 0],\n",
       " [0, 0, 0, 0.16666666666666666, 0, 0],\n",
       " [0, 0, 0, 0, 0.16666666666666666, 0],\n",
       " [0, 0, 0, 0, 0, 0.16666666666666666]]"
      ]
     },
     "execution_count": 23,
     "metadata": {},
     "output_type": "execute_result"
    }
   ],
   "source": [
    "row,col=(n,n)\n",
    "W=[]\n",
    "for i in range(col):\n",
    "    c=[]\n",
    "    for j in range(row):\n",
    "        if i==j:\n",
    "            c.append(1/n)\n",
    "        else:\n",
    "            c.append(0)\n",
    "    W.append(c)\n",
    "W\n"
   ]
  },
  {
   "cell_type": "code",
   "execution_count": 24,
   "metadata": {},
   "outputs": [
    {
     "data": {
      "text/plain": [
       "[[1, 0, 0, 0, 0, 0],\n",
       " [0, 1, 0, 0, 0, 0],\n",
       " [0, 0, 1, 0, 0, 0],\n",
       " [0, 0, 0, 1, 0, 0],\n",
       " [0, 0, 0, 0, 1, 0],\n",
       " [0, 0, 0, 0, 0, 1]]"
      ]
     },
     "execution_count": 24,
     "metadata": {},
     "output_type": "execute_result"
    }
   ],
   "source": [
    "row,col=(n,n)\n",
    "I=[]\n",
    "for i in range(col):\n",
    "    c1=[]\n",
    "    for j in range(row):\n",
    "        if i==j:\n",
    "            c1.append(1)\n",
    "        else:\n",
    "            c1.append(0)\n",
    "    I.append(c1)\n",
    "I\n"
   ]
  },
  {
   "cell_type": "markdown",
   "metadata": {},
   "source": [
    "I is identity matrix of size(n*n) made to perform subtraction of 2 matrices (I-W)"
   ]
  },
  {
   "cell_type": "code",
   "execution_count": 25,
   "metadata": {},
   "outputs": [
    {
     "data": {
      "text/plain": [
       "array([[0.83333333, 0.        , 0.        , 0.        , 0.        ,\n",
       "        0.        ],\n",
       "       [0.        , 0.83333333, 0.        , 0.        , 0.        ,\n",
       "        0.        ],\n",
       "       [0.        , 0.        , 0.83333333, 0.        , 0.        ,\n",
       "        0.        ],\n",
       "       [0.        , 0.        , 0.        , 0.83333333, 0.        ,\n",
       "        0.        ],\n",
       "       [0.        , 0.        , 0.        , 0.        , 0.83333333,\n",
       "        0.        ],\n",
       "       [0.        , 0.        , 0.        , 0.        , 0.        ,\n",
       "        0.83333333]])"
      ]
     },
     "execution_count": 25,
     "metadata": {},
     "output_type": "execute_result"
    }
   ],
   "source": [
    "Diff=np.subtract(I,W)\n",
    "Diff"
   ]
  },
  {
   "cell_type": "markdown",
   "metadata": {},
   "source": [
    "## Creation of Scatter Matrix Part for the datasets"
   ]
  },
  {
   "cell_type": "markdown",
   "metadata": {},
   "source": [
    "Notations Used for calculation of Scatter matrices \n",
    "1. Swx=Between class scatter matrix for dataset x\n",
    "2. Sbx=Within class scatter matrix for dataset x\n",
    "3. Stx=Total scatter matrix for dataset x\n",
    "4. Swy=Between class scatter matrix for dataset y\n",
    "2. Sbx=Within class scatter matrix for dataset y\n",
    "3. Stx=Total scatter matrix for dataset y"
   ]
  },
  {
   "cell_type": "code",
   "execution_count": 26,
   "metadata": {},
   "outputs": [
    {
     "data": {
      "text/plain": [
       "array([[8.33333333e-01, 0.00000000e+00, 0.00000000e+00, 1.10959051e+02,\n",
       "        1.09307730e+00, 1.35018482e+03],\n",
       "       [8.33333333e-01, 0.00000000e+00, 0.00000000e+00, 1.05604051e+02,\n",
       "        1.08562081e+00, 1.34111235e+03],\n",
       "       [8.33333333e-01, 0.00000000e+00, 0.00000000e+00, 1.09311551e+02,\n",
       "        1.09919251e+00, 1.30748203e+03],\n",
       "       [8.33333333e-01, 0.00000000e+00, 0.00000000e+00, 1.07899051e+02,\n",
       "        1.05906513e+00, 1.41254607e+03],\n",
       "       [8.33333333e-01, 0.00000000e+00, 0.00000000e+00, 1.06052385e+02,\n",
       "        1.10803057e+00, 1.37310020e+03],\n",
       "       [8.33333333e-01, 0.00000000e+00, 0.00000000e+00, 1.09215718e+02,\n",
       "        1.09200262e+00, 1.68934281e+03],\n",
       "       [8.33333333e-01, 0.00000000e+00, 0.00000000e+00, 1.15369051e+02,\n",
       "        1.14992133e+00, 1.59895873e+03],\n",
       "       [8.33333333e-01, 0.00000000e+00, 0.00000000e+00, 1.07789051e+02,\n",
       "        1.08803834e+00, 1.28938644e+03],\n",
       "       [8.33333333e-01, 0.00000000e+00, 0.00000000e+00, 1.16285718e+02,\n",
       "        1.14555124e+00, 1.55921328e+03],\n",
       "       [8.33333333e-01, 0.00000000e+00, 0.00000000e+00, 1.10524051e+02,\n",
       "        1.14536197e+00, 1.57056705e+03]])"
      ]
     },
     "execution_count": 26,
     "metadata": {},
     "output_type": "execute_result"
    }
   ],
   "source": [
    "S=np.dot(X,Diff)\n",
    "S"
   ]
  },
  {
   "cell_type": "code",
   "execution_count": 27,
   "metadata": {},
   "outputs": [
    {
     "data": {
      "text/plain": [
       "array([[2202375.40443012, 2186962.96797143, 2132968.06111879,\n",
       "        2303006.97698037, 2238850.09491268, 2751654.4381731 ,\n",
       "        2606031.58255556, 2103446.45605067, 2541757.19150612,\n",
       "        2559385.64523785],\n",
       "       [2186962.96797143, 2171683.71433381, 2118031.11483785,\n",
       "        2286935.28012599, 2223219.70980706, 2732560.80598767,\n",
       "        2587882.41609871, 2088716.29935669, 2524034.84156406,\n",
       "        2541576.71176734],\n",
       "       [2132968.06111879, 2118031.11483785, 2065752.2085664 ,\n",
       "        2230410.0839319 , 2168278.19148515, 2664870.95180677,\n",
       "        2523867.51394608, 2037160.89192199, 2461628.00028203,\n",
       "        2478686.03970089],\n",
       "       [2303006.97698037, 2286935.28012599, 2230410.0839319 ,\n",
       "        2408316.49815373, 2341214.52227998, 2877672.79256445,\n",
       "        2725263.58234214, 2199539.91359489, 2658011.53439712,\n",
       "        2676510.78732618],\n",
       "       [2238850.09491268, 2223219.70980706, 2168278.19148515,\n",
       "        2341214.52227998, 2275983.81368599, 2797465.71444462,\n",
       "        2649321.20642   , 2138267.94992435, 2583948.47950859,\n",
       "        2601923.06906553],\n",
       "       [2751654.4381731 , 2732560.80598767, 2664870.95180677,\n",
       "        2877672.79256445, 2797465.71444462, 3438970.88938432,\n",
       "        3256549.78188207, 2627987.81530306, 3176097.48972461,\n",
       "        3198358.86289195],\n",
       "       [2606031.58255556, 2587882.41609871, 2523867.51394608,\n",
       "        2725263.58234214, 2649321.20642   , 3256549.78188207,\n",
       "        3083977.25269724, 2488935.7983584 , 3007842.55574317,\n",
       "        3028829.94473543],\n",
       "       [2103446.45605067, 2088716.29935669, 2037160.89192199,\n",
       "        2199539.91359489, 2138267.94992435, 2627987.81530307,\n",
       "        2488935.7983584 , 2008965.2974667 , 2427557.67077531,\n",
       "        2444379.69297552],\n",
       "       [2541757.19150612, 2524034.84156406, 2461628.00028203,\n",
       "        2658011.53439712, 2583948.47950859, 3176097.48972461,\n",
       "        3007842.55574317, 2427557.67077531, 2933604.50789829,\n",
       "        2954044.04626633],\n",
       "       [2559385.64523785, 2541576.71176734, 2478686.03970089,\n",
       "        2676510.78732618, 2601923.06906553, 3198358.86289195,\n",
       "        3028829.94473543, 2444379.69297552, 2954044.04626633,\n",
       "        2974678.11050007]])"
      ]
     },
     "execution_count": 27,
     "metadata": {},
     "output_type": "execute_result"
    }
   ],
   "source": [
    "Sw=np.dot(S,X.T)\n",
    "Sw"
   ]
  },
  {
   "cell_type": "code",
   "execution_count": 28,
   "metadata": {},
   "outputs": [
    {
     "data": {
      "text/plain": [
       "(10, 10)"
      ]
     },
     "execution_count": 28,
     "metadata": {},
     "output_type": "execute_result"
    }
   ],
   "source": [
    "Sw.shape"
   ]
  },
  {
   "cell_type": "code",
   "execution_count": 29,
   "metadata": {},
   "outputs": [
    {
     "data": {
      "text/plain": [
       "array([[367062.56740502, 364493.82799524, 355494.67685313,\n",
       "        383834.49616339, 373141.68248545, 458609.07302885,\n",
       "        434338.59709259, 350574.40934178, 423626.19858435,\n",
       "        426564.27420631],\n",
       "       [364493.82799524, 361947.2857223 , 353005.18580631,\n",
       "        381155.880021  , 370536.61830118, 455426.80099795,\n",
       "        431313.73601645, 348119.38322611, 420672.47359401,\n",
       "        423596.11862789],\n",
       "       [355494.67685313, 353005.18580631, 344292.03476107,\n",
       "        371735.01398865, 361379.69858086, 444145.15863446,\n",
       "        420644.58565768, 339526.81532033, 410271.33338034,\n",
       "        413114.33995015],\n",
       "       [383834.49616339, 381155.880021  , 371735.01398865,\n",
       "        401386.08302562, 390202.42038   , 479612.13209408,\n",
       "        454210.59705702, 366589.98559915, 443001.92239952,\n",
       "        446085.13122103],\n",
       "       [373141.68248545, 370536.61830118, 361379.69858086,\n",
       "        390202.42038   , 379330.63561433, 466244.28574077,\n",
       "        441553.53440333, 356377.99165406, 430658.0799181 ,\n",
       "        433653.84484425],\n",
       "       [458609.07302885, 455426.80099795, 444145.15863446,\n",
       "        479612.13209408, 466244.28574077, 573161.81489739,\n",
       "        542758.29698034, 437997.96921718, 529349.58162077,\n",
       "        533059.81048199],\n",
       "       [434338.59709259, 431313.73601645, 420644.58565768,\n",
       "        454210.59705702, 441553.53440333, 542758.29698034,\n",
       "        513996.20878287, 414822.63305973, 501307.09262386,\n",
       "        504804.99078924],\n",
       "       [350574.40934178, 348119.38322611, 339526.81532033,\n",
       "        366589.98559915, 356377.99165406, 437997.96921718,\n",
       "        414822.63305973, 334827.54957778, 404592.94512922,\n",
       "        407396.61549592],\n",
       "       [423626.19858435, 420672.47359401, 410271.33338034,\n",
       "        443001.92239952, 430658.0799181 , 529349.58162077,\n",
       "        501307.09262386, 404592.94512922, 488934.08464971,\n",
       "        492340.67437772],\n",
       "       [426564.27420631, 423596.11862789, 413114.33995015,\n",
       "        446085.13122103, 433653.84484425, 533059.81048199,\n",
       "        504804.99078924, 407396.61549592, 492340.67437772,\n",
       "        495779.68508334]])"
      ]
     },
     "execution_count": 29,
     "metadata": {},
     "output_type": "execute_result"
    }
   ],
   "source": [
    "temp=Sw\n",
    "temp\n",
    "temp=temp/n\n",
    "temp"
   ]
  },
  {
   "cell_type": "code",
   "execution_count": 30,
   "metadata": {},
   "outputs": [
    {
     "data": {
      "text/plain": [
       "array([[367062.56740502, 364493.82799524, 355494.67685313,\n",
       "        383834.49616339, 373141.68248545, 458609.07302885,\n",
       "        434338.59709259, 350574.40934178, 423626.19858435,\n",
       "        426564.27420631],\n",
       "       [364493.82799524, 361947.2857223 , 353005.18580631,\n",
       "        381155.880021  , 370536.61830118, 455426.80099795,\n",
       "        431313.73601645, 348119.38322611, 420672.47359401,\n",
       "        423596.11862789],\n",
       "       [355494.67685313, 353005.18580631, 344292.03476107,\n",
       "        371735.01398865, 361379.69858086, 444145.15863446,\n",
       "        420644.58565768, 339526.81532033, 410271.33338034,\n",
       "        413114.33995015],\n",
       "       [383834.49616339, 381155.880021  , 371735.01398865,\n",
       "        401386.08302562, 390202.42038   , 479612.13209408,\n",
       "        454210.59705702, 366589.98559915, 443001.92239952,\n",
       "        446085.13122103],\n",
       "       [373141.68248545, 370536.61830118, 361379.69858086,\n",
       "        390202.42038   , 379330.63561433, 466244.28574077,\n",
       "        441553.53440333, 356377.99165406, 430658.0799181 ,\n",
       "        433653.84484425],\n",
       "       [458609.07302885, 455426.80099795, 444145.15863446,\n",
       "        479612.13209408, 466244.28574077, 573161.81489739,\n",
       "        542758.29698034, 437997.96921718, 529349.58162077,\n",
       "        533059.81048199],\n",
       "       [434338.59709259, 431313.73601645, 420644.58565768,\n",
       "        454210.59705702, 441553.53440333, 542758.29698034,\n",
       "        513996.20878287, 414822.63305973, 501307.09262386,\n",
       "        504804.99078924],\n",
       "       [350574.40934178, 348119.38322611, 339526.81532033,\n",
       "        366589.98559915, 356377.99165406, 437997.96921718,\n",
       "        414822.63305973, 334827.54957778, 404592.94512922,\n",
       "        407396.61549592],\n",
       "       [423626.19858435, 420672.47359401, 410271.33338034,\n",
       "        443001.92239952, 430658.0799181 , 529349.58162077,\n",
       "        501307.09262386, 404592.94512922, 488934.08464971,\n",
       "        492340.67437772],\n",
       "       [426564.27420631, 423596.11862789, 413114.33995015,\n",
       "        446085.13122103, 433653.84484425, 533059.81048199,\n",
       "        504804.99078924, 407396.61549592, 492340.67437772,\n",
       "        495779.68508334]])"
      ]
     },
     "execution_count": 30,
     "metadata": {},
     "output_type": "execute_result"
    }
   ],
   "source": [
    "Sw=temp\n",
    "Sw"
   ]
  },
  {
   "cell_type": "code",
   "execution_count": 31,
   "metadata": {},
   "outputs": [
    {
     "data": {
      "text/plain": [
       "array([[440475.08088602, 437392.59359429, 426593.61222376,\n",
       "        460601.39539607, 447770.01898254, 550330.88763462,\n",
       "        521206.31651111, 420689.29121013, 508351.43830122,\n",
       "        511877.12904757],\n",
       "       [437392.59359429, 434336.74286676, 423606.22296757,\n",
       "        457387.0560252 , 444643.94196141, 546512.16119753,\n",
       "        517576.48321974, 417743.25987134, 504806.96831281,\n",
       "        508315.34235347],\n",
       "       [426593.61222376, 423606.22296757, 413150.44171328,\n",
       "        446082.01678638, 433655.63829703, 532974.19036135,\n",
       "        504773.50278922, 407432.1783844 , 492325.60005641,\n",
       "        495737.20794018],\n",
       "       [460601.39539607, 457387.0560252 , 446082.01678638,\n",
       "        481663.29963075, 468242.904456  , 575534.55851289,\n",
       "        545052.71646843, 439907.98271898, 531602.30687942,\n",
       "        535302.15746524],\n",
       "       [447770.01898253, 444643.94196141, 433655.63829703,\n",
       "        468242.904456  , 455196.7627372 , 559493.14288892,\n",
       "        529864.241284  , 427653.58998487, 516789.69590172,\n",
       "        520384.61381311],\n",
       "       [550330.88763462, 546512.16119753, 532974.19036135,\n",
       "        575534.55851289, 559493.14288892, 687794.17787686,\n",
       "        651309.95637641, 525597.56306061, 635219.49794492,\n",
       "        639671.77257839],\n",
       "       [521206.31651111, 517576.48321974, 504773.50278922,\n",
       "        545052.71646843, 529864.241284  , 651309.95637641,\n",
       "        616795.45053945, 497787.15967168, 601568.51114863,\n",
       "        605765.98894709],\n",
       "       [420689.29121013, 417743.25987134, 407432.1783844 ,\n",
       "        439907.98271898, 427653.58998487, 525597.56306061,\n",
       "        497787.15967168, 401793.05949334, 485511.53415506,\n",
       "        488875.9385951 ],\n",
       "       [508351.43830122, 504806.96831281, 492325.60005641,\n",
       "        531602.30687942, 516789.69590172, 635219.49794492,\n",
       "        601568.51114863, 485511.53415506, 586720.90157966,\n",
       "        590808.80925327],\n",
       "       [511877.12904757, 508315.34235347, 495737.20794018,\n",
       "        535302.15746524, 520384.61381311, 639671.77257839,\n",
       "        605765.98894709, 488875.9385951 , 590808.80925327,\n",
       "        594935.62210001]])"
      ]
     },
     "execution_count": 31,
     "metadata": {},
     "output_type": "execute_result"
    }
   ],
   "source": [
    "t=np.dot(X,W)\n",
    "Sb=np.dot(t,X.T)\n",
    "Sb"
   ]
  },
  {
   "cell_type": "code",
   "execution_count": 32,
   "metadata": {},
   "outputs": [
    {
     "data": {
      "text/plain": [
       "array([[ 73412.513481  ,  72898.76559905,  71098.93537063,\n",
       "         76766.89923268,  74628.33649709,  91721.81460577,\n",
       "         86867.71941852,  70114.88186836,  84725.23971687,\n",
       "         85312.85484126],\n",
       "       [ 72898.76559905,  72389.45714446,  70601.03716126,\n",
       "         76231.1760042 ,  74107.32366024,  91085.36019959,\n",
       "         86262.74720329,  69623.87664522,  84134.4947188 ,\n",
       "         84719.22372558],\n",
       "       [ 71098.93537063,  70601.03716126,  68858.40695221,\n",
       "         74347.00279773,  72275.93971617,  88829.03172689,\n",
       "         84128.91713154,  67905.36306407,  82054.26667607,\n",
       "         82622.86799003],\n",
       "       [ 76766.89923268,  76231.1760042 ,  74347.00279773,\n",
       "         80277.21660512,  78040.484076  ,  95922.42641882,\n",
       "         90842.1194114 ,  73317.99711983,  88600.3844799 ,\n",
       "         89217.02624421],\n",
       "       [ 74628.33649709,  74107.32366024,  72275.93971617,\n",
       "         78040.484076  ,  75866.12712287,  93248.85714815,\n",
       "         88310.70688067,  71275.59833081,  86131.61598362,\n",
       "         86730.76896885],\n",
       "       [ 91721.81460577,  91085.36019959,  88829.03172689,\n",
       "         95922.42641882,  93248.85714815, 114632.36297948,\n",
       "        108551.65939607,  87599.59384344, 105869.91632415,\n",
       "        106611.9620964 ],\n",
       "       [ 86867.71941852,  86262.74720329,  84128.91713154,\n",
       "         90842.1194114 ,  88310.70688067, 108551.65939607,\n",
       "        102799.24175657,  82964.52661195, 100261.41852477,\n",
       "        100960.99815785],\n",
       "       [ 70114.88186836,  69623.87664522,  67905.36306407,\n",
       "         73317.99711983,  71275.59833081,  87599.59384344,\n",
       "         82964.52661195,  66965.50991556,  80918.58902584,\n",
       "         81479.32309918],\n",
       "       [ 84725.23971687,  84134.4947188 ,  82054.26667607,\n",
       "         88600.3844799 ,  86131.61598362, 105869.91632415,\n",
       "        100261.41852477,  80918.58902584,  97786.81692994,\n",
       "         98468.13487554],\n",
       "       [ 85312.85484126,  84719.22372558,  82622.86799003,\n",
       "         89217.02624421,  86730.76896885, 106611.9620964 ,\n",
       "        100960.99815785,  81479.32309918,  98468.13487554,\n",
       "         99155.93701667]])"
      ]
     },
     "execution_count": 32,
     "metadata": {},
     "output_type": "execute_result"
    }
   ],
   "source": [
    "Sb=Sb/n\n",
    "Sb"
   ]
  },
  {
   "cell_type": "code",
   "execution_count": 33,
   "metadata": {},
   "outputs": [],
   "source": [
    "Swx=Sw\n",
    "Swx\n",
    "Sbx=Sb\n"
   ]
  },
  {
   "cell_type": "code",
   "execution_count": 34,
   "metadata": {},
   "outputs": [
    {
     "data": {
      "text/plain": [
       "array([[367062.56740502, 364493.82799524, 355494.67685313,\n",
       "        383834.49616339, 373141.68248545, 458609.07302885,\n",
       "        434338.59709259, 350574.40934178, 423626.19858435,\n",
       "        426564.27420631],\n",
       "       [364493.82799524, 361947.2857223 , 353005.18580631,\n",
       "        381155.880021  , 370536.61830118, 455426.80099795,\n",
       "        431313.73601645, 348119.38322611, 420672.47359401,\n",
       "        423596.11862789],\n",
       "       [355494.67685313, 353005.18580631, 344292.03476107,\n",
       "        371735.01398865, 361379.69858086, 444145.15863446,\n",
       "        420644.58565768, 339526.81532033, 410271.33338034,\n",
       "        413114.33995015],\n",
       "       [383834.49616339, 381155.880021  , 371735.01398865,\n",
       "        401386.08302562, 390202.42038   , 479612.13209408,\n",
       "        454210.59705702, 366589.98559915, 443001.92239952,\n",
       "        446085.13122103],\n",
       "       [373141.68248545, 370536.61830118, 361379.69858086,\n",
       "        390202.42038   , 379330.63561433, 466244.28574077,\n",
       "        441553.53440333, 356377.99165406, 430658.0799181 ,\n",
       "        433653.84484425],\n",
       "       [458609.07302885, 455426.80099795, 444145.15863446,\n",
       "        479612.13209408, 466244.28574077, 573161.81489739,\n",
       "        542758.29698034, 437997.96921718, 529349.58162077,\n",
       "        533059.81048199],\n",
       "       [434338.59709259, 431313.73601645, 420644.58565768,\n",
       "        454210.59705702, 441553.53440333, 542758.29698034,\n",
       "        513996.20878287, 414822.63305973, 501307.09262386,\n",
       "        504804.99078924],\n",
       "       [350574.40934178, 348119.38322611, 339526.81532033,\n",
       "        366589.98559915, 356377.99165406, 437997.96921718,\n",
       "        414822.63305973, 334827.54957778, 404592.94512922,\n",
       "        407396.61549592],\n",
       "       [423626.19858435, 420672.47359401, 410271.33338034,\n",
       "        443001.92239952, 430658.0799181 , 529349.58162077,\n",
       "        501307.09262386, 404592.94512922, 488934.08464971,\n",
       "        492340.67437772],\n",
       "       [426564.27420631, 423596.11862789, 413114.33995015,\n",
       "        446085.13122103, 433653.84484425, 533059.81048199,\n",
       "        504804.99078924, 407396.61549592, 492340.67437772,\n",
       "        495779.68508334]])"
      ]
     },
     "execution_count": 34,
     "metadata": {},
     "output_type": "execute_result"
    }
   ],
   "source": [
    "Swx"
   ]
  },
  {
   "cell_type": "code",
   "execution_count": 35,
   "metadata": {},
   "outputs": [
    {
     "data": {
      "text/plain": [
       "array([[2642850.48531615, 2624355.56156571, 2559561.67334255,\n",
       "        2763608.37237644, 2686620.11389521, 3301985.32580773,\n",
       "        3127237.89906667, 2524135.7472608 , 3050108.62980734,\n",
       "        3071262.77428542],\n",
       "       [2624355.56156571, 2606020.45720057, 2541637.33780542,\n",
       "        2744322.33615119, 2667863.65176847, 3279072.96718521,\n",
       "        3105458.89931845, 2506459.55922802, 3028841.80987688,\n",
       "        3049892.05412081],\n",
       "       [2559561.67334255, 2541637.33780542, 2478902.65027967,\n",
       "        2676492.10071828, 2601933.82978217, 3197845.14216813,\n",
       "        3028641.01673529, 2444593.07030639, 2953953.60033843,\n",
       "        2974423.24764107],\n",
       "       [2763608.37237644, 2744322.33615119, 2676492.10071828,\n",
       "        2889979.79778447, 2809457.42673597, 3453207.35107734,\n",
       "        3270316.29881057, 2639447.89631386, 3189613.84127655,\n",
       "        3211812.94479142],\n",
       "       [2686620.11389521, 2667863.65176847, 2601933.82978217,\n",
       "        2809457.42673597, 2731180.57642319, 3356958.85733354,\n",
       "        3179185.447704  , 2565921.53990921, 3100738.17541031,\n",
       "        3122307.68287864],\n",
       "       [3301985.32580773, 3279072.96718521, 3197845.14216813,\n",
       "        3453207.35107734, 3356958.85733354, 4126765.06726118,\n",
       "        3907859.73825848, 3153585.37836368, 3811316.98766953,\n",
       "        3838030.63547033],\n",
       "       [3127237.89906667, 3105458.89931845, 3028641.01673529,\n",
       "        3270316.29881057, 3179185.447704  , 3907859.73825848,\n",
       "        3700772.70323668, 2986722.95803008, 3609411.0668918 ,\n",
       "        3634595.93368252],\n",
       "       [2524135.7472608 , 2506459.55922802, 2444593.07030639,\n",
       "        2639447.89631386, 2565921.53990921, 3153585.37836368,\n",
       "        2986722.95803008, 2410758.35696004, 2913069.20493037,\n",
       "        2933255.63157063],\n",
       "       [3050108.62980734, 3028841.80987688, 2953953.60033843,\n",
       "        3189613.84127655, 3100738.17541031, 3811316.98766953,\n",
       "        3609411.0668918 , 2913069.20493037, 3520325.40947795,\n",
       "        3544852.8555196 ],\n",
       "       [3071262.77428542, 3049892.05412081, 2974423.24764107,\n",
       "        3211812.94479142, 3122307.68287864, 3838030.63547033,\n",
       "        3634595.93368252, 2933255.63157063, 3544852.8555196 ,\n",
       "        3569613.73260008]])"
      ]
     },
     "execution_count": 35,
     "metadata": {},
     "output_type": "execute_result"
    }
   ],
   "source": [
    "Stx=np.dot(X,X.T)\n",
    "Stx"
   ]
  },
  {
   "cell_type": "code",
   "execution_count": 36,
   "metadata": {},
   "outputs": [
    {
     "data": {
      "text/plain": [
       "array([[440475.08088602, 437392.59359429, 426593.61222376,\n",
       "        460601.39539607, 447770.01898253, 550330.88763462,\n",
       "        521206.31651111, 420689.29121013, 508351.43830122,\n",
       "        511877.12904757],\n",
       "       [437392.59359429, 434336.74286676, 423606.22296757,\n",
       "        457387.0560252 , 444643.94196141, 546512.16119753,\n",
       "        517576.48321974, 417743.25987134, 504806.96831281,\n",
       "        508315.34235347],\n",
       "       [426593.61222376, 423606.22296757, 413150.44171328,\n",
       "        446082.01678638, 433655.63829703, 532974.19036135,\n",
       "        504773.50278922, 407432.1783844 , 492325.60005641,\n",
       "        495737.20794018],\n",
       "       [460601.39539607, 457387.0560252 , 446082.01678638,\n",
       "        481663.29963075, 468242.904456  , 575534.55851289,\n",
       "        545052.71646843, 439907.98271898, 531602.30687942,\n",
       "        535302.15746524],\n",
       "       [447770.01898253, 444643.94196141, 433655.63829703,\n",
       "        468242.904456  , 455196.7627372 , 559493.14288892,\n",
       "        529864.241284  , 427653.58998487, 516789.69590172,\n",
       "        520384.61381311],\n",
       "       [550330.88763462, 546512.16119753, 532974.19036135,\n",
       "        575534.55851289, 559493.14288892, 687794.17787686,\n",
       "        651309.95637641, 525597.56306061, 635219.49794492,\n",
       "        639671.77257839],\n",
       "       [521206.31651111, 517576.48321974, 504773.50278922,\n",
       "        545052.71646843, 529864.241284  , 651309.95637641,\n",
       "        616795.45053945, 497787.15967168, 601568.51114863,\n",
       "        605765.98894709],\n",
       "       [420689.29121013, 417743.25987134, 407432.1783844 ,\n",
       "        439907.98271898, 427653.58998487, 525597.56306061,\n",
       "        497787.15967168, 401793.05949334, 485511.53415506,\n",
       "        488875.9385951 ],\n",
       "       [508351.43830122, 504806.96831281, 492325.60005641,\n",
       "        531602.30687942, 516789.69590172, 635219.49794492,\n",
       "        601568.51114863, 485511.53415506, 586720.90157966,\n",
       "        590808.80925327],\n",
       "       [511877.12904757, 508315.34235347, 495737.20794018,\n",
       "        535302.15746524, 520384.61381311, 639671.77257839,\n",
       "        605765.98894709, 488875.9385951 , 590808.80925327,\n",
       "        594935.62210001]])"
      ]
     },
     "execution_count": 36,
     "metadata": {},
     "output_type": "execute_result"
    }
   ],
   "source": [
    "Stx=Stx/n\n",
    "Stx"
   ]
  },
  {
   "cell_type": "code",
   "execution_count": 37,
   "metadata": {},
   "outputs": [
    {
     "data": {
      "text/plain": [
       "array([[0.        , 2.5       , 3.33333333, 3.33333333, 5.        ,\n",
       "        5.        ],\n",
       "       [0.        , 0.        , 0.        , 0.        , 0.        ,\n",
       "        0.        ],\n",
       "       [0.        , 0.        , 0.83333333, 3.33333333, 3.33333333,\n",
       "        3.33333333],\n",
       "       [0.        , 0.        , 2.5       , 2.5       , 1.66666667,\n",
       "        1.66666667],\n",
       "       [0.        , 0.        , 0.        , 0.        , 0.        ,\n",
       "        0.        ],\n",
       "       [0.        , 0.        , 0.        , 0.        , 0.        ,\n",
       "        0.        ],\n",
       "       [0.        , 2.5       , 3.33333333, 3.33333333, 5.        ,\n",
       "        5.        ],\n",
       "       [0.        , 0.        , 0.        , 2.5       , 5.        ,\n",
       "        5.        ],\n",
       "       [0.        , 0.        , 2.5       , 3.33333333, 5.        ,\n",
       "        5.        ],\n",
       "       [0.        , 0.83333333, 1.66666667, 3.33333333, 3.33333333,\n",
       "        3.33333333]])"
      ]
     },
     "execution_count": 37,
     "metadata": {},
     "output_type": "execute_result"
    }
   ],
   "source": [
    "S1=np.dot(Y,Diff)\n",
    "S1"
   ]
  },
  {
   "cell_type": "code",
   "execution_count": 38,
   "metadata": {},
   "outputs": [],
   "source": [
    "Swy=np.dot(S1,Y.T)\n",
    "Swy\n",
    "Swy=Swy/n"
   ]
  },
  {
   "cell_type": "code",
   "execution_count": 39,
   "metadata": {},
   "outputs": [],
   "source": [
    "S3=np.dot(Y,W)\n",
    "Sby=np.dot(S3,Y.T)\n",
    "Sby\n",
    "Sby=Sby/n"
   ]
  },
  {
   "cell_type": "code",
   "execution_count": 40,
   "metadata": {},
   "outputs": [
    {
     "data": {
      "text/plain": [
       "array([[18.83333333,  0.        , 11.33333333,  8.        ,  0.        ,\n",
       "         0.        , 18.83333333, 14.        , 16.66666667, 12.5       ],\n",
       "       [ 0.        ,  0.        ,  0.        ,  0.        ,  0.        ,\n",
       "         0.        ,  0.        ,  0.        ,  0.        ,  0.        ],\n",
       "       [11.33333333,  0.        ,  8.16666667,  5.16666667,  0.        ,\n",
       "         0.        , 11.33333333, 10.        , 11.16666667,  8.33333333],\n",
       "       [ 8.        ,  0.        ,  5.16666667,  4.33333333,  0.        ,\n",
       "         0.        ,  8.        ,  5.5       ,  7.5       ,  5.66666667],\n",
       "       [ 0.        ,  0.        ,  0.        ,  0.        ,  0.        ,\n",
       "         0.        ,  0.        ,  0.        ,  0.        ,  0.        ],\n",
       "       [ 0.        ,  0.        ,  0.        ,  0.        ,  0.        ,\n",
       "         0.        ,  0.        ,  0.        ,  0.        ,  0.        ],\n",
       "       [18.83333333,  0.        , 11.33333333,  8.        ,  0.        ,\n",
       "         0.        , 18.83333333, 14.        , 16.66666667, 12.5       ],\n",
       "       [14.        ,  0.        , 10.        ,  5.5       ,  0.        ,\n",
       "         0.        , 14.        , 13.5       , 14.        , 10.        ],\n",
       "       [16.66666667,  0.        , 11.16666667,  7.5       ,  0.        ,\n",
       "         0.        , 16.66666667, 14.        , 16.16666667, 11.66666667],\n",
       "       [12.5       ,  0.        ,  8.33333333,  5.66666667,  0.        ,\n",
       "         0.        , 12.5       , 10.        , 11.66666667,  8.83333333]])"
      ]
     },
     "execution_count": 40,
     "metadata": {},
     "output_type": "execute_result"
    }
   ],
   "source": [
    "Sty=np.dot(Y,Y.T)\n",
    "Sty=Sty/n\n",
    "Sty"
   ]
  },
  {
   "cell_type": "markdown",
   "metadata": {},
   "source": [
    "### Use of Lagrangian multiplier technique for calculation of final projection vectors wx,wy  "
   ]
  },
  {
   "cell_type": "markdown",
   "metadata": {},
   "source": [
    "Calculation of Transpose of Scatter matrices Stx,Sty "
   ]
  },
  {
   "cell_type": "code",
   "execution_count": 41,
   "metadata": {},
   "outputs": [
    {
     "data": {
      "text/plain": [
       "array([[ 7.85905184e+09,  2.26526896e+10, -4.00661033e+09,\n",
       "        -2.30127932e+08, -1.96656346e+10, -5.25073671e+09,\n",
       "        -8.34773889e+09, -1.01604055e+10,  3.54387783e+09,\n",
       "         1.36056348e+10],\n",
       "       [-4.30536550e+10, -4.86032921e+10,  7.58917382e+09,\n",
       "        -4.95768583e+09,  4.03760437e+10,  1.71624563e+10,\n",
       "         3.31104452e+10,  5.16134151e+10, -7.02346448e+09,\n",
       "        -4.62134370e+10],\n",
       "       [ 5.66526374e+09, -9.14278743e+09, -4.65778006e+09,\n",
       "         3.56703651e+09,  9.11053862e+09, -1.46871767e+09,\n",
       "        -4.48925925e+09, -2.17418428e+09,  1.89021541e+09,\n",
       "         1.69967445e+09],\n",
       "       [ 9.78000336e+08,  3.54543985e+09,  1.82948875e+09,\n",
       "         2.69615895e+09, -3.46558187e+09, -2.52429494e+09,\n",
       "        -9.00237448e+08, -5.58628169e+09, -5.90554638e+08,\n",
       "         4.01786279e+09],\n",
       "       [ 2.38800175e+10,  3.75556908e+10,  6.86067088e+09,\n",
       "         9.88893219e+08, -3.54193588e+10, -9.20829909e+09,\n",
       "        -2.79958423e+10, -3.84976568e+10,  7.84812001e+09,\n",
       "         3.39877648e+10],\n",
       "       [ 6.98439274e+09,  3.87446923e+09, -2.40253178e+09,\n",
       "        -7.42676849e+08, -2.62044588e+09, -9.82333482e+08,\n",
       "        -5.32556841e+09, -5.15220250e+09,  1.71299367e+09,\n",
       "         4.65390333e+09],\n",
       "       [-3.06402656e+09, -5.06001554e+09,  7.99361839e+09,\n",
       "         4.24348990e+08, -1.21364852e+09,  1.58542042e+09,\n",
       "        -2.56929091e+09,  9.93688199e+07, -5.88201450e+08,\n",
       "         2.39242626e+09],\n",
       "       [ 9.34088992e+09,  3.52625267e+09, -4.84539826e+09,\n",
       "        -1.48302015e+09, -8.24089606e+08, -1.06220419e+09,\n",
       "         1.08707192e+09, -4.45861058e+09, -3.30078805e+09,\n",
       "         2.01989640e+09],\n",
       "       [-8.58993459e+09, -7.56643090e+09,  2.39349920e+09,\n",
       "        -2.69903859e+09,  8.84610413e+09,  4.38555378e+09,\n",
       "         7.28850841e+09,  8.58993459e+09, -7.28577504e+08,\n",
       "        -1.19196186e+10],\n",
       "       [ 0.00000000e+00, -7.82016165e+08, -1.07541307e+10,\n",
       "         2.43611171e+09,  4.87607302e+09, -2.63684435e+09,\n",
       "         8.14191180e+09,  5.72662306e+09, -2.76362085e+09,\n",
       "        -4.24410748e+09]])"
      ]
     },
     "execution_count": 41,
     "metadata": {},
     "output_type": "execute_result"
    }
   ],
   "source": [
    "Trans_Stx=np.linalg.inv(Stx)\n",
    "Trans_Stx"
   ]
  },
  {
   "cell_type": "code",
   "execution_count": 42,
   "metadata": {},
   "outputs": [
    {
     "data": {
      "text/plain": [
       "array([[ 1.44908838e-01, -4.06903192e-18, -7.13430930e-02,\n",
       "        -1.54012200e-01,  0.00000000e+00,  0.00000000e+00,\n",
       "         1.44908838e-01, -1.94893952e-02, -1.60121442e-01,\n",
       "         6.11809417e-04],\n",
       "       [ 3.95746994e-17,  2.71262254e-32,  1.05234487e-16,\n",
       "        -1.05400796e-16,  0.00000000e+00,  0.00000000e+00,\n",
       "         3.95746994e-17,  8.03518816e-18, -2.01972074e-16,\n",
       "         1.16431116e-16],\n",
       "       [-7.13430930e-02,  1.25858494e-16,  8.56615798e-01,\n",
       "        -1.11758066e-01,  0.00000000e+00,  0.00000000e+00,\n",
       "        -7.13430930e-02, -9.66841055e-02, -8.86900546e-01,\n",
       "         7.94934316e-01],\n",
       "       [-1.54012200e-01, -9.42483094e-17, -1.11758066e-01,\n",
       "         4.61540594e-01,  0.00000000e+00,  0.00000000e+00,\n",
       "        -1.54012200e-01, -1.81678095e-01,  4.63926356e-01,\n",
       "        -1.46824486e-01],\n",
       "       [ 0.00000000e+00,  0.00000000e+00,  0.00000000e+00,\n",
       "         0.00000000e+00,  0.00000000e+00,  0.00000000e+00,\n",
       "         0.00000000e+00,  0.00000000e+00,  0.00000000e+00,\n",
       "         0.00000000e+00],\n",
       "       [ 0.00000000e+00,  0.00000000e+00,  0.00000000e+00,\n",
       "         0.00000000e+00,  0.00000000e+00,  0.00000000e+00,\n",
       "         0.00000000e+00,  0.00000000e+00,  0.00000000e+00,\n",
       "         0.00000000e+00],\n",
       "       [ 1.44908838e-01, -4.06903192e-18, -7.13430930e-02,\n",
       "        -1.54012200e-01,  0.00000000e+00,  0.00000000e+00,\n",
       "         1.44908838e-01, -1.94893952e-02, -1.60121442e-01,\n",
       "         6.11809417e-04],\n",
       "       [-1.94893952e-02,  4.92526264e-17, -9.66841055e-02,\n",
       "        -1.81678095e-01,  0.00000000e+00,  0.00000000e+00,\n",
       "        -1.94893952e-02,  2.37041577e-01,  1.02210502e-01,\n",
       "        -1.39244115e-01],\n",
       "       [-1.60121442e-01, -1.58847245e-16, -8.86900546e-01,\n",
       "         4.63926356e-01,  0.00000000e+00,  0.00000000e+00,\n",
       "        -1.60121442e-01,  1.02210502e-01,  1.35581140e+00,\n",
       "        -9.30579136e-01],\n",
       "       [ 6.11809417e-04,  1.09554811e-16,  7.94934316e-01,\n",
       "        -1.46824486e-01,  0.00000000e+00,  0.00000000e+00,\n",
       "         6.11809417e-04, -1.39244115e-01, -9.30579136e-01,\n",
       "         7.75940129e-01]])"
      ]
     },
     "execution_count": 42,
     "metadata": {},
     "output_type": "execute_result"
    }
   ],
   "source": [
    "Trans_Sty=np.linalg.pinv(Sty)\n",
    "Trans_Sty"
   ]
  },
  {
   "cell_type": "markdown",
   "metadata": {},
   "source": [
    "# Solving Matrix A to make in form of eigen value "
   ]
  },
  {
   "cell_type": "markdown",
   "metadata": {},
   "source": [
    "We will find basically four values\n",
    "1. a=Sbx*Trans_Stx\n",
    "2. b=Cxy*Trans_Sty\n",
    "3. c=Cxy*Trans_Stx\n",
    "4. d=Sby*Trans_Sty"
   ]
  },
  {
   "cell_type": "code",
   "execution_count": 43,
   "metadata": {},
   "outputs": [
    {
     "data": {
      "text/plain": [
       "(10, 10)"
      ]
     },
     "execution_count": 43,
     "metadata": {},
     "output_type": "execute_result"
    }
   ],
   "source": [
    "Sbx.shape"
   ]
  },
  {
   "cell_type": "code",
   "execution_count": 44,
   "metadata": {},
   "outputs": [
    {
     "data": {
      "text/plain": [
       "(10, 10)"
      ]
     },
     "execution_count": 44,
     "metadata": {},
     "output_type": "execute_result"
    }
   ],
   "source": [
    "Sby.shape"
   ]
  },
  {
   "cell_type": "code",
   "execution_count": 45,
   "metadata": {},
   "outputs": [
    {
     "data": {
      "text/plain": [
       "(10, 10)"
      ]
     },
     "execution_count": 45,
     "metadata": {},
     "output_type": "execute_result"
    }
   ],
   "source": [
    "Trans_Stx.shape"
   ]
  },
  {
   "cell_type": "code",
   "execution_count": 46,
   "metadata": {},
   "outputs": [
    {
     "data": {
      "text/plain": [
       "(10, 10)"
      ]
     },
     "execution_count": 46,
     "metadata": {},
     "output_type": "execute_result"
    }
   ],
   "source": [
    "Trans_Sty.shape"
   ]
  },
  {
   "cell_type": "code",
   "execution_count": 47,
   "metadata": {},
   "outputs": [
    {
     "data": {
      "text/plain": [
       "array([[ 0.125    , -0.0390625,  0.125    ,  0.15625  , -0.5      ,\n",
       "         0.       ,  0.       ,  0.125    ,  0.25     ,  0.5      ],\n",
       "       [ 0.125    , -0.2421875,  0.125    ,  0.0625   , -1.25     ,\n",
       "         0.       ,  0.375    ,  0.75     ,  0.1875   ,  0.375    ],\n",
       "       [-0.5      ,  0.03125  ,  0.125    ,  0.1875   , -1.       ,\n",
       "        -0.03125  ,  0.       , -0.0625   ,  0.3125   ,  0.125    ],\n",
       "       [ 0.75     , -0.1953125,  0.       ,  0.15625  , -0.75     ,\n",
       "        -0.03125  ,  0.       ,  0.       ,  0.3125   ,  0.4375   ],\n",
       "       [ 0.       , -1.       ,  0.       ,  0.03125  , -0.9375   ,\n",
       "        -0.03125  , -0.25     ,  0.25     ,  0.1875   , -0.4375   ],\n",
       "       [ 0.125    ,  0.921875 ,  0.25     ,  0.125    , -1.9375   ,\n",
       "        -0.0625   , -0.125    ,  0.125    ,  0.4375   , -0.375    ],\n",
       "       [-0.375    , -1.171875 ,  0.25     ,  0.15625  , -0.875    ,\n",
       "         0.15625  ,  0.       ,  0.125    ,  0.4375   ,  0.0625   ],\n",
       "       [ 0.125    ,  0.40625  ,  0.125    ,  0.09375  , -1.375    ,\n",
       "        -0.03125  ,  0.       , -0.75     ,  0.25     ,  0.75     ],\n",
       "       [-0.5      ,  0.5      ,  0.       ,  0.1875   , -2.       ,\n",
       "         0.       , -0.75     ,  0.       ,  0.5      ,  1.       ],\n",
       "       [-0.5      , -1.5      ,  0.125    , -0.125    , -0.5      ,\n",
       "         0.125    ,  0.25     ,  0.5      ,  0.375    , -1.       ]])"
      ]
     },
     "execution_count": 47,
     "metadata": {},
     "output_type": "execute_result"
    }
   ],
   "source": [
    "a=np.dot(Sbx,Trans_Stx)\n",
    "a"
   ]
  },
  {
   "cell_type": "code",
   "execution_count": 48,
   "metadata": {},
   "outputs": [
    {
     "data": {
      "text/plain": [
       "array([[ 1.26798819e+01,  1.57158451e-14, -5.99969695e+01,\n",
       "        -6.23452479e+01,  0.00000000e+00,  0.00000000e+00,\n",
       "         1.26798819e+01,  1.22016535e+02,  9.92507469e+01,\n",
       "        -7.60792912e+01],\n",
       "       [ 1.28570884e+01,  1.54823544e-14, -6.13108496e+01,\n",
       "        -6.23216816e+01,  0.00000000e+00,  0.00000000e+00,\n",
       "         1.28570884e+01,  1.21680352e+02,  9.99014160e+01,\n",
       "        -7.71425304e+01],\n",
       "       [ 1.21734298e+01,  1.52708317e-14, -5.74089281e+01,\n",
       "        -6.02159000e+01,  0.00000000e+00,  0.00000000e+00,\n",
       "         1.21734298e+01,  1.17966118e+02,  9.55834491e+01,\n",
       "        -7.30405787e+01],\n",
       "       [ 1.37302996e+01,  1.62138361e-14, -6.58106398e+01,\n",
       "        -6.59223490e+01,  0.00000000e+00,  0.00000000e+00,\n",
       "         1.37302996e+01,  1.28502694e+02,  1.06166295e+02,\n",
       "        -8.23817976e+01],\n",
       "       [ 1.32815750e+01,  1.57941565e-14, -6.35442324e+01,\n",
       "        -6.39855695e+01,  0.00000000e+00,  0.00000000e+00,\n",
       "         1.32815750e+01,  1.24799570e+02,  1.02875747e+02,\n",
       "        -7.96894498e+01],\n",
       "       [ 1.75470976e+01,  1.88393062e-14, -8.60791167e+01,\n",
       "        -8.05315409e+01,  0.00000000e+00,  0.00000000e+00,\n",
       "         1.75470976e+01,  1.55746891e+02,  1.32620710e+02,\n",
       "        -1.05282585e+02],\n",
       "       [ 1.59269623e+01,  1.81652909e-14, -7.70135761e+01,\n",
       "        -7.52000999e+01,  0.00000000e+00,  0.00000000e+00,\n",
       "         1.59269623e+01,  1.46166632e+02,  1.22107242e+02,\n",
       "        -9.55617736e+01],\n",
       "       [ 1.20055542e+01,  1.50592538e-14, -5.66182766e+01,\n",
       "        -5.93835516e+01,  0.00000000e+00,  0.00000000e+00,\n",
       "         1.20055542e+01,  1.16334875e+02,  9.42637160e+01,\n",
       "        -7.20333250e+01],\n",
       "       [ 1.53159625e+01,  1.78189795e-14, -7.36913479e+01,\n",
       "        -7.30075327e+01,  0.00000000e+00,  0.00000000e+00,\n",
       "         1.53159625e+01,  1.42138619e+02,  1.17992599e+02,\n",
       "        -9.18957750e+01],\n",
       "       [ 1.58035804e+01,  1.77653020e-14, -7.66889837e+01,\n",
       "        -7.41055250e+01,  0.00000000e+00,  0.00000000e+00,\n",
       "         1.58035804e+01,  1.43866273e+02,  1.20739960e+02,\n",
       "        -9.48214827e+01]])"
      ]
     },
     "execution_count": 48,
     "metadata": {},
     "output_type": "execute_result"
    }
   ],
   "source": [
    "b=np.dot(Cxy,Trans_Sty)\n",
    "b"
   ]
  },
  {
   "cell_type": "code",
   "execution_count": 49,
   "metadata": {},
   "outputs": [
    {
     "data": {
      "text/plain": [
       "array([[ 1.64989006e+13,  1.36430467e+13, -1.41850080e+13,\n",
       "         1.87173129e+12, -7.71402367e+12, -6.89640283e+12,\n",
       "        -6.44454218e+11, -9.27839804e+12, -3.14329926e+12,\n",
       "         9.84790751e+12],\n",
       "       [ 1.63526007e+13,  1.35314403e+13, -1.40480472e+13,\n",
       "         1.84289888e+12, -7.65752886e+12, -6.82765994e+12,\n",
       "        -6.40729506e+11, -9.19594616e+12, -3.11640755e+12,\n",
       "         9.75937942e+12],\n",
       "       [ 1.59918681e+13,  1.32200003e+13, -1.37535916e+13,\n",
       "         1.81914382e+12, -7.47216075e+12, -6.68752805e+12,\n",
       "        -6.23847016e+11, -8.99333267e+12, -3.04630620e+12,\n",
       "         9.54575415e+12],\n",
       "       [ 1.71970379e+13,  1.42369648e+13, -1.47654016e+13,\n",
       "         1.92922434e+12, -8.06156205e+12, -7.17475097e+12,\n",
       "        -6.75254081e+11, -9.67068992e+12, -3.27804531e+12,\n",
       "         1.02624770e+13],\n",
       "       [ 1.67266809e+13,  1.38452013e+13, -1.43643771e+13,\n",
       "         1.87954964e+12, -7.83806114e+12, -6.98043204e+12,\n",
       "        -6.56282387e+11, -9.40623140e+12, -3.18813953e+12,\n",
       "         9.98209179e+12],\n",
       "       [ 2.04124566e+13,  1.69393470e+13, -1.74779375e+13,\n",
       "         2.23715584e+12, -9.62024450e+12, -8.48350304e+12,\n",
       "        -8.10094303e+11, -1.14781006e+13, -3.89518927e+12,\n",
       "         1.21761099e+13],\n",
       "       [ 1.94139117e+13,  1.60860582e+13, -1.66523447e+13,\n",
       "         2.15989660e+12, -9.11832108e+12, -8.08846730e+12,\n",
       "        -7.65232541e+11, -1.09170784e+13, -3.70206356e+12,\n",
       "         1.15836411e+13],\n",
       "       [ 1.57705131e+13,  1.30370330e+13, -1.35631941e+13,\n",
       "         1.79393732e+12, -7.36875892e+12, -6.59494478e+12,\n",
       "        -6.15216200e+11, -8.86884911e+12, -3.00414221e+12,\n",
       "         9.41362191e+12],\n",
       "       [ 1.89607120e+13,  1.57028060e+13, -1.62728431e+13,\n",
       "         2.11958029e+12, -8.89562869e+12, -7.90591833e+12,\n",
       "        -7.45725610e+11, -1.06623763e+13, -3.61483241e+12,\n",
       "         1.13142262e+13],\n",
       "       [ 1.90478769e+13,  1.57884906e+13, -1.63315494e+13,\n",
       "         2.11170022e+12, -8.95367477e+12, -7.93132894e+12,\n",
       "        -7.52020006e+11, -1.07111363e+13, -3.63286291e+12,\n",
       "         1.13645046e+13]])"
      ]
     },
     "execution_count": 49,
     "metadata": {},
     "output_type": "execute_result"
    }
   ],
   "source": [
    "c=np.dot(Cxy,Trans_Stx)\n",
    "c"
   ]
  },
  {
   "cell_type": "code",
   "execution_count": 50,
   "metadata": {},
   "outputs": [
    {
     "data": {
      "text/plain": [
       "array([[ 8.06142709e-02, -1.15565426e-17, -1.19304904e-02,\n",
       "        -3.68105705e-03,  0.00000000e+00,  0.00000000e+00,\n",
       "         8.06142709e-02, -2.89916188e-04,  4.03247061e-03,\n",
       "         1.63143746e-02],\n",
       "       [ 0.00000000e+00,  0.00000000e+00,  0.00000000e+00,\n",
       "         0.00000000e+00,  0.00000000e+00,  0.00000000e+00,\n",
       "         0.00000000e+00,  0.00000000e+00,  0.00000000e+00,\n",
       "         0.00000000e+00],\n",
       "       [-1.19304904e-02,  1.33920275e-17,  9.25096199e-02,\n",
       "         2.01974944e-02,  0.00000000e+00,  0.00000000e+00,\n",
       "        -1.19304904e-02,  3.02303516e-02, -1.13857994e-02,\n",
       "         7.15829424e-02],\n",
       "       [-3.68105705e-03, -2.04832104e-17,  2.01974944e-02,\n",
       "         1.01101682e-01,  0.00000000e+00,  0.00000000e+00,\n",
       "        -3.68105705e-03, -5.28965263e-02,  5.39244109e-02,\n",
       "         2.20863423e-02],\n",
       "       [ 0.00000000e+00,  0.00000000e+00,  0.00000000e+00,\n",
       "         0.00000000e+00,  0.00000000e+00,  0.00000000e+00,\n",
       "         0.00000000e+00,  0.00000000e+00,  0.00000000e+00,\n",
       "         0.00000000e+00],\n",
       "       [ 0.00000000e+00,  0.00000000e+00,  0.00000000e+00,\n",
       "         0.00000000e+00,  0.00000000e+00,  0.00000000e+00,\n",
       "         0.00000000e+00,  0.00000000e+00,  0.00000000e+00,\n",
       "         0.00000000e+00],\n",
       "       [ 8.06142709e-02, -1.15565426e-17, -1.19304904e-02,\n",
       "        -3.68105705e-03,  0.00000000e+00,  0.00000000e+00,\n",
       "         8.06142709e-02, -2.89916188e-04,  4.03247061e-03,\n",
       "         1.63143746e-02],\n",
       "       [-2.89916188e-04,  2.71472467e-17,  3.02303516e-02,\n",
       "        -5.28965263e-02,  0.00000000e+00,  0.00000000e+00,\n",
       "        -2.89916188e-04,  1.21132254e-01,  4.24331875e-02,\n",
       "         1.73949713e-03],\n",
       "       [ 4.03247061e-03, -6.23851637e-18, -1.13857994e-02,\n",
       "         5.39244109e-02,  0.00000000e+00,  0.00000000e+00,\n",
       "         4.03247061e-03,  4.24331875e-02,  1.21914150e-01,\n",
       "        -2.41948237e-02],\n",
       "       [ 1.63143746e-02,  3.34396689e-18,  7.15829424e-02,\n",
       "         2.20863423e-02,  0.00000000e+00,  0.00000000e+00,\n",
       "         1.63143746e-02,  1.73949713e-03, -2.41948237e-02,\n",
       "         6.87804192e-02]])"
      ]
     },
     "execution_count": 50,
     "metadata": {},
     "output_type": "execute_result"
    }
   ],
   "source": [
    "d=np.dot(Sby,Trans_Sty)\n",
    "d"
   ]
  },
  {
   "cell_type": "markdown",
   "metadata": {},
   "source": [
    "Now my equation is of form of eigen value \n",
    "A.w=lambda.w\n",
    "where A=block matrix like\n",
    " A=[ a      b\n",
    "    c      d \n",
    "    ]\n",
    " \n",
    " \n",
    " w= resultant vector to be finded\n",
    " lambda= eigen value"
   ]
  },
  {
   "cell_type": "markdown",
   "metadata": {},
   "source": [
    "## Eigen Value Decomposition of block matrix"
   ]
  },
  {
   "cell_type": "markdown",
   "metadata": {},
   "source": [
    "Our Block matrices has 4 matrix inside it a,b,c,d as calculated previously so to make it in form of eigen equation we need to solve \n",
    "\n",
    "1.)  ((a)^(-1)*(b)*(d)^(-1)*(c))w=((lambda)*lambda))\n",
    "\n",
    "2.) First find left equation (a)^(-1)*(b)*(d)^(-1)*(c) and it will become in form eigen equation which is (A).w=(lambda.lambda).w\n",
    "\n",
    "3.) The decomposition of block matrices formula is refered through this link\n"
   ]
  },
  {
   "cell_type": "markdown",
   "metadata": {},
   "source": [
    "4.) https://math.stackexchange.com/questions/222689/eigenvalue-decomposition-of-block-covariance-matrix-for-canonical-correlation-an"
   ]
  },
  {
   "cell_type": "markdown",
   "metadata": {},
   "source": [
    "Some notations that would be used below\n",
    "\n",
    "1.) Inv_a= Inverse of matrix a\n",
    "\n",
    "2.) Inv_d=Inverse of matrix d"
   ]
  },
  {
   "cell_type": "code",
   "execution_count": 51,
   "metadata": {},
   "outputs": [
    {
     "data": {
      "text/plain": [
       "array([[ 2.90211375e+00, -6.81568367e-17, -4.29497654e-01,\n",
       "        -1.32518054e-01, -1.02416142e-33,  0.00000000e+00,\n",
       "         2.90211375e+00, -1.04369828e-02,  1.45168942e-01,\n",
       "         5.87317485e-01],\n",
       "       [-7.50838639e-16,  8.62193254e-32,  5.07705279e-16,\n",
       "        -8.03329034e-16,  1.43702681e-31,  0.00000000e+00,\n",
       "        -7.50838639e-16,  1.00136474e-15, -3.00128452e-16,\n",
       "         3.17198610e-17],\n",
       "       [-4.29497654e-01,  5.27494568e-16,  3.33034632e+00,\n",
       "         7.27109799e-01,  1.00455293e-16,  0.00000000e+00,\n",
       "        -4.29497654e-01,  1.08829266e+00, -4.09888778e-01,\n",
       "         2.57698593e+00],\n",
       "       [-1.32518054e-01, -2.64031266e-16,  7.27109799e-01,\n",
       "         3.63966053e+00, -3.54289713e-16,  0.00000000e+00,\n",
       "        -1.32518054e-01, -1.90427495e+00,  1.94127879e+00,\n",
       "         7.95108323e-01],\n",
       "       [ 7.25669322e-32, -5.72646008e-33,  1.71660088e-17,\n",
       "        -6.05417605e-17,  1.26377050e-32,  0.00000000e+00,\n",
       "         7.23957854e-32,  9.38970673e-17,  1.31701156e-17,\n",
       "        -2.69361206e-18],\n",
       "       [ 0.00000000e+00,  0.00000000e+00,  0.00000000e+00,\n",
       "         0.00000000e+00,  0.00000000e+00,  0.00000000e+00,\n",
       "         0.00000000e+00,  0.00000000e+00,  0.00000000e+00,\n",
       "         0.00000000e+00],\n",
       "       [ 2.90211375e+00, -6.81568367e-17, -4.29497654e-01,\n",
       "        -1.32518054e-01,  6.11592568e-31,  0.00000000e+00,\n",
       "         2.90211375e+00, -1.04369828e-02,  1.45168942e-01,\n",
       "         5.87317485e-01],\n",
       "       [-1.04369828e-02, -4.45993633e-16,  1.08829266e+00,\n",
       "        -1.90427495e+00,  5.49484599e-16,  0.00000000e+00,\n",
       "        -1.04369828e-02,  4.36076116e+00,  1.52759475e+00,\n",
       "         6.26218966e-02],\n",
       "       [ 1.45168942e-01, -1.20881978e-15, -4.09888778e-01,\n",
       "         1.94127879e+00,  7.70713710e-17,  0.00000000e+00,\n",
       "         1.45168942e-01,  1.52759475e+00,  4.38890939e+00,\n",
       "        -8.71013652e-01],\n",
       "       [ 5.87317485e-01,  5.94318756e-16,  2.57698593e+00,\n",
       "         7.95108323e-01, -1.57629880e-17,  0.00000000e+00,\n",
       "         5.87317485e-01,  6.26218966e-02, -8.71013652e-01,\n",
       "         2.47609509e+00]])"
      ]
     },
     "execution_count": 51,
     "metadata": {},
     "output_type": "execute_result"
    }
   ],
   "source": [
    "Inv_a=np.linalg.pinv(a)\n",
    "Inv_d=np.linalg.pinv(d)\n",
    "Inv_a\n",
    "Inv_d"
   ]
  },
  {
   "cell_type": "markdown",
   "metadata": {},
   "source": [
    "Our F would be final matrix and will make equation in eigen form i.e. (F.w)=(lambda.lambda).w"
   ]
  },
  {
   "cell_type": "markdown",
   "metadata": {},
   "source": [
    "Since R.H.S would be square of lambda so we will take sqaure root of matrix F"
   ]
  },
  {
   "cell_type": "code",
   "execution_count": 52,
   "metadata": {},
   "outputs": [
    {
     "data": {
      "text/plain": [
       "array([[-2.57338148e+14, -2.13488216e+14,  2.20420130e+14,\n",
       "        -2.82881581e+13,  1.21199370e+14,  1.07003255e+14,\n",
       "         1.01990462e+13,  1.44704692e+14,  4.90995534e+13,\n",
       "        -1.53511526e+14],\n",
       "       [-3.00308299e+15, -2.47896190e+15,  2.58705293e+15,\n",
       "        -3.46310928e+14,  1.39861168e+15,  1.25875259e+15,\n",
       "         1.16387142e+14,  1.68890947e+15,  5.71683638e+14,\n",
       "        -1.79304164e+15],\n",
       "       [ 1.46790584e+16,  1.21145104e+16, -1.26486619e+16,\n",
       "         1.69622181e+15, -6.83304599e+15, -6.15492162e+15,\n",
       "        -5.68337982e+14, -8.25543343e+15, -2.79411053e+15,\n",
       "         8.76472092e+15],\n",
       "       [-1.09857408e+16, -9.06666922e+15,  9.46593328e+15,\n",
       "        -1.26915144e+15,  5.11410604e+15,  4.60613348e+15,\n",
       "         4.25389263e+14,  6.17832467e+15,  2.09112315e+15,\n",
       "        -6.55944852e+15],\n",
       "       [ 9.32679683e+14,  7.70352620e+14, -8.02933047e+14,\n",
       "         1.06965808e+14, -4.34946097e+14, -3.90570252e+14,\n",
       "        -3.62426787e+13, -5.24522898e+14, -1.77597351e+14,\n",
       "         5.56814217e+14],\n",
       "       [-3.73952161e+16, -3.08706702e+16,  3.22123636e+16,\n",
       "        -4.30980704e+15,  1.74183812e+16,  1.56727505e+16,\n",
       "         1.44969976e+15,  2.10307284e+16,  7.11896657e+15,\n",
       "        -2.23271969e+16],\n",
       "       [-8.57371004e+14, -7.06817637e+14,  7.39691389e+14,\n",
       "        -1.00069965e+14,  3.98132244e+14,  3.60114029e+14,\n",
       "         3.30331384e+13,  4.82195933e+14,  1.63117804e+14,\n",
       "        -5.12025936e+14],\n",
       "       [ 6.90532807e+14,  5.69473180e+14, -5.95517591e+14,\n",
       "         8.03396412e+13, -3.20909121e+14, -2.89878733e+14,\n",
       "        -2.66469947e+13, -3.88360346e+14, -1.31396893e+14,\n",
       "         4.12364055e+14],\n",
       "       [ 1.34889875e+16,  1.11305563e+16, -1.16253458e+16,\n",
       "         1.56105234e+15, -6.27678760e+15, -5.65738207e+15,\n",
       "        -5.21879461e+14, -7.58617728e+15, -2.56739625e+15,\n",
       "         8.05437239e+15],\n",
       "       [ 2.97733753e+15,  2.45830952e+15, -2.56415851e+15,\n",
       "         3.42558790e+14, -1.38738359e+15, -1.24747539e+15,\n",
       "        -1.15516727e+14, -1.67441903e+15, -5.66845364e+14,\n",
       "         1.77759279e+15]])"
      ]
     },
     "execution_count": 52,
     "metadata": {},
     "output_type": "execute_result"
    }
   ],
   "source": [
    "F1=np.dot(Inv_a,b)\n",
    "F2=np.dot(F1,Inv_d)\n",
    "F=np.dot(F2,c)\n",
    "F"
   ]
  },
  {
   "cell_type": "markdown",
   "metadata": {},
   "source": [
    "Making all values of F that are less than zero equal to zero so as to perform square root of matrix for all positive values"
   ]
  },
  {
   "cell_type": "code",
   "execution_count": 53,
   "metadata": {},
   "outputs": [
    {
     "data": {
      "text/plain": [
       "array([[0.00000000e+00, 0.00000000e+00, 2.20420130e+14, 0.00000000e+00,\n",
       "        1.21199370e+14, 1.07003255e+14, 1.01990462e+13, 1.44704692e+14,\n",
       "        4.90995534e+13, 0.00000000e+00],\n",
       "       [0.00000000e+00, 0.00000000e+00, 2.58705293e+15, 0.00000000e+00,\n",
       "        1.39861168e+15, 1.25875259e+15, 1.16387142e+14, 1.68890947e+15,\n",
       "        5.71683638e+14, 0.00000000e+00],\n",
       "       [1.46790584e+16, 1.21145104e+16, 0.00000000e+00, 1.69622181e+15,\n",
       "        0.00000000e+00, 0.00000000e+00, 0.00000000e+00, 0.00000000e+00,\n",
       "        0.00000000e+00, 8.76472092e+15],\n",
       "       [0.00000000e+00, 0.00000000e+00, 9.46593328e+15, 0.00000000e+00,\n",
       "        5.11410604e+15, 4.60613348e+15, 4.25389263e+14, 6.17832467e+15,\n",
       "        2.09112315e+15, 0.00000000e+00],\n",
       "       [9.32679683e+14, 7.70352620e+14, 0.00000000e+00, 1.06965808e+14,\n",
       "        0.00000000e+00, 0.00000000e+00, 0.00000000e+00, 0.00000000e+00,\n",
       "        0.00000000e+00, 5.56814217e+14],\n",
       "       [0.00000000e+00, 0.00000000e+00, 3.22123636e+16, 0.00000000e+00,\n",
       "        1.74183812e+16, 1.56727505e+16, 1.44969976e+15, 2.10307284e+16,\n",
       "        7.11896657e+15, 0.00000000e+00],\n",
       "       [0.00000000e+00, 0.00000000e+00, 7.39691389e+14, 0.00000000e+00,\n",
       "        3.98132244e+14, 3.60114029e+14, 3.30331384e+13, 4.82195933e+14,\n",
       "        1.63117804e+14, 0.00000000e+00],\n",
       "       [6.90532807e+14, 5.69473180e+14, 0.00000000e+00, 8.03396412e+13,\n",
       "        0.00000000e+00, 0.00000000e+00, 0.00000000e+00, 0.00000000e+00,\n",
       "        0.00000000e+00, 4.12364055e+14],\n",
       "       [1.34889875e+16, 1.11305563e+16, 0.00000000e+00, 1.56105234e+15,\n",
       "        0.00000000e+00, 0.00000000e+00, 0.00000000e+00, 0.00000000e+00,\n",
       "        0.00000000e+00, 8.05437239e+15],\n",
       "       [2.97733753e+15, 2.45830952e+15, 0.00000000e+00, 3.42558790e+14,\n",
       "        0.00000000e+00, 0.00000000e+00, 0.00000000e+00, 0.00000000e+00,\n",
       "        0.00000000e+00, 1.77759279e+15]])"
      ]
     },
     "execution_count": 53,
     "metadata": {},
     "output_type": "execute_result"
    }
   ],
   "source": [
    "F[F<0]=0\n",
    "F"
   ]
  },
  {
   "cell_type": "code",
   "execution_count": 54,
   "metadata": {},
   "outputs": [
    {
     "data": {
      "text/plain": [
       "array([[0.00000000e+00, 0.00000000e+00, 1.48465528e+07, 0.00000000e+00,\n",
       "        1.10090585e+07, 1.03442378e+07, 3.19359456e+06, 1.20293263e+07,\n",
       "        7.00710735e+06, 0.00000000e+00],\n",
       "       [0.00000000e+00, 0.00000000e+00, 5.08630802e+07, 0.00000000e+00,\n",
       "        3.73980171e+07, 3.54789035e+07, 1.07882873e+07, 4.10963437e+07,\n",
       "        2.39099067e+07, 0.00000000e+00],\n",
       "       [1.21157164e+08, 1.10065937e+08, 0.00000000e+00, 4.11852135e+07,\n",
       "        0.00000000e+00, 0.00000000e+00, 0.00000000e+00, 0.00000000e+00,\n",
       "        0.00000000e+00, 9.36200882e+07],\n",
       "       [0.00000000e+00, 0.00000000e+00, 9.72930279e+07, 0.00000000e+00,\n",
       "        7.15129781e+07, 6.78685014e+07, 2.06249670e+07, 7.86023197e+07,\n",
       "        4.57288000e+07, 0.00000000e+00],\n",
       "       [3.05398049e+07, 2.77552269e+07, 0.00000000e+00, 1.03424276e+07,\n",
       "        0.00000000e+00, 0.00000000e+00, 0.00000000e+00, 0.00000000e+00,\n",
       "        0.00000000e+00, 2.35969112e+07],\n",
       "       [0.00000000e+00, 0.00000000e+00, 1.79478031e+08, 0.00000000e+00,\n",
       "        1.31978715e+08, 1.25190856e+08, 3.80749229e+07, 1.45019752e+08,\n",
       "        8.43739686e+07, 0.00000000e+00],\n",
       "       [0.00000000e+00, 0.00000000e+00, 2.71972680e+07, 0.00000000e+00,\n",
       "        1.99532515e+07, 1.89766707e+07, 5.74744625e+06, 2.19589602e+07,\n",
       "        1.27717581e+07, 0.00000000e+00],\n",
       "       [2.62779909e+07, 2.38636372e+07, 0.00000000e+00, 8.96323832e+06,\n",
       "        0.00000000e+00, 0.00000000e+00, 0.00000000e+00, 0.00000000e+00,\n",
       "        0.00000000e+00, 2.03067490e+07],\n",
       "       [1.16142100e+08, 1.05501452e+08, 0.00000000e+00, 3.95101549e+07,\n",
       "        0.00000000e+00, 0.00000000e+00, 0.00000000e+00, 0.00000000e+00,\n",
       "        0.00000000e+00, 8.97461553e+07],\n",
       "       [5.45649844e+07, 4.95813424e+07, 0.00000000e+00, 1.85083438e+07,\n",
       "        0.00000000e+00, 0.00000000e+00, 0.00000000e+00, 0.00000000e+00,\n",
       "        0.00000000e+00, 4.21615084e+07]])"
      ]
     },
     "execution_count": 54,
     "metadata": {},
     "output_type": "execute_result"
    }
   ],
   "source": [
    "F_Final=np.sqrt(F)\n",
    "F_Final"
   ]
  },
  {
   "cell_type": "markdown",
   "metadata": {},
   "source": [
    "Applying S.V.D which will give 3 output matrix U,D,V"
   ]
  },
  {
   "cell_type": "code",
   "execution_count": 55,
   "metadata": {},
   "outputs": [
    {
     "data": {
      "text/plain": [
       "array([[-4.73777641e-18,  3.73651861e-17,  5.82617654e-01,\n",
       "        -1.05480961e-16,  4.28386081e-01,  4.06396899e-01,\n",
       "         1.23578534e-01,  4.70745409e-01,  2.73880816e-01,\n",
       "        -1.28247062e-18],\n",
       "       [-6.27710155e-01, -5.70242117e-01, -2.79976815e-18,\n",
       "        -2.13395645e-01, -2.07626803e-18, -1.95077194e-18,\n",
       "        -6.02247243e-19, -2.26920152e-18, -1.32150507e-18,\n",
       "        -4.85042460e-01],\n",
       "       [-7.97387198e-14,  7.92517075e-14, -4.02677037e-01,\n",
       "        -7.36541158e-14,  7.07082859e-01, -4.08065979e-01,\n",
       "         3.96524702e-01,  3.74578818e-02,  1.12837315e-01,\n",
       "         4.24256067e-14],\n",
       "       [-4.29596727e-02, -3.14735963e-01, -8.44879722e-14,\n",
       "         9.48168788e-01,  3.70737281e-14, -5.46304246e-14,\n",
       "         9.99407164e-15,  1.14769492e-13,  1.29058589e-15,\n",
       "         8.46695877e-03],\n",
       "       [-4.95716915e-11,  3.35827789e-11, -1.14468957e-01,\n",
       "         8.62952033e-12,  7.24567553e-03, -4.11584419e-01,\n",
       "        -6.91614602e-01,  4.80884294e-01,  3.28423753e-01,\n",
       "         2.08741226e-11],\n",
       "       [ 4.06270009e-01, -7.52256572e-01,  6.82428350e-11,\n",
       "        -2.35424759e-01,  4.72332763e-11, -7.01080384e-11,\n",
       "        -6.40913116e-11, -4.20156122e-12, -7.88799148e-11,\n",
       "         4.62201161e-01],\n",
       "       [-4.82795710e-09,  7.50927695e-10, -1.29460334e-01,\n",
       "        -1.74112827e-11,  5.29511869e-01,  4.00669611e-01,\n",
       "        -5.80249053e-01, -4.27934269e-01, -1.50014547e-01,\n",
       "         5.37285464e-09],\n",
       "       [ 6.62630446e-01, -9.93743017e-02, -1.26176949e-06,\n",
       "         3.66482716e-03, -2.88634977e-07,  1.07495880e-06,\n",
       "         1.80452638e-07,  6.48849045e-07,  3.43849137e-07,\n",
       "        -7.42315438e-01],\n",
       "       [-1.15351363e-06,  1.72898307e-07, -6.32887535e-01,\n",
       "        -6.41193838e-09, -1.84227621e-01,  5.56667171e-01,\n",
       "         1.10866469e-01,  1.72349140e-01,  4.62211653e-01,\n",
       "         1.29235409e-06],\n",
       "       [ 4.04134832e-07, -6.06289519e-08,  2.60764495e-01,\n",
       "         2.22799385e-09, -4.63040028e-02, -1.68841663e-01,\n",
       "         1.36165943e-02, -5.76987000e-01,  7.53824184e-01,\n",
       "        -4.52706347e-07]])"
      ]
     },
     "execution_count": 55,
     "metadata": {},
     "output_type": "execute_result"
    }
   ],
   "source": [
    "U,D,V=np.linalg.svd(F_Final)\n",
    "V"
   ]
  },
  {
   "cell_type": "code",
   "execution_count": 56,
   "metadata": {},
   "outputs": [
    {
     "data": {
      "text/plain": [
       "array([[-4.73777641e-18, -6.27710155e-01, -7.97387198e-14,\n",
       "        -4.29596727e-02, -4.95716915e-11,  4.06270009e-01,\n",
       "        -4.82795710e-09,  6.62630446e-01, -1.15351363e-06,\n",
       "         4.04134832e-07],\n",
       "       [ 3.73651861e-17, -5.70242117e-01,  7.92517075e-14,\n",
       "        -3.14735963e-01,  3.35827789e-11, -7.52256572e-01,\n",
       "         7.50927695e-10, -9.93743017e-02,  1.72898307e-07,\n",
       "        -6.06289519e-08],\n",
       "       [ 5.82617654e-01, -2.79976815e-18, -4.02677037e-01,\n",
       "        -8.44879722e-14, -1.14468957e-01,  6.82428350e-11,\n",
       "        -1.29460334e-01, -1.26176949e-06, -6.32887535e-01,\n",
       "         2.60764495e-01],\n",
       "       [-1.05480961e-16, -2.13395645e-01, -7.36541158e-14,\n",
       "         9.48168788e-01,  8.62952033e-12, -2.35424759e-01,\n",
       "        -1.74112827e-11,  3.66482716e-03, -6.41193838e-09,\n",
       "         2.22799385e-09],\n",
       "       [ 4.28386081e-01, -2.07626803e-18,  7.07082859e-01,\n",
       "         3.70737281e-14,  7.24567553e-03,  4.72332763e-11,\n",
       "         5.29511869e-01, -2.88634977e-07, -1.84227621e-01,\n",
       "        -4.63040028e-02],\n",
       "       [ 4.06396899e-01, -1.95077194e-18, -4.08065979e-01,\n",
       "        -5.46304246e-14, -4.11584419e-01, -7.01080384e-11,\n",
       "         4.00669611e-01,  1.07495880e-06,  5.56667171e-01,\n",
       "        -1.68841663e-01],\n",
       "       [ 1.23578534e-01, -6.02247243e-19,  3.96524702e-01,\n",
       "         9.99407164e-15, -6.91614602e-01, -6.40913116e-11,\n",
       "        -5.80249053e-01,  1.80452638e-07,  1.10866469e-01,\n",
       "         1.36165943e-02],\n",
       "       [ 4.70745409e-01, -2.26920152e-18,  3.74578818e-02,\n",
       "         1.14769492e-13,  4.80884294e-01, -4.20156122e-12,\n",
       "        -4.27934269e-01,  6.48849045e-07,  1.72349140e-01,\n",
       "        -5.76987000e-01],\n",
       "       [ 2.73880816e-01, -1.32150507e-18,  1.12837315e-01,\n",
       "         1.29058589e-15,  3.28423753e-01, -7.88799148e-11,\n",
       "        -1.50014547e-01,  3.43849137e-07,  4.62211653e-01,\n",
       "         7.53824184e-01],\n",
       "       [-1.28247062e-18, -4.85042460e-01,  4.24256067e-14,\n",
       "         8.46695877e-03,  2.08741226e-11,  4.62201161e-01,\n",
       "         5.37285464e-09, -7.42315438e-01,  1.29235409e-06,\n",
       "        -4.52706347e-07]])"
      ]
     },
     "execution_count": 56,
     "metadata": {},
     "output_type": "execute_result"
    }
   ],
   "source": [
    "V=V.T\n",
    "V"
   ]
  },
  {
   "cell_type": "markdown",
   "metadata": {},
   "source": [
    "## Last Step: Calculation of Final Projection Vectors wx and wy"
   ]
  },
  {
   "cell_type": "markdown",
   "metadata": {},
   "source": [
    "Formula to calculate wx, wy is\n",
    "\n",
    "1.) wx=(Cxx)^(-1/2)*(U)\n",
    "\n",
    "2.) wy=(Cyy)^(-1/2)*(V)"
   ]
  },
  {
   "cell_type": "code",
   "execution_count": 57,
   "metadata": {},
   "outputs": [
    {
     "data": {
      "text/plain": [
       "array([[ 88651.29352792, 150508.10465505,      0.        ,\n",
       "             0.        ,      0.        ,      0.        ,\n",
       "             0.        ,      0.        ,  59530.47819104,\n",
       "        116643.19437344],\n",
       "       [     0.        ,      0.        ,  87115.86434018,\n",
       "             0.        , 200937.91000288, 131005.55833585,\n",
       "        181962.75766916, 227185.8601941 ,      0.        ,\n",
       "             0.        ],\n",
       "       [ 75267.94628825,      0.        ,      0.        ,\n",
       "         59724.67251904,  95449.14155122,      0.        ,\n",
       "             0.        ,      0.        ,  43476.6076245 ,\n",
       "         41227.10823651],\n",
       "       [ 31272.99691067,  59543.59619569,  42772.52327425,\n",
       "         51924.5505351 ,      0.        ,      0.        ,\n",
       "             0.        ,      0.        ,      0.        ,\n",
       "         63386.6136368 ],\n",
       "       [154531.60675892, 193792.90688655,  82829.16684147,\n",
       "         31446.67262997,      0.        ,      0.        ,\n",
       "             0.        ,      0.        ,  88589.61568104,\n",
       "        184357.70892111],\n",
       "       [ 83572.67941268,  62245.23457844,      0.        ,\n",
       "             0.        ,      0.        ,      0.        ,\n",
       "             0.        ,      0.        ,  41388.32764484,\n",
       "         68219.52312169],\n",
       "       [     0.        ,      0.        ,  89407.03768853,\n",
       "         20599.73276941,      0.        ,  39817.33822186,\n",
       "             0.        ,   9968.39103872,      0.        ,\n",
       "         48912.43465923],\n",
       "       [ 96648.27946687,  59382.25886045,      0.        ,\n",
       "             0.        ,      0.        ,      0.        ,\n",
       "         32970.77370655,      0.        ,      0.        ,\n",
       "         44943.25756637],\n",
       "       [     0.        ,      0.        ,  48923.40139102,\n",
       "             0.        ,  94053.72999132,  66223.51376868,\n",
       "         85372.76153247,  92681.90002368,      0.        ,\n",
       "             0.        ],\n",
       "       [     0.        ,      0.        ,      0.        ,\n",
       "         49356.98237189,  69828.88382445,      0.        ,\n",
       "         90232.54290279,  75674.45448322,      0.        ,\n",
       "             0.        ]])"
      ]
     },
     "execution_count": 57,
     "metadata": {},
     "output_type": "execute_result"
    }
   ],
   "source": [
    "Cxxi=np.linalg.inv(Cxx)\n",
    "Cxxi[Cxxi<0]=0\n",
    "Cxx_sqrt=np.sqrt(Cxxi)\n",
    "Cxx_sqrt"
   ]
  },
  {
   "cell_type": "code",
   "execution_count": 58,
   "metadata": {},
   "outputs": [
    {
     "data": {
      "text/plain": [
       "array([[ 4.22017482e+04, -7.33532836e+04,  7.65677914e+04,\n",
       "        -4.64439170e+04,  3.80843080e+04,  1.04832076e+04,\n",
       "        -1.08379765e+04,  3.74061512e+04, -1.46125585e+05,\n",
       "         8.97230051e+04],\n",
       "       [ 1.33821852e+05, -1.25185675e+05, -6.05093916e+04,\n",
       "        -2.16358407e+04,  1.03212281e+05,  2.50490778e+05,\n",
       "         1.32178560e+05,  3.51228427e+03,  2.43555479e+04,\n",
       "        -1.43760883e+05],\n",
       "       [ 3.25890529e+04, -5.64234278e+04,  5.18663548e+04,\n",
       "        -6.21336961e+04,  5.23505688e+04,  5.41241774e+04,\n",
       "        -5.16604142e+04, -4.89529954e+04,  8.37518901e+03,\n",
       "         1.81938899e+04],\n",
       "       [ 4.01828926e+04, -4.77334926e+04,  1.50334930e+04,\n",
       "        -3.94951106e+04,  2.71629736e+04, -9.58272519e+03,\n",
       "        -4.58328937e+04,  4.33792289e+04, -5.04145974e+04,\n",
       "         5.85070800e+03],\n",
       "       [ 7.15504209e+04, -1.67845506e+05,  1.26554601e+05,\n",
       "        -7.93246027e+04,  7.69651147e+04, -1.23671394e+04,\n",
       "        -4.11922027e+04,  7.93016919e+04, -1.83666092e+05,\n",
       "         8.78962832e+04],\n",
       "       [ 2.07363436e+04, -4.71174511e+04,  7.25547177e+04,\n",
       "        -2.46689191e+04,  3.83913776e+04,  6.20623618e+03,\n",
       "        -6.76432198e+03,  1.90644587e+04, -6.04858024e+04,\n",
       "         5.58820994e+04],\n",
       "       [ 4.30284223e+04, -7.60302392e+04, -8.69503120e+01,\n",
       "        -2.88483686e+04, -6.20341574e+03, -1.93655968e+04,\n",
       "        -1.27496195e+03,  4.97996813e+04,  1.09361530e+04,\n",
       "        -3.18773058e+04],\n",
       "       [ 2.51805807e+04, -1.35467439e+04,  7.02278436e+04,\n",
       "        -2.66005549e+04,  7.04861812e+04,  3.77722987e+03,\n",
       "         7.56424236e+03,  2.42304440e+04, -5.80343960e+04,\n",
       "         2.28495724e+04],\n",
       "       [ 6.68023984e+04, -6.20659838e+04, -2.78335769e+04,\n",
       "        -1.63092255e+04,  4.70229856e+04,  1.03872281e+05,\n",
       "         6.38413618e+04, -2.33997827e+03,  1.23839763e+04,\n",
       "        -7.00926871e+04],\n",
       "       [ 3.41107168e+04, -2.27659178e+04, -4.89524564e+04,\n",
       "        -7.51086169e+03,  8.35598191e+04,  9.50752529e+04,\n",
       "         9.48237563e+02, -6.67107589e+03,  5.97720334e+03,\n",
       "        -3.07157790e+04]])"
      ]
     },
     "execution_count": 58,
     "metadata": {},
     "output_type": "execute_result"
    }
   ],
   "source": [
    "wx=np.dot(Cxx_sqrt,U)\n",
    "wx"
   ]
  },
  {
   "cell_type": "code",
   "execution_count": 59,
   "metadata": {},
   "outputs": [
    {
     "data": {
      "text/plain": [
       "array([[3.80668935e-01, 0.00000000e+00, 0.00000000e+00, 0.00000000e+00,\n",
       "        0.00000000e+00, 0.00000000e+00, 3.80668935e-01, 0.00000000e+00,\n",
       "        0.00000000e+00, 2.47347815e-02],\n",
       "       [6.29084250e-09, 1.64700411e-16, 1.02583862e-08, 0.00000000e+00,\n",
       "        0.00000000e+00, 0.00000000e+00, 6.29084250e-09, 2.83464075e-09,\n",
       "        0.00000000e+00, 1.07903251e-08],\n",
       "       [0.00000000e+00, 1.12186672e-08, 9.25535412e-01, 0.00000000e+00,\n",
       "        0.00000000e+00, 0.00000000e+00, 0.00000000e+00, 0.00000000e+00,\n",
       "        0.00000000e+00, 8.91590890e-01],\n",
       "       [0.00000000e+00, 0.00000000e+00, 0.00000000e+00, 6.79367790e-01,\n",
       "        0.00000000e+00, 0.00000000e+00, 0.00000000e+00, 0.00000000e+00,\n",
       "        6.81121396e-01, 0.00000000e+00],\n",
       "       [0.00000000e+00, 0.00000000e+00, 0.00000000e+00, 0.00000000e+00,\n",
       "        0.00000000e+00, 0.00000000e+00, 0.00000000e+00, 0.00000000e+00,\n",
       "        0.00000000e+00, 0.00000000e+00],\n",
       "       [0.00000000e+00, 0.00000000e+00, 0.00000000e+00, 0.00000000e+00,\n",
       "        0.00000000e+00, 0.00000000e+00, 0.00000000e+00, 0.00000000e+00,\n",
       "        0.00000000e+00, 0.00000000e+00],\n",
       "       [3.80668935e-01, 0.00000000e+00, 0.00000000e+00, 0.00000000e+00,\n",
       "        0.00000000e+00, 0.00000000e+00, 3.80668935e-01, 0.00000000e+00,\n",
       "        0.00000000e+00, 2.47347815e-02],\n",
       "       [0.00000000e+00, 7.01802154e-09, 0.00000000e+00, 0.00000000e+00,\n",
       "        0.00000000e+00, 0.00000000e+00, 0.00000000e+00, 4.86869158e-01,\n",
       "        3.19703772e-01, 0.00000000e+00],\n",
       "       [0.00000000e+00, 0.00000000e+00, 0.00000000e+00, 6.81121396e-01,\n",
       "        0.00000000e+00, 0.00000000e+00, 0.00000000e+00, 3.19703772e-01,\n",
       "        1.16439315e+00, 0.00000000e+00],\n",
       "       [2.47347815e-02, 1.04668434e-08, 8.91590890e-01, 0.00000000e+00,\n",
       "        0.00000000e+00, 0.00000000e+00, 2.47347815e-02, 0.00000000e+00,\n",
       "        0.00000000e+00, 8.80874638e-01]])"
      ]
     },
     "execution_count": 59,
     "metadata": {},
     "output_type": "execute_result"
    }
   ],
   "source": [
    "Cyyi=np.linalg.pinv(Cyy)\n",
    "Cyyi[Cyyi<0]=0\n",
    "Cyy_sqrt=np.sqrt(Cyyi)\n",
    "Cyy_sqrt"
   ]
  },
  {
   "cell_type": "code",
   "execution_count": 60,
   "metadata": {},
   "outputs": [
    {
     "data": {
      "text/plain": [
       "array([[ 4.70425091e-02, -2.50947175e-01,  1.50944636e-01,\n",
       "        -1.61439845e-02, -2.63276194e-01,  1.66086816e-01,\n",
       "        -2.20882790e-01,  2.33881884e-01,  4.22030136e-02,\n",
       "         5.18355708e-03],\n",
       "       [ 8.08852411e-09, -9.18259165e-09, -1.53016247e-09,\n",
       "        -1.78891349e-10, -4.16197109e-09,  7.54308131e-09,\n",
       "        -6.19134939e-09, -3.84133112e-09, -5.30640668e-09,\n",
       "         1.12512954e-09],\n",
       "       [ 5.39233270e-01, -4.32459445e-01, -3.72691857e-01,\n",
       "         7.54905978e-03, -1.05945073e-01,  4.12094336e-01,\n",
       "        -1.19820118e-01, -6.61842851e-01, -5.85758673e-01,\n",
       "         2.41346370e-01],\n",
       "       [ 1.86546084e-01, -1.44974128e-01,  7.68559098e-02,\n",
       "         6.44155334e-01,  2.23696445e-01, -1.59939998e-01,\n",
       "        -1.02178117e-01,  2.48999973e-03,  3.14822242e-01,\n",
       "         5.13445782e-01],\n",
       "       [ 0.00000000e+00,  0.00000000e+00,  0.00000000e+00,\n",
       "         0.00000000e+00,  0.00000000e+00,  0.00000000e+00,\n",
       "         0.00000000e+00,  0.00000000e+00,  0.00000000e+00,\n",
       "         0.00000000e+00],\n",
       "       [ 0.00000000e+00,  0.00000000e+00,  0.00000000e+00,\n",
       "         0.00000000e+00,  0.00000000e+00,  0.00000000e+00,\n",
       "         0.00000000e+00,  0.00000000e+00,  0.00000000e+00,\n",
       "         0.00000000e+00],\n",
       "       [ 4.70425091e-02, -2.50947175e-01,  1.50944636e-01,\n",
       "        -1.61439845e-02, -2.63276194e-01,  1.66086816e-01,\n",
       "        -2.20882790e-01,  2.33881884e-01,  4.22030136e-02,\n",
       "         5.18355708e-03],\n",
       "       [ 3.16752151e-01, -4.00197146e-09,  5.43116028e-02,\n",
       "        -2.20876748e-09,  3.39126044e-01, -5.30661664e-09,\n",
       "        -2.56308213e-01,  4.25137043e-07,  2.31682290e-01,\n",
       "        -3.99167395e-02],\n",
       "       [ 4.69404028e-01, -1.45348340e-01,  1.43362423e-01,\n",
       "         6.45818048e-01,  5.36154890e-01, -1.60352840e-01,\n",
       "        -3.11488110e-01,  2.49680001e-03,  5.93296747e-01,\n",
       "         6.93282794e-01],\n",
       "       [ 5.22513281e-01, -4.42787881e-01, -3.49215226e-01,\n",
       "         6.39572783e-03, -1.19166416e-01,  4.17190273e-01,\n",
       "        -1.29777983e-01, -6.37497945e-01, -5.61533393e-01,\n",
       "         2.32831663e-01]])"
      ]
     },
     "execution_count": 60,
     "metadata": {},
     "output_type": "execute_result"
    }
   ],
   "source": [
    "wy=np.dot(Cyy_sqrt,V)\n",
    "wy"
   ]
  },
  {
   "cell_type": "markdown",
   "metadata": {},
   "source": [
    "The final values wx, wy is hence calculated and these are our final projection vectors"
   ]
  }
 ],
 "metadata": {
  "kernelspec": {
   "display_name": "Python 3",
   "language": "python",
   "name": "python3"
  },
  "language_info": {
   "codemirror_mode": {
    "name": "ipython",
    "version": 3
   },
   "file_extension": ".py",
   "mimetype": "text/x-python",
   "name": "python",
   "nbconvert_exporter": "python",
   "pygments_lexer": "ipython3",
   "version": "3.8.1"
  }
 },
 "nbformat": 4,
 "nbformat_minor": 4
}
