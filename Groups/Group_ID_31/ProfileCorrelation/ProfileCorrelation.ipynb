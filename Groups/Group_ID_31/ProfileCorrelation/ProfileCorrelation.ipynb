{
 "cells": [
  {
   "cell_type": "markdown",
   "metadata": {},
   "source": [
    "# Profile Correlation(Feature Extraction from Image)"
   ]
  },
  {
   "cell_type": "markdown",
   "metadata": {},
   "source": [
    "# Package Name- ProfileCorrelation"
   ]
  },
  {
   "cell_type": "code",
   "execution_count": 7,
   "metadata": {},
   "outputs": [],
   "source": [
    "import math\n",
    "import sys\n",
    "import timeit\n",
    "from PIL import Image\n",
    "from skimage import io, feature\n",
    "from skimage.io import imread, imshow\n",
    "from ProfileCorrelation import ProfileCorrelation\n",
    "import numpy as np\n",
    "from scipy import ndimage"
   ]
  },
  {
   "cell_type": "markdown",
   "metadata": {},
   "source": [
    "# Method:\n",
    "ProfileCorrelation(im1,im2):\n",
    "\n",
    "This method returns correlation coefficient of each pixel and we pass two parameters in the method i.e. im1 and im2 where im1 is the original image and im2 is the subset of the original image."
   ]
  },
  {
   "cell_type": "markdown",
   "metadata": {},
   "source": [
    "# Example:"
   ]
  },
  {
   "cell_type": "code",
   "execution_count": 14,
   "metadata": {
    "scrolled": true
   },
   "outputs": [
    {
     "name": "stderr",
     "output_type": "stream",
     "text": [
      "c:\\users\\lenovo\\appdata\\local\\programs\\python\\python38\\lib\\site-packages\\skimage\\feature\\__init__.py:43: skimage_deprecation: Function ``register_translation`` is deprecated and will be removed in version 0.19. Use ``skimage.registration.phase_cross_correlation`` instead.\n",
      "  removed_version='0.19')\n"
     ]
    },
    {
     "name": "stdout",
     "output_type": "stream",
     "text": [
      "Saving as: {output_file}\n",
      "[[ 0.          0.          0.         ...  0.          0.\n",
      "   0.        ]\n",
      " [ 0.          0.5782791   0.30952942 ...  0.32651416  0.\n",
      "   0.        ]\n",
      " [ 0.          0.00156183 -0.42498232 ...  0.58844822  0.\n",
      "   0.        ]\n",
      " ...\n",
      " [ 0.          0.49477909  0.82767662 ...  0.55902822  0.\n",
      "   0.        ]\n",
      " [ 0.          0.          0.         ...  0.          0.\n",
      "   0.        ]\n",
      " [ 0.          0.          0.         ...  0.          0.\n",
      "   0.        ]]\n"
     ]
    }
   ],
   "source": [
    "im = io.imread('yashika.jpg', as_gray=True)\n",
    "\n",
    "im1 = im[16:263, 4:146]\n",
    "sh_row, sh_col = im1.shape\n",
    "im2 = im[16:263, 155:155 + sh_col]\n",
    "\n",
    "pc = ProfileCorrelation()\n",
    "pc_matrix = pc.find_profilecorrelation(im1, im2)\n",
    "print(pc_matrix)"
   ]
  },
  {
   "cell_type": "code",
   "execution_count": null,
   "metadata": {},
   "outputs": [],
   "source": []
  }
 ],
 "metadata": {
  "kernelspec": {
   "display_name": "Python 3",
   "language": "python",
   "name": "python3"
  },
  "language_info": {
   "codemirror_mode": {
    "name": "ipython",
    "version": 3
   },
   "file_extension": ".py",
   "mimetype": "text/x-python",
   "name": "python",
   "nbconvert_exporter": "python",
   "pygments_lexer": "ipython3",
   "version": "3.8.3"
  }
 },
 "nbformat": 4,
 "nbformat_minor": 4
}
