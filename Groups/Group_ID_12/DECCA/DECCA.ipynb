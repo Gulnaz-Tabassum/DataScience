{
 "cells": [
  {
   "cell_type": "code",
   "execution_count": 7,
   "metadata": {},
   "outputs": [],
   "source": [
    "import pandas as pd\n",
    "import numpy as np"
   ]
  },
  {
   "cell_type": "code",
   "execution_count": 8,
   "metadata": {},
   "outputs": [],
   "source": [
    "df=pd.read_csv('mfeat-fou', delim_whitespace=True,header=None)\n",
    "df1=pd.read_csv('mfeat-kar', delim_whitespace=True,header=None)\n",
    "\n",
    "#df1=pd.read_csv('mfeat-fou', delim_whitespace=True,header=None)"
   ]
  },
  {
   "cell_type": "code",
   "execution_count": 9,
   "metadata": {},
   "outputs": [],
   "source": [
    "a=np.array(df)\n",
    "a=a[:,:64]\n",
    "b=np.array(df1)"
   ]
  },
  {
   "cell_type": "code",
   "execution_count": 10,
   "metadata": {},
   "outputs": [],
   "source": [
    "import pandas as pd\n",
    "import numpy as np\n",
    "class DescriminativeExtendedcca():\n",
    "    def __init__(self):\n",
    "        self.u = [None, None]\n",
    "        self.v = [None, None]\n",
    "    def fit_tranform(self,X,Y):\n",
    "        \"\"\"\n",
    "#        An implementation of Discriminative Extended CCA\n",
    "#         # Arguments:\n",
    "#             X and Y: the matrices containing the data for view 1 and view 2. Each row is a sample.\n",
    "#             outdim_size: specifies the number of new features\n",
    "#         # Returns\n",
    "#             A and B: the linear transformation matrices\n",
    "#             mean1 and mean2: the means of data for both views\n",
    "#         \"\"\"\n",
    "        outdim_size=X.shape[1]\n",
    "        matrix_y=np.dot(Y.T,Y)\n",
    "        matrix_x=np.dot(X.T,X)\n",
    "        #print(matrix_x)\n",
    "        #print(matrix_x)\n",
    "        \n",
    "        \"\"\"Finding Eigen values and Eigen Vectors of both the matrices\"\"\"\n",
    "        [D_x, V_x] = np.linalg.eigh(matrix_x)\n",
    "        [D_y, V_y] = np.linalg.eigh(matrix_y)\n",
    "        #print(V_x)\n",
    "        #print(V_y)\n",
    "        \n",
    "        \"\"\"Converting Eigen value set(D_x,D_y) to daigonal Matrix\"\"\"\n",
    "        eigenval_diag_matrix_x=np.diag(D_x)\n",
    "        eigenval_diag_matrix_y=np.diag(D_y)\n",
    "        \n",
    "        \"\"\"Calculating Deviation for X \"\"\"\n",
    "        sub_dev=np.dot(V_x,np.sqrt(eigenval_diag_matrix_x))\n",
    "        #print(sub_dev)\n",
    "        dev_x=np.dot(sub_dev,V_x.T)\n",
    "        #print(dev_x)\n",
    "        \n",
    "        \"\"\"Calculating Deviation for Y \"\"\"\n",
    "        sub_dev=np.dot(V_y,np.sqrt(eigenval_diag_matrix_y))\n",
    "        dev_y=np.dot(sub_dev,V_y.T)\n",
    "        #print(dev_x)\n",
    "        \n",
    "        \n",
    "        \"\"\"Now we will calculate dev_x*dev_y which will be proportional to Degree of Agreement between X and Y\"\"\"\n",
    "        res=np.dot(dev_x.T,dev_y)\n",
    "       # print(res)\n",
    "        [U, D, V] = np.linalg.svd(res)\n",
    "        self.u=U\n",
    "        self.V=V\n",
    "        ##self.w[0] = np.dot(dev_x, U[:, 0:outdim_size])\n",
    "        #self.w[1] = np.dot(dev_y, V[:, 0:outdim_size])\n",
    "        #D = D[0:outdim_size]\n",
    "        [D2, V2] = np.linalg.eigh(res)\n",
    "        sum_num=np.sum(D2)\n",
    "        sum_den=np.sum(D_x)\n",
    "        return sum_num/sum_den\n",
    "    def get_final_coeffcient(self):\n",
    "         \n",
    "         return self.u,self.v"
   ]
  },
  {
   "cell_type": "code",
   "execution_count": 11,
   "metadata": {},
   "outputs": [],
   "source": [
    "model=DescriminativeExtendedcca()"
   ]
  },
  {
   "cell_type": "code",
   "execution_count": 12,
   "metadata": {},
   "outputs": [
    {
     "data": {
      "text/plain": [
       "7.77100890049928"
      ]
     },
     "execution_count": 12,
     "metadata": {},
     "output_type": "execute_result"
    }
   ],
   "source": [
    "model.fit_tranform(a,b)"
   ]
  },
  {
   "cell_type": "code",
   "execution_count": 13,
   "metadata": {},
   "outputs": [
    {
     "data": {
      "text/plain": [
       "(array([[-0.20027386,  0.42315011,  0.05119975, ...,  0.002039  ,\n",
       "         -0.04137332,  0.06569134],\n",
       "        [-0.39260532, -0.08396303,  0.59306166, ...,  0.00886796,\n",
       "          0.05208261, -0.06218481],\n",
       "        [-0.23742024,  0.51448906, -0.17624518, ...,  0.0105266 ,\n",
       "         -0.00216013, -0.01110619],\n",
       "        ...,\n",
       "        [-0.0902915 , -0.00349087, -0.04059546, ..., -0.0055114 ,\n",
       "         -0.18475038, -0.02222837],\n",
       "        [-0.09089729,  0.04439858, -0.01035985, ..., -0.20215883,\n",
       "         -0.15295671,  0.11204781],\n",
       "        [-0.08687654, -0.02341012, -0.06923417, ...,  0.10098122,\n",
       "         -0.01107934, -0.02622606]]),\n",
       " [None, None])"
      ]
     },
     "execution_count": 13,
     "metadata": {},
     "output_type": "execute_result"
    }
   ],
   "source": [
    "model.get_final_coeffcient()"
   ]
  },
  {
   "cell_type": "code",
   "execution_count": null,
   "metadata": {},
   "outputs": [],
   "source": []
  }
 ],
 "metadata": {
  "kernelspec": {
   "display_name": "Python 3",
   "language": "python",
   "name": "python3"
  },
  "language_info": {
   "codemirror_mode": {
    "name": "ipython",
    "version": 3
   },
   "file_extension": ".py",
   "mimetype": "text/x-python",
   "name": "python",
   "nbconvert_exporter": "python",
   "pygments_lexer": "ipython3",
   "version": "3.7.8"
  }
 },
 "nbformat": 4,
 "nbformat_minor": 4
}
