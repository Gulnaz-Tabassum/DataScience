{
  "nbformat": 4,
  "nbformat_minor": 0,
  "metadata": {
    "colab": {
      "name": "test.ipynb",
      "provenance": []
    },
    "kernelspec": {
      "name": "python3",
      "display_name": "Python 3"
    }
  },
  "cells": [
    {
      "cell_type": "code",
      "metadata": {
        "id": "WTlcPzIqsSkq"
      },
      "source": [
        "from LapMCCA import LapMCCA\r\n",
        "import numpy as np\r\n",
        "lapmcca=LapMCCA(3,2)"
      ],
      "execution_count": 5,
      "outputs": []
    },
    {
      "cell_type": "code",
      "metadata": {
        "colab": {
          "base_uri": "https://localhost:8080/"
        },
        "id": "kEcTtZ4Fx9pH",
        "outputId": "f7da06bd-b6be-4494-d952-506a1514d429"
      },
      "source": [
        "a = np.array([[-1, -4, 3,3], [-25, -1,4,40], [-33, -24,23,34], [1, 1,45,23], [23, 1,1,34], [3, 24,34,25]])\r\n",
        "b = np.array([[-1, -1,2,3], [-2,2, -1,-3], [-3,4, -2,0], [1,2, 1,8], [2,3, 1,5], [3, 4,2,3],[0,1, 0,7]])\r\n",
        "c = np.array([[-1, -1,3,2], [-2, 3,-1,5], [-3, 4,-2,7], [1, 1,3,1], [2, 1,3,4], [3,4, 2,6],[0,2, 0,0],[2,4,7,90]])\r\n",
        "X=np.array([a,b,c])\r\n",
        "label=np.array([[1,1,2,2],\r\n",
        "                [0,0,1,1],\r\n",
        "                [0,1,1,0]])\r\n",
        "alpha=lapmcca.fit(X,label)\r\n",
        "print(np.array(alpha))\r\n"
      ],
      "execution_count": 8,
      "outputs": [
        {
          "output_type": "stream",
          "text": [
            "[array([[ 0.00244387,  0.00139901,  0.00139577],\n",
            "       [-0.66832646, -0.66044211, -0.66041733],\n",
            "       [-0.20555693, -0.20257898, -0.20256961],\n",
            "       [ 0.39657576,  0.39676392,  0.39676461],\n",
            "       [-0.57683945, -0.5848865 , -0.58491128],\n",
            "       [ 0.14513455,  0.15251947,  0.15254241]])\n",
            " array([[ 0.07470596, -0.09038759, -0.08953872],\n",
            "       [ 0.03201904,  0.19290451,  0.17393524],\n",
            "       [ 0.46558397, -0.15954896, -0.1880763 ],\n",
            "       [ 0.56767115, -0.62968083, -0.6280566 ],\n",
            "       [ 0.34364169, -0.35851806, -0.35944044],\n",
            "       [ 0.1197497 , -0.08735528, -0.09082427],\n",
            "       [ 0.56740218, -0.62968085, -0.6280566 ]])\n",
            " array([[ 3.17513534e-02,  3.48551145e-02,  3.48940223e-02],\n",
            "       [ 8.07776166e-02,  7.74787474e-02,  7.74374831e-02],\n",
            "       [ 1.15541424e-01,  1.10601428e-01,  1.10539649e-01],\n",
            "       [-1.00436832e-03,  5.77477961e-04,  5.97285348e-04],\n",
            "       [ 2.14998848e-02,  2.30442503e-02,  2.30635864e-02],\n",
            "       [ 3.47674328e-02,  3.31226806e-02,  3.31021663e-02],\n",
            "       [ 1.00931336e-03, -5.77477932e-04, -5.97285348e-04],\n",
            "       [ 9.88657656e-01,  9.89404201e-01,  9.89413176e-01]])]\n"
          ],
          "name": "stdout"
        },
        {
          "output_type": "stream",
          "text": [
            "/usr/local/lib/python3.6/dist-packages/ipykernel_launcher.py:4: VisibleDeprecationWarning: Creating an ndarray from ragged nested sequences (which is a list-or-tuple of lists-or-tuples-or ndarrays with different lengths or shapes) is deprecated. If you meant to do this, you must specify 'dtype=object' when creating the ndarray\n",
            "  after removing the cwd from sys.path.\n",
            "/content/LapMCCA.py:98: VisibleDeprecationWarning: Creating an ndarray from ragged nested sequences (which is a list-or-tuple of lists-or-tuples-or ndarrays with different lengths or shapes) is deprecated. If you meant to do this, you must specify 'dtype=object' when creating the ndarray\n",
            "  S_w_view=np.array(S_w_view)\n",
            "/content/LapMCCA.py:114: VisibleDeprecationWarning: Creating an ndarray from ragged nested sequences (which is a list-or-tuple of lists-or-tuples-or ndarrays with different lengths or shapes) is deprecated. If you meant to do this, you must specify 'dtype=object' when creating the ndarray\n",
            "  Wij=np.array(Wij)\n",
            "/content/LapMCCA.py:125: VisibleDeprecationWarning: Creating an ndarray from ragged nested sequences (which is a list-or-tuple of lists-or-tuples-or ndarrays with different lengths or shapes) is deprecated. If you meant to do this, you must specify 'dtype=object' when creating the ndarray\n",
            "  Dij=np.array(Dij)\n",
            "/content/LapMCCA.py:136: VisibleDeprecationWarning: Creating an ndarray from ragged nested sequences (which is a list-or-tuple of lists-or-tuples-or ndarrays with different lengths or shapes) is deprecated. If you meant to do this, you must specify 'dtype=object' when creating the ndarray\n",
            "  Lij=np.array(Lij)\n",
            "/content/LapMCCA.py:147: VisibleDeprecationWarning: Creating an ndarray from ragged nested sequences (which is a list-or-tuple of lists-or-tuples-or ndarrays with different lengths or shapes) is deprecated. If you meant to do this, you must specify 'dtype=object' when creating the ndarray\n",
            "  Sij=np.array(Sij)\n",
            "/usr/local/lib/python3.6/dist-packages/ipykernel_launcher.py:9: VisibleDeprecationWarning: Creating an ndarray from ragged nested sequences (which is a list-or-tuple of lists-or-tuples-or ndarrays with different lengths or shapes) is deprecated. If you meant to do this, you must specify 'dtype=object' when creating the ndarray\n",
            "  if __name__ == '__main__':\n"
          ],
          "name": "stderr"
        }
      ]
    },
    {
      "cell_type": "code",
      "metadata": {
        "colab": {
          "base_uri": "https://localhost:8080/"
        },
        "id": "5iYOfeuGyDa3",
        "outputId": "245545a5-2d06-4430-dda3-f79f3fea1325"
      },
      "source": [
        "Xnew=lapmcca.fit_transform(X,label)\r\n",
        "print(np.array(Xnew))"
      ],
      "execution_count": 9,
      "outputs": [
        {
          "output_type": "stream",
          "text": [
            "[[[-19.79821442  -6.63298693  -7.10221061  45.59369457]\n",
            "  [-14.50579821  -8.11305169 -11.99688055  42.88333295]\n",
            "  [-12.18591915  -8.65283495 -13.91456354  41.37779424]]\n",
            "\n",
            " [[  1.00921197   4.05582452   0.95015999  12.02797525]\n",
            "  [  1.22419835   3.76727272   1.08876333  12.21647643]\n",
            "  [  1.27700746   3.69291673   1.12263617  12.25560845]]\n",
            "\n",
            " [[  1.58598885   4.78473105   6.83905367  90.55161172]\n",
            "  [  1.60325422   4.75250744   6.8688732   90.56920862]\n",
            "  [  1.60346973   4.75210402   6.86924509  90.56940382]]]\n"
          ],
          "name": "stdout"
        },
        {
          "output_type": "stream",
          "text": [
            "/content/LapMCCA.py:98: VisibleDeprecationWarning: Creating an ndarray from ragged nested sequences (which is a list-or-tuple of lists-or-tuples-or ndarrays with different lengths or shapes) is deprecated. If you meant to do this, you must specify 'dtype=object' when creating the ndarray\n",
            "  S_w_view=np.array(S_w_view)\n",
            "/content/LapMCCA.py:114: VisibleDeprecationWarning: Creating an ndarray from ragged nested sequences (which is a list-or-tuple of lists-or-tuples-or ndarrays with different lengths or shapes) is deprecated. If you meant to do this, you must specify 'dtype=object' when creating the ndarray\n",
            "  Wij=np.array(Wij)\n",
            "/content/LapMCCA.py:125: VisibleDeprecationWarning: Creating an ndarray from ragged nested sequences (which is a list-or-tuple of lists-or-tuples-or ndarrays with different lengths or shapes) is deprecated. If you meant to do this, you must specify 'dtype=object' when creating the ndarray\n",
            "  Dij=np.array(Dij)\n",
            "/content/LapMCCA.py:136: VisibleDeprecationWarning: Creating an ndarray from ragged nested sequences (which is a list-or-tuple of lists-or-tuples-or ndarrays with different lengths or shapes) is deprecated. If you meant to do this, you must specify 'dtype=object' when creating the ndarray\n",
            "  Lij=np.array(Lij)\n",
            "/content/LapMCCA.py:147: VisibleDeprecationWarning: Creating an ndarray from ragged nested sequences (which is a list-or-tuple of lists-or-tuples-or ndarrays with different lengths or shapes) is deprecated. If you meant to do this, you must specify 'dtype=object' when creating the ndarray\n",
            "  Sij=np.array(Sij)\n"
          ],
          "name": "stderr"
        }
      ]
    },
    {
      "cell_type": "code",
      "metadata": {
        "id": "2yPVzSCWyJYQ"
      },
      "source": [
        ""
      ],
      "execution_count": null,
      "outputs": []
    }
  ]
}