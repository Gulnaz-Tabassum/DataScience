{
  "nbformat": 4,
  "nbformat_minor": 0,
  "metadata": {
    "colab": {
      "name": "test.ipynb",
      "provenance": [],
      "collapsed_sections": []
    },
    "kernelspec": {
      "name": "python3",
      "display_name": "Python 3"
    }
  },
  "cells": [
    {
      "cell_type": "code",
      "metadata": {
        "id": "WTlcPzIqsSkq"
      },
      "source": [
        "from LapMCCA import LapMCCA\r\n",
        "import numpy as np\r\n",
        "lapmcca=LapMCCA(3,2)"
      ],
      "execution_count": 1,
      "outputs": []
    },
    {
      "cell_type": "code",
      "metadata": {
        "colab": {
          "base_uri": "https://localhost:8080/"
        },
        "id": "kEcTtZ4Fx9pH",
        "outputId": "77927350-dcdb-4ed1-e800-a271edb70c7a"
      },
      "source": [
        "a = np.array([[-1, -4, 3,3], [-25, -1,4,40], [-33, -24,23,34], [1, 1,45,23], [23, 1,1,34], [3, 24,34,25]])\r\n",
        "b = np.array([[-1, -1,2,3], [-2,2, -1,-3], [-3,4, -2,0], [1,2, 1,8], [2,3, 1,5], [3, 4,2,3],[0,1, 0,7]])\r\n",
        "c = np.array([[-1, -1,3,2], [-2, 3,-1,5], [-3, 4,-2,7], [1, 1,3,1], [2, 1,3,4], [3,4, 2,6],[0,2, 0,0],[2,4,7,90]])\r\n",
        "X=np.array([a,b,c])\r\n",
        "label=np.array([[1,1,2,2],\r\n",
        "                [0,0,1,1],\r\n",
        "                [0,1,1,0]])\r\n",
        "alpha=lapmcca.fit(X,label)\r\n",
        "print(alpha)"
      ],
      "execution_count": 2,
      "outputs": [
        {
          "output_type": "stream",
          "text": [
            "[array([[-0.02235558, -0.01004901, -0.0048765 ],\n",
            "       [ 0.79495266,  0.72231036,  0.68635594],\n",
            "       [ 0.25532637,  0.22628873,  0.21242904],\n",
            "       [-0.37648549, -0.39228338, -0.39559905],\n",
            "       [ 0.4007634 ,  0.5147323 ,  0.55763754],\n",
            "       [ 0.00251226, -0.09013647, -0.12770044]]), array([[ 0.08641367,  0.08881739,  0.08925373],\n",
            "       [-0.11660547, -0.15928646, -0.16800944],\n",
            "       [ 0.27109985,  0.20974433,  0.196879  ],\n",
            "       [ 0.61886119,  0.6263088 ,  0.62740064],\n",
            "       [ 0.35970217,  0.35985664,  0.35963944],\n",
            "       [ 0.10044049,  0.09340447,  0.09187824],\n",
            "       [ 0.61885184,  0.6263088 ,  0.62740064]]), array([[ 3.45411235e-02,  3.48900889e-02,  3.48944597e-02],\n",
            "       [ 7.78146610e-02,  7.74416548e-02,  7.74370193e-02],\n",
            "       [ 1.11101431e-01,  1.10545895e-01,  1.10538955e-01],\n",
            "       [ 4.22154036e-04,  5.95282931e-04,  5.97508003e-04],\n",
            "       [ 2.28910876e-02,  2.30616317e-02,  2.30638038e-02],\n",
            "       [ 3.32890591e-02,  3.31042402e-02,  3.31019357e-02],\n",
            "       [-4.15845309e-04, -5.95282893e-04, -5.97508003e-04],\n",
            "       [ 9.89330959e-01,  9.89412269e-01,  9.89413277e-01]])]\n"
          ],
          "name": "stdout"
        },
        {
          "output_type": "stream",
          "text": [
            "/usr/local/lib/python3.6/dist-packages/ipykernel_launcher.py:4: VisibleDeprecationWarning: Creating an ndarray from ragged nested sequences (which is a list-or-tuple of lists-or-tuples-or ndarrays with different lengths or shapes) is deprecated. If you meant to do this, you must specify 'dtype=object' when creating the ndarray\n",
            "  after removing the cwd from sys.path.\n"
          ],
          "name": "stderr"
        }
      ]
    },
    {
      "cell_type": "code",
      "metadata": {
        "colab": {
          "base_uri": "https://localhost:8080/"
        },
        "id": "5iYOfeuGyDa3",
        "outputId": "1b7f8769-4730-457b-b7e0-9be580703158"
      },
      "source": [
        "Xnew=lapmcca.fit_transform(X,label)\r\n",
        "print(Xnew)"
      ],
      "execution_count": 3,
      "outputs": [
        {
          "output_type": "stream",
          "text": [
            "[array([[-14.87106001,  -8.0221814 , -11.68259459,  43.10473452],\n",
            "       [-12.33982389,  -8.61886067, -13.79117452,  41.48302282],\n",
            "       [-11.30338523,  -8.8428063 , -14.61199102,  40.76026261]]), array([[ 1.1929622 ,  3.81106431,  1.06886122, 12.19210809],\n",
            "       [ 1.2731324 ,  3.69842106,  1.12015329, 12.25283619],\n",
            "       [ 1.29572767,  3.66621743,  1.13462484, 12.26877801]]), array([[ 1.57686662,  4.80153145,  6.82316697, 90.54076361],\n",
            "       [ 1.60314079,  4.75271974,  6.86867746, 90.56910564],\n",
            "       [ 1.60346831,  4.75210668,  6.86924264, 90.56940254]])]\n"
          ],
          "name": "stdout"
        }
      ]
    },
    {
      "cell_type": "code",
      "metadata": {
        "id": "2yPVzSCWyJYQ"
      },
      "source": [
        ""
      ],
      "execution_count": 3,
      "outputs": []
    }
  ]
}