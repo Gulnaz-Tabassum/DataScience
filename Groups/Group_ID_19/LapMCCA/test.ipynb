{
  "nbformat": 4,
  "nbformat_minor": 0,
  "metadata": {
    "colab": {
      "name": "test.ipynb",
      "provenance": [],
      "collapsed_sections": []
    },
    "kernelspec": {
      "name": "python3",
      "display_name": "Python 3"
    }
  },
  "cells": [
    {
      "cell_type": "code",
      "metadata": {
        "id": "WTlcPzIqsSkq"
      },
      "source": [
        "from LapMCCA import LapMCCA\r\n",
        "import numpy as np\r\n",
        "lapmcca=LapMCCA(3,2)"
      ],
      "execution_count": 1,
      "outputs": []
    },
    {
      "cell_type": "code",
      "metadata": {
        "colab": {
          "base_uri": "https://localhost:8080/"
        },
        "id": "kEcTtZ4Fx9pH",
        "outputId": "7a3c0662-b10f-40a9-e8b1-0293c6045b87"
      },
      "source": [
        "a = np.array([[-1, -4, 3,3], [-25, -1,4,40], [-33, -24,23,34], [1, 1,45,23], [23, 1,1,34], [3, 24,34,25]])\r\n",
        "b = np.array([[-1, -1,2,3], [-2,2, -1,-3], [-3,4, -2,0], [1,2, 1,8], [2,3, 1,5], [3, 4,2,3],[0,1, 0,7]])\r\n",
        "c = np.array([[-1, -1,3,2], [-2, 3,-1,5], [-3, 4,-2,7], [1, 1,3,1], [2, 1,3,4], [3,4, 2,6],[0,2, 0,0],[2,4,7,90]])\r\n",
        "X=np.array([a,b,c])\r\n",
        "label=np.array([[1,1,2,2],\r\n",
        "                [0,0,1,1],\r\n",
        "                [0,1,1,0]])\r\n",
        "alpha=lapmcca.fit(X,label)\r\n",
        "print(alpha)"
      ],
      "execution_count": 2,
      "outputs": [
        {
          "output_type": "stream",
          "text": [
            "[array([[-0.01561364, -0.00715853, -0.00371508],\n",
            "       [ 0.7574964 ,  0.70260264,  0.67785604],\n",
            "       [ 0.24013272,  0.2186611 ,  0.20918661],\n",
            "       [-0.38654606, -0.39437102, -0.39608273],\n",
            "       [ 0.46528832,  0.53906063,  0.56688016],\n",
            "       [-0.0487916 , -0.11122388, -0.13602827]]), array([[ 0.0881417 ,  0.08907191,  0.08934236],\n",
            "       [-0.14611885, -0.16432588, -0.16983177],\n",
            "       [ 0.22894995,  0.20232519,  0.19417741],\n",
            "       [ 0.62436283,  0.62695782,  0.62760979],\n",
            "       [ 0.36003482,  0.3597421 ,  0.3595827 ],\n",
            "       [ 0.09567409,  0.09252639,  0.09155561],\n",
            "       [ 0.62438346,  0.62695782,  0.62760979]]), array([[ 3.29137510e-02,  3.48696749e-02,  3.48942044e-02],\n",
            "       [ 7.95483348e-02,  7.74633053e-02,  7.74372900e-02],\n",
            "       [ 1.13693222e-01,  1.10578309e-01,  1.10539360e-01],\n",
            "       [-4.08174729e-04,  5.84890427e-04,  5.97378042e-04],\n",
            "       [ 2.20852947e-02,  2.30514865e-02,  2.30636769e-02],\n",
            "       [ 3.41538040e-02,  3.31150037e-02,  3.31020703e-02],\n",
            "       [ 4.17442135e-04, -5.84890372e-04, -5.97378042e-04],\n",
            "       [ 9.88942878e-01,  9.89407561e-01,  9.89413218e-01]])]\n"
          ],
          "name": "stdout"
        },
        {
          "output_type": "stream",
          "text": [
            "/usr/local/lib/python3.6/dist-packages/ipykernel_launcher.py:4: VisibleDeprecationWarning: Creating an ndarray from ragged nested sequences (which is a list-or-tuple of lists-or-tuples-or ndarrays with different lengths or shapes) is deprecated. If you meant to do this, you must specify 'dtype=object' when creating the ndarray\n",
            "  after removing the cwd from sys.path.\n",
            "/content/LapMCCA.py:98: VisibleDeprecationWarning: Creating an ndarray from ragged nested sequences (which is a list-or-tuple of lists-or-tuples-or ndarrays with different lengths or shapes) is deprecated. If you meant to do this, you must specify 'dtype=object' when creating the ndarray\n",
            "  S_w_view=np.array(S_w_view)\n",
            "/content/LapMCCA.py:114: VisibleDeprecationWarning: Creating an ndarray from ragged nested sequences (which is a list-or-tuple of lists-or-tuples-or ndarrays with different lengths or shapes) is deprecated. If you meant to do this, you must specify 'dtype=object' when creating the ndarray\n",
            "  Wij=np.array(Wij)\n",
            "/content/LapMCCA.py:125: VisibleDeprecationWarning: Creating an ndarray from ragged nested sequences (which is a list-or-tuple of lists-or-tuples-or ndarrays with different lengths or shapes) is deprecated. If you meant to do this, you must specify 'dtype=object' when creating the ndarray\n",
            "  Dij=np.array(Dij)\n",
            "/content/LapMCCA.py:136: VisibleDeprecationWarning: Creating an ndarray from ragged nested sequences (which is a list-or-tuple of lists-or-tuples-or ndarrays with different lengths or shapes) is deprecated. If you meant to do this, you must specify 'dtype=object' when creating the ndarray\n",
            "  Lij=np.array(Lij)\n",
            "/content/LapMCCA.py:147: VisibleDeprecationWarning: Creating an ndarray from ragged nested sequences (which is a list-or-tuple of lists-or-tuples-or ndarrays with different lengths or shapes) is deprecated. If you meant to do this, you must specify 'dtype=object' when creating the ndarray\n",
            "  Sij=np.array(Sij)\n"
          ],
          "name": "stderr"
        }
      ]
    },
    {
      "cell_type": "code",
      "metadata": {
        "colab": {
          "base_uri": "https://localhost:8080/"
        },
        "id": "5iYOfeuGyDa3",
        "outputId": "38641e96-ac03-46cc-e27d-2fb532308520"
      },
      "source": [
        "Xnew=lapmcca.fit_transform(X,label)\r\n",
        "print(Xnew)"
      ],
      "execution_count": 3,
      "outputs": [
        {
          "output_type": "stream",
          "text": [
            "[array([[-14.56685842,  -8.09799568, -11.94407199,  42.92116644],\n",
            "       [-12.21325993,  -8.64681804, -13.89268248,  41.3965418 ],\n",
            "       [-11.25249811,  -8.8535114 , -14.65168555,  40.72393103]]), array([[ 1.20273605,  3.7973419 ,  1.07507433, 12.19982949],\n",
            "       [ 1.27591253,  3.69447281,  1.12193465, 12.25482673],\n",
            "       [ 1.29679821,  3.66468515,  1.13531013, 12.26951993]]), array([[ 1.59681536,  4.76454974,  6.85777861, 90.56309784],\n",
            "       [ 1.60338933,  4.75225453,  6.86910635, 90.56933107],\n",
            "       [ 1.60347142,  4.75210086,  6.869248  , 90.56940535]])]\n"
          ],
          "name": "stdout"
        },
        {
          "output_type": "stream",
          "text": [
            "/content/LapMCCA.py:98: VisibleDeprecationWarning: Creating an ndarray from ragged nested sequences (which is a list-or-tuple of lists-or-tuples-or ndarrays with different lengths or shapes) is deprecated. If you meant to do this, you must specify 'dtype=object' when creating the ndarray\n",
            "  S_w_view=np.array(S_w_view)\n",
            "/content/LapMCCA.py:114: VisibleDeprecationWarning: Creating an ndarray from ragged nested sequences (which is a list-or-tuple of lists-or-tuples-or ndarrays with different lengths or shapes) is deprecated. If you meant to do this, you must specify 'dtype=object' when creating the ndarray\n",
            "  Wij=np.array(Wij)\n",
            "/content/LapMCCA.py:125: VisibleDeprecationWarning: Creating an ndarray from ragged nested sequences (which is a list-or-tuple of lists-or-tuples-or ndarrays with different lengths or shapes) is deprecated. If you meant to do this, you must specify 'dtype=object' when creating the ndarray\n",
            "  Dij=np.array(Dij)\n",
            "/content/LapMCCA.py:136: VisibleDeprecationWarning: Creating an ndarray from ragged nested sequences (which is a list-or-tuple of lists-or-tuples-or ndarrays with different lengths or shapes) is deprecated. If you meant to do this, you must specify 'dtype=object' when creating the ndarray\n",
            "  Lij=np.array(Lij)\n",
            "/content/LapMCCA.py:147: VisibleDeprecationWarning: Creating an ndarray from ragged nested sequences (which is a list-or-tuple of lists-or-tuples-or ndarrays with different lengths or shapes) is deprecated. If you meant to do this, you must specify 'dtype=object' when creating the ndarray\n",
            "  Sij=np.array(Sij)\n"
          ],
          "name": "stderr"
        }
      ]
    },
    {
      "cell_type": "code",
      "metadata": {
        "id": "2yPVzSCWyJYQ"
      },
      "source": [
        ""
      ],
      "execution_count": 3,
      "outputs": []
    }
  ]
}