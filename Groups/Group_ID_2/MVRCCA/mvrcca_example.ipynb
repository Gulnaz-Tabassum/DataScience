{
 "cells": [
  {
   "cell_type": "code",
   "execution_count": 1,
   "metadata": {},
   "outputs": [],
   "source": [
    "import numpy as np\n",
    "from sklearn.preprocessing import StandardScaler"
   ]
  },
  {
   "cell_type": "code",
   "execution_count": 2,
   "metadata": {},
   "outputs": [],
   "source": [
    "import mvrcca"
   ]
  },
  {
   "cell_type": "code",
   "execution_count": 3,
   "metadata": {},
   "outputs": [],
   "source": [
    "x1 = np.random.randn(4,5)\n",
    "x2 = np.random.randn(4,6)\n",
    "x3 = np.random.randn(4,5)\n",
    "x4 = np.random.randn(4,6)"
   ]
  },
  {
   "cell_type": "code",
   "execution_count": 4,
   "metadata": {},
   "outputs": [
    {
     "data": {
      "text/plain": [
       "<mvrcca.MVRCCA at 0x20c088294c8>"
      ]
     },
     "execution_count": 4,
     "metadata": {},
     "output_type": "execute_result"
    }
   ],
   "source": [
    "mvr = mvrcca.MVRCCA()\n",
    "mvr.fit([x1,x2,x3,x4])"
   ]
  },
  {
   "cell_type": "code",
   "execution_count": 5,
   "metadata": {},
   "outputs": [],
   "source": [
    "res = mvr.transform([x1,x2,x3,x4])"
   ]
  },
  {
   "cell_type": "code",
   "execution_count": 6,
   "metadata": {},
   "outputs": [
    {
     "name": "stdout",
     "output_type": "stream",
     "text": [
      "[array([[-0.15641757, -0.14274856],\n",
      "       [ 0.11667493, -0.05984903],\n",
      "       [-0.08621575,  0.19310336],\n",
      "       [ 0.12595839,  0.00949422]]), array([[-0.15739442, -0.14281866],\n",
      "       [ 0.11682799, -0.05870743],\n",
      "       [-0.08618499,  0.19246567],\n",
      "       [ 0.12675142,  0.00906042]]), array([[-0.15644633, -0.14272396],\n",
      "       [ 0.11655146, -0.06145792],\n",
      "       [-0.08653512,  0.1933625 ],\n",
      "       [ 0.12643   ,  0.01081938]]), array([[-0.15734139, -0.14378836],\n",
      "       [ 0.11637749, -0.0575494 ],\n",
      "       [-0.08646279,  0.19383508],\n",
      "       [ 0.12742668,  0.00750268]])]\n"
     ]
    }
   ],
   "source": [
    "print(res)"
   ]
  },
  {
   "cell_type": "code",
   "execution_count": 7,
   "metadata": {},
   "outputs": [
    {
     "name": "stdout",
     "output_type": "stream",
     "text": [
      "[array([[-0.15641757, -0.14274856],\n",
      "       [ 0.11667493, -0.05984903],\n",
      "       [-0.08621575,  0.19310336],\n",
      "       [ 0.12595839,  0.00949422]]), array([[-0.15739442, -0.14281866],\n",
      "       [ 0.11682799, -0.05870743],\n",
      "       [-0.08618499,  0.19246567],\n",
      "       [ 0.12675142,  0.00906042]]), array([[-0.15644633, -0.14272396],\n",
      "       [ 0.11655146, -0.06145792],\n",
      "       [-0.08653512,  0.1933625 ],\n",
      "       [ 0.12643   ,  0.01081938]]), array([[-0.15734139, -0.14378836],\n",
      "       [ 0.11637749, -0.0575494 ],\n",
      "       [-0.08646279,  0.19383508],\n",
      "       [ 0.12742668,  0.00750268]])]\n"
     ]
    }
   ],
   "source": [
    "abc = mvrcca.MVRCCA()\n",
    "res1 = abc.fit_transform([x1,x2,x3,x4])"
   ]
  },
  {
   "cell_type": "code",
   "execution_count": null,
   "metadata": {},
   "outputs": [],
   "source": []
  }
 ],
 "metadata": {
  "kernelspec": {
   "display_name": "Python 3",
   "language": "python",
   "name": "python3"
  },
  "language_info": {
   "codemirror_mode": {
    "name": "ipython",
    "version": 3
   },
   "file_extension": ".py",
   "mimetype": "text/x-python",
   "name": "python",
   "nbconvert_exporter": "python",
   "pygments_lexer": "ipython3",
   "version": "3.7.4"
  }
 },
 "nbformat": 4,
 "nbformat_minor": 4
}
