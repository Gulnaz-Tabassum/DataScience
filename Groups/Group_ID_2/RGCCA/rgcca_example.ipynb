{
 "cells": [
  {
   "cell_type": "code",
   "execution_count": 1,
   "metadata": {},
   "outputs": [],
   "source": [
    "import numpy as np\n",
    "from sklearn.preprocessing import StandardScaler"
   ]
  },
  {
   "cell_type": "code",
   "execution_count": 2,
   "metadata": {},
   "outputs": [],
   "source": [
    "import rgcca"
   ]
  },
  {
   "cell_type": "code",
   "execution_count": 3,
   "metadata": {},
   "outputs": [],
   "source": [
    "x1 = np.random.randn(4,5)\n",
    "x2 = np.random.randn(4,6)\n",
    "x3 = np.random.randn(4,5)\n",
    "x4 = np.random.randn(4,6)\n",
    "x5 = np.random.randn(4,7)"
   ]
  },
  {
   "cell_type": "code",
   "execution_count": 4,
   "metadata": {},
   "outputs": [],
   "source": [
    "rgc = rgcca.RGCCA()"
   ]
  },
  {
   "cell_type": "code",
   "execution_count": 5,
   "metadata": {},
   "outputs": [
    {
     "data": {
      "text/plain": [
       "<rgcca.RGCCA at 0x2d71fc99888>"
      ]
     },
     "execution_count": 5,
     "metadata": {},
     "output_type": "execute_result"
    }
   ],
   "source": [
    "rgc.fit([x1,x2,x3,x4,x5])"
   ]
  },
  {
   "cell_type": "code",
   "execution_count": 7,
   "metadata": {},
   "outputs": [
    {
     "name": "stdout",
     "output_type": "stream",
     "text": [
      "[array([[-0.16949665,  0.05793227],\n",
      "       [-0.0211854 , -0.16001056],\n",
      "       [ 0.10798999, -0.03515629],\n",
      "       [ 0.08269206,  0.13723458]]), array([[-0.17090446,  0.0609658 ],\n",
      "       [-0.02197387, -0.16084664],\n",
      "       [ 0.114171  , -0.03672295],\n",
      "       [ 0.07870733,  0.1366038 ]]), array([[-0.17219026,  0.05880788],\n",
      "       [-0.02196213, -0.15672825],\n",
      "       [ 0.11426655, -0.03811533],\n",
      "       [ 0.07988584,  0.1360357 ]]), array([[-0.17219929,  0.06023548],\n",
      "       [-0.02200528, -0.16072357],\n",
      "       [ 0.11385121, -0.0369466 ],\n",
      "       [ 0.08035336,  0.13743469]]), array([[-0.17245942,  0.0605209 ],\n",
      "       [-0.02066908, -0.15806151],\n",
      "       [ 0.11352794, -0.03623691],\n",
      "       [ 0.07960056,  0.13377752]])]\n"
     ]
    }
   ],
   "source": [
    "res = rgc.transform([x1,x2,x3,x4,x5])\n",
    "print(res)"
   ]
  },
  {
   "cell_type": "code",
   "execution_count": 9,
   "metadata": {},
   "outputs": [
    {
     "name": "stdout",
     "output_type": "stream",
     "text": [
      "[array([[-0.16949665,  0.05793227],\n",
      "       [-0.0211854 , -0.16001056],\n",
      "       [ 0.10798999, -0.03515629],\n",
      "       [ 0.08269206,  0.13723458]]), array([[-0.17090446,  0.0609658 ],\n",
      "       [-0.02197387, -0.16084664],\n",
      "       [ 0.114171  , -0.03672295],\n",
      "       [ 0.07870733,  0.1366038 ]]), array([[-0.17219026,  0.05880788],\n",
      "       [-0.02196213, -0.15672825],\n",
      "       [ 0.11426655, -0.03811533],\n",
      "       [ 0.07988584,  0.1360357 ]]), array([[-0.17219929,  0.06023548],\n",
      "       [-0.02200528, -0.16072357],\n",
      "       [ 0.11385121, -0.0369466 ],\n",
      "       [ 0.08035336,  0.13743469]]), array([[-0.17245942,  0.0605209 ],\n",
      "       [-0.02066908, -0.15806151],\n",
      "       [ 0.11352794, -0.03623691],\n",
      "       [ 0.07960056,  0.13377752]])]\n"
     ]
    }
   ],
   "source": [
    "abc = rgcca.RGCCA()\n",
    "res1 = abc.fit_transform([x1,x2,x3,x4,x5])"
   ]
  },
  {
   "cell_type": "code",
   "execution_count": 10,
   "metadata": {},
   "outputs": [
    {
     "data": {
      "text/plain": [
       "[array([[ 0.07076432, -0.05528831],\n",
       "        [-0.07778884,  0.04116878],\n",
       "        [-0.00763935, -0.05428245],\n",
       "        [-0.05175223, -0.0253489 ],\n",
       "        [ 0.02329436, -0.00464579]]),\n",
       " array([[-0.0353552 ,  0.0307235 ],\n",
       "        [ 0.01490408, -0.01447572],\n",
       "        [ 0.0460204 , -0.01135475],\n",
       "        [ 0.0383193 ,  0.03107638],\n",
       "        [ 0.02838632, -0.01749865],\n",
       "        [ 0.04974561,  0.05493907]]),\n",
       " array([[-0.00916377, -0.0214017 ],\n",
       "        [ 0.05020281, -0.0219377 ],\n",
       "        [-0.04579865, -0.0108178 ],\n",
       "        [ 0.01722792, -0.00331134],\n",
       "        [ 0.01188978,  0.11156725]]),\n",
       " array([[ 0.01338884, -0.04091204],\n",
       "        [-0.02425717, -0.03513895],\n",
       "        [-0.04830855, -0.00490196],\n",
       "        [ 0.03599462, -0.02984957],\n",
       "        [-0.02779467, -0.01062314],\n",
       "        [-0.00703663, -0.03264378]]),\n",
       " array([[-0.01465044,  0.02532783],\n",
       "        [-0.05515995, -0.0717137 ],\n",
       "        [-0.00725292,  0.06431659],\n",
       "        [-0.02070039,  0.03913111],\n",
       "        [-0.02456448, -0.05027572],\n",
       "        [-0.04061569,  0.01100244],\n",
       "        [ 0.00446662,  0.00592046]])]"
      ]
     },
     "execution_count": 10,
     "metadata": {},
     "output_type": "execute_result"
    }
   ],
   "source": [
    "rgc.weights"
   ]
  },
  {
   "cell_type": "code",
   "execution_count": null,
   "metadata": {},
   "outputs": [],
   "source": []
  }
 ],
 "metadata": {
  "kernelspec": {
   "display_name": "Python 3",
   "language": "python",
   "name": "python3"
  },
  "language_info": {
   "codemirror_mode": {
    "name": "ipython",
    "version": 3
   },
   "file_extension": ".py",
   "mimetype": "text/x-python",
   "name": "python",
   "nbconvert_exporter": "python",
   "pygments_lexer": "ipython3",
   "version": "3.7.4"
  }
 },
 "nbformat": 4,
 "nbformat_minor": 4
}
