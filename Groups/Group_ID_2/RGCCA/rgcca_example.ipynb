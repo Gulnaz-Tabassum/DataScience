{
 "cells": [
  {
   "cell_type": "code",
   "execution_count": 1,
   "metadata": {},
   "outputs": [],
   "source": [
    "import numpy as np\n",
    "from sklearn.preprocessing import StandardScaler"
   ]
  },
  {
   "cell_type": "code",
   "execution_count": 2,
   "metadata": {},
   "outputs": [],
   "source": [
    "import rgcca"
   ]
  },
  {
   "cell_type": "code",
   "execution_count": 3,
   "metadata": {},
   "outputs": [],
   "source": [
    "x1 = np.random.randn(4,5)\n",
    "x2 = np.random.randn(4,6)\n",
    "x3 = np.random.randn(4,5)\n",
    "x4 = np.random.randn(4,6)\n",
    "x5 = np.random.randn(4,7)"
   ]
  },
  {
   "cell_type": "code",
   "execution_count": 4,
   "metadata": {},
   "outputs": [],
   "source": [
    "rgc = rgcca.RGCCA()"
   ]
  },
  {
   "cell_type": "code",
   "execution_count": 5,
   "metadata": {},
   "outputs": [
    {
     "data": {
      "text/plain": [
       "<rgcca.RGCCA at 0x2d71fc99888>"
      ]
     },
     "execution_count": 5,
     "metadata": {},
     "output_type": "execute_result"
    }
   ],
   "source": [
    "rgc.fit([x1,x2,x3,x4,x5])"
   ]
  },
  {
   "cell_type": "code",
   "execution_count": 7,
   "metadata": {},
   "outputs": [
    {
     "name": "stdout",
     "output_type": "stream",
     "text": [
      "[array([[-0.16949665,  0.05793227],\n",
      "       [-0.0211854 , -0.16001056],\n",
      "       [ 0.10798999, -0.03515629],\n",
      "       [ 0.08269206,  0.13723458]]), array([[-0.17090446,  0.0609658 ],\n",
      "       [-0.02197387, -0.16084664],\n",
      "       [ 0.114171  , -0.03672295],\n",
      "       [ 0.07870733,  0.1366038 ]]), array([[-0.17219026,  0.05880788],\n",
      "       [-0.02196213, -0.15672825],\n",
      "       [ 0.11426655, -0.03811533],\n",
      "       [ 0.07988584,  0.1360357 ]]), array([[-0.17219929,  0.06023548],\n",
      "       [-0.02200528, -0.16072357],\n",
      "       [ 0.11385121, -0.0369466 ],\n",
      "       [ 0.08035336,  0.13743469]]), array([[-0.17245942,  0.0605209 ],\n",
      "       [-0.02066908, -0.15806151],\n",
      "       [ 0.11352794, -0.03623691],\n",
      "       [ 0.07960056,  0.13377752]])]\n"
     ]
    }
   ],
   "source": [
    "res = rgc.transform([x1,x2,x3,x4,x5])\n",
    "print(res)"
   ]
  },
  {
   "cell_type": "code",
   "execution_count": null,
   "metadata": {},
   "outputs": [],
   "source": [
    "res1 = "
   ]
  }
 ],
 "metadata": {
  "kernelspec": {
   "display_name": "Python 3",
   "language": "python",
   "name": "python3"
  },
  "language_info": {
   "codemirror_mode": {
    "name": "ipython",
    "version": 3
   },
   "file_extension": ".py",
   "mimetype": "text/x-python",
   "name": "python",
   "nbconvert_exporter": "python",
   "pygments_lexer": "ipython3",
   "version": "3.7.4"
  }
 },
 "nbformat": 4,
 "nbformat_minor": 4
}
