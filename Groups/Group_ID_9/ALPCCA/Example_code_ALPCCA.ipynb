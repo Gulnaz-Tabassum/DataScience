{
 "cells": [
  {
   "cell_type": "code",
   "execution_count": 1,
   "metadata": {},
   "outputs": [],
   "source": [
    "from Alpcca import ALPCCA   #ALPCCA is the class present in folder Alpcca.py\n",
    "import pandas as pd\n",
    "import numpy as np"
   ]
  },
  {
   "cell_type": "code",
   "execution_count": 2,
   "metadata": {},
   "outputs": [],
   "source": [
    "x=pd.read_csv(r'mfeat-mor.csv',delim_whitespace=True,header=None)\n",
    "y=pd.read_csv(r'mfeat-fou.csv',delim_whitespace=True,header=None)"
   ]
  },
  {
   "cell_type": "code",
   "execution_count": 3,
   "metadata": {},
   "outputs": [
    {
     "name": "stdout",
     "output_type": "stream",
     "text": [
      "Enter the k value (K is the number of neighbors to consider);\n",
      "5\n"
     ]
    }
   ],
   "source": [
    "print(\"Enter the k value (K is the number of neighbors to consider);\")\n",
    "k=int(input())"
   ]
  },
  {
   "cell_type": "code",
   "execution_count": 4,
   "metadata": {},
   "outputs": [
    {
     "name": "stdout",
     "output_type": "stream",
     "text": [
      "Reduced X :\n",
      "[[-1.85218780e+00 -9.22528485e-02 -4.26144687e-03  1.66203997e-03\n",
      "   8.58032284e-07  6.73720243e-08]\n",
      " [-1.81843255e+00 -8.87476663e-02 -3.30514356e-03  1.60645507e-03\n",
      "   2.80098796e-06  7.33782838e-09]\n",
      " [-1.80602319e+00 -9.20286331e-02 -4.07694117e-03  1.61608703e-03\n",
      "   1.31806139e-06  2.67205300e-08]\n",
      " ...\n",
      " [-3.58780478e+00 -6.18893843e-02  4.14359222e-03 -2.43026876e-03\n",
      "   9.58148663e-08 -2.91321445e-07]\n",
      " [-3.88119231e+00 -6.00778224e-02  3.76951470e-03 -2.16083699e-03\n",
      "  -1.31664168e-06  6.15775060e-08]\n",
      " [-3.61688976e+00 -6.08916275e-02  4.30569485e-03 -2.40804463e-03\n",
      "   3.79956835e-07 -3.48302834e-07]]\n",
      "Reduced Y :\n",
      "[[-1.42848054e+01 -5.21881027e-02  1.14551815e-02 ...  1.03737410e-04\n",
      "  -8.79457261e-04  6.42785142e-05]\n",
      " [-1.28296365e+01 -7.02891320e-02  1.63442323e-02 ...  1.31758976e-03\n",
      "  -2.32939044e-03  8.73098377e-04]\n",
      " [-1.26670950e+01 -6.71200054e-02  8.64142729e-03 ...  1.28839276e-03\n",
      "  -2.52023977e-03  1.75671816e-03]\n",
      " ...\n",
      " [-1.74289165e+01 -6.19239791e-04  3.41108922e-03 ... -1.90195493e-03\n",
      "  -4.36099077e-04 -3.85023429e-03]\n",
      " [-1.62130901e+01 -1.01848401e-03 -1.02977321e-02 ...  6.22636099e-04\n",
      "   3.93887116e-04  7.64869816e-04]\n",
      " [-1.52436873e+01  1.91433323e-03 -9.29523335e-03 ...  1.20884464e-03\n",
      "   3.79877624e-03  3.44439526e-03]]\n"
     ]
    }
   ],
   "source": [
    "alpcca=ALPCCA(x,y,k)\n",
    "X_new,Y_new=alpcca.fit_transform()\n",
    "print(\"Reduced X :\")\n",
    "print(X_new)\n",
    "print(\"Reduced Y :\")\n",
    "print(Y_new)"
   ]
  },
  {
   "cell_type": "markdown",
   "metadata": {},
   "source": [
    "## Example 1"
   ]
  },
  {
   "cell_type": "code",
   "execution_count": 5,
   "metadata": {},
   "outputs": [],
   "source": [
    "X = [[0., 0., 1.], [1.,0.,0.], [2.,2.,2.], [3.,5.,4.]]\n",
    "Y = [[0.1, -0.2], [0.9, 1.1], [6.2, 5.9], [11.9, 12.3]]\n",
    "X=pd.DataFrame(X)\n",
    "Y=pd.DataFrame(Y)"
   ]
  },
  {
   "cell_type": "code",
   "execution_count": 6,
   "metadata": {},
   "outputs": [
    {
     "name": "stdout",
     "output_type": "stream",
     "text": [
      "Reduced X :\n",
      "[[-3.89568618e-01  2.13556612e-03 -4.17675651e-03]\n",
      " [-4.31846932e-01 -6.58903451e-03  4.99618852e-03]\n",
      " [-2.36052549e+00 -2.68020548e-03  1.58106910e-03]\n",
      " [-4.64805125e+00  4.34198921e-03 -1.86294779e-03]]\n",
      "Reduced Y :\n",
      "[[ 1.02884411e-02 -6.85580837e-06]\n",
      " [-2.08428353e-01  4.44121843e-06]\n",
      " [-1.26168393e+00 -7.67186522e-06]\n",
      " [-2.52290932e+00  7.53126077e-06]]\n"
     ]
    }
   ],
   "source": [
    "alpcca=ALPCCA(X,Y,4)\n",
    "X_new,Y_new=alpcca.fit_transform()\n",
    "print(\"Reduced X :\")\n",
    "print(X_new)\n",
    "print(\"Reduced Y :\")\n",
    "print(Y_new)"
   ]
  },
  {
   "cell_type": "markdown",
   "metadata": {},
   "source": [
    "## Example 2 "
   ]
  },
  {
   "cell_type": "code",
   "execution_count": 7,
   "metadata": {},
   "outputs": [],
   "source": [
    "X = [[0.3, 0.2, 1.5], [1.3,0.2,0.5], [2.3,2.2,2.5], [3.3,5.2,4.5]]\n",
    "Y = [[0.1, -0.2], [0.9, 1.1], [6.2, 5.9], [11.9, 12.3]]\n",
    "X=pd.DataFrame(X)\n",
    "Y=pd.DataFrame(Y)"
   ]
  },
  {
   "cell_type": "code",
   "execution_count": 8,
   "metadata": {},
   "outputs": [
    {
     "name": "stdout",
     "output_type": "stream",
     "text": [
      "Reduced X :\n",
      "[[-6.88909943e-01 -1.06153608e-03 -3.30302871e-03]\n",
      " [-7.32477554e-01 -4.88602738e-03  3.80084631e-03]\n",
      " [-2.45463577e+00 -2.14592024e-03  1.32496153e-03]\n",
      " [-4.50810869e+00  4.44713467e-03 -1.46458793e-03]]\n",
      "Reduced Y :\n",
      "[[ 1.02884411e-02 -6.85741966e-06]\n",
      " [-2.08428353e-01  4.47386062e-06]\n",
      " [-1.26168393e+00 -7.47427153e-06]\n",
      " [-2.52290932e+00  7.92637635e-06]]\n"
     ]
    }
   ],
   "source": [
    "alpcca=ALPCCA(X,Y,4)\n",
    "X_new,Y_new=alpcca.fit_transform()\n",
    "print(\"Reduced X :\")\n",
    "print(X_new)\n",
    "print(\"Reduced Y :\")\n",
    "print(Y_new)"
   ]
  },
  {
   "cell_type": "code",
   "execution_count": null,
   "metadata": {},
   "outputs": [],
   "source": []
  }
 ],
 "metadata": {
  "kernelspec": {
   "display_name": "Python 3",
   "language": "python",
   "name": "python3"
  },
  "language_info": {
   "codemirror_mode": {
    "name": "ipython",
    "version": 3
   },
   "file_extension": ".py",
   "mimetype": "text/x-python",
   "name": "python",
   "nbconvert_exporter": "python",
   "pygments_lexer": "ipython3",
   "version": "3.7.3"
  }
 },
 "nbformat": 4,
 "nbformat_minor": 2
}
