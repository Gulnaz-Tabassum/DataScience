{
 "cells": [
  {
   "cell_type": "code",
   "execution_count": 4,
   "metadata": {},
   "outputs": [],
   "source": [
    "from Lpcca import LPCCA    #LPCCA is the class present in folder lpcca.py\n",
    "import pandas as pd\n",
    "import numpy as np"
   ]
  },
  {
   "cell_type": "code",
   "execution_count": 5,
   "metadata": {},
   "outputs": [],
   "source": [
    "x=pd.read_csv(r'mfeat-mor.csv',delim_whitespace=True,header=None)\n",
    "y=pd.read_csv(r'mfeat-fou.csv',delim_whitespace=True,header=None)"
   ]
  },
  {
   "cell_type": "code",
   "execution_count": 6,
   "metadata": {},
   "outputs": [
    {
     "name": "stdout",
     "output_type": "stream",
     "text": [
      "Enter the k value (K is the number of neighbors to consider):\n",
      "5\n"
     ]
    }
   ],
   "source": [
    "print(\"Enter the k value (K is the number of neighbors to consider):\")\n",
    "k=int(input())"
   ]
  },
  {
   "cell_type": "code",
   "execution_count": 7,
   "metadata": {},
   "outputs": [
    {
     "name": "stdout",
     "output_type": "stream",
     "text": [
      "Reduced X :\n",
      "[[ -6.57913273  -0.64169267   0.21302821  -1.64987656  -0.42263972\n",
      "    0.38913911]\n",
      " [ -6.55214617  -0.61488357   0.22061729  -1.63455002  -0.43883368\n",
      "    0.37831766]\n",
      " [ -6.37086653  -0.63362439   0.20032145  -1.5967536   -0.40040974\n",
      "    0.38047697]\n",
      " ...\n",
      " [-15.66945001  -0.73164845   0.81626925  -3.81473014  -1.64039035\n",
      "    0.63704735]\n",
      " [-17.10676291  -0.76615182   0.91193808  -4.17536977  -1.81160299\n",
      "    0.6882749 ]\n",
      " [-15.84783143  -0.7275732    0.83086717  -3.85606964  -1.6663296\n",
      "    0.64066895]]\n",
      "Reduced Y :\n",
      "[[5.33598167 0.90202708 0.9545263  ... 0.54614376 0.48841677 0.24411812]\n",
      " [5.01283454 0.77829964 0.75451309 ... 0.57678368 0.44566373 0.24750507]\n",
      " [4.92272159 0.81200191 0.78969627 ... 0.55274817 0.44565296 0.22887503]\n",
      " ...\n",
      " [5.80149775 1.49736941 1.89027285 ... 0.47465602 0.68954726 0.21923036]\n",
      " [5.3290344  1.39161786 1.78152749 ... 0.49538159 0.67017366 0.19758505]\n",
      " [4.93363816 1.32722936 1.7139352  ... 0.48279868 0.63046585 0.17674973]]\n"
     ]
    }
   ],
   "source": [
    "lpcca=LPCCA(x,y,k)\n",
    "X_new,Y_new=lpcca.fit_transform()\n",
    "print(\"Reduced X :\")\n",
    "print(X_new)\n",
    "print(\"Reduced Y :\")\n",
    "print(Y_new)"
   ]
  },
  {
   "cell_type": "markdown",
   "metadata": {},
   "source": [
    "## Example 1"
   ]
  },
  {
   "cell_type": "code",
   "execution_count": 8,
   "metadata": {},
   "outputs": [],
   "source": [
    "X = [[0., 0., 1.], [1.,0.,0.], [2.,2.,2.], [3.,5.,4.]]\n",
    "Y = [[0.1, -0.2], [0.9, 1.1], [6.2, 5.9], [11.9, 12.3]]\n",
    "X=pd.DataFrame(X)\n",
    "Y=pd.DataFrame(Y)"
   ]
  },
  {
   "cell_type": "code",
   "execution_count": 9,
   "metadata": {},
   "outputs": [
    {
     "name": "stdout",
     "output_type": "stream",
     "text": [
      "Reduced X :\n",
      "[[ 0.86537029  1.24428534  0.14600908]\n",
      " [ 0.78912431  1.15294729 -0.04861639]\n",
      " [ 6.65602742  2.38296086  0.07179918]\n",
      " [14.19644965  2.40722223  0.13072165]]\n",
      "Reduced Y :\n",
      "[[  0.08082053  -0.2573569 ]\n",
      " [ -1.72612779   0.1657403 ]\n",
      " [-10.47163744  -0.29415229]\n",
      " [-20.92435811   0.27055708]]\n"
     ]
    }
   ],
   "source": [
    "lpcca=LPCCA(X,Y,4)\n",
    "X_new,Y_new=lpcca.fit_transform()\n",
    "print(\"Reduced X :\")\n",
    "print(X_new)\n",
    "print(\"Reduced Y :\")\n",
    "print(Y_new)"
   ]
  },
  {
   "cell_type": "markdown",
   "metadata": {},
   "source": [
    "## Example 2"
   ]
  },
  {
   "cell_type": "code",
   "execution_count": 10,
   "metadata": {},
   "outputs": [],
   "source": [
    "X = [[0.3, 0.2, 1.5], [1.3,0.2,0.5], [2.3,2.2,2.5], [3.3,5.2,4.5]]\n",
    "Y = [[0.1, -0.2], [0.9, 1.1], [6.2, 5.9], [11.9, 12.3]]\n",
    "X=pd.DataFrame(X)\n",
    "Y=pd.DataFrame(Y)"
   ]
  },
  {
   "cell_type": "code",
   "execution_count": 11,
   "metadata": {},
   "outputs": [
    {
     "name": "stdout",
     "output_type": "stream",
     "text": [
      "Reduced X :\n",
      "[[ 1.86949654e+00  1.97116176e+00  1.92130082e-01]\n",
      " [ 1.79325057e+00  1.87982371e+00 -2.49538617e-03]\n",
      " [ 7.66015368e+00  3.10983728e+00  1.17920182e-01]\n",
      " [ 1.52005759e+01  3.13409865e+00  1.76842651e-01]]\n",
      "Reduced Y :\n",
      "[[  0.08082053  -0.2573569 ]\n",
      " [ -1.72612779   0.1657403 ]\n",
      " [-10.47163744  -0.29415229]\n",
      " [-20.92435811   0.27055708]]\n"
     ]
    }
   ],
   "source": [
    "lpcca=LPCCA(X,Y,4)\n",
    "X_new,Y_new=lpcca.fit_transform()\n",
    "print(\"Reduced X :\")\n",
    "print(X_new)\n",
    "print(\"Reduced Y :\")\n",
    "print(Y_new)"
   ]
  },
  {
   "cell_type": "code",
   "execution_count": null,
   "metadata": {},
   "outputs": [],
   "source": []
  },
  {
   "cell_type": "code",
   "execution_count": null,
   "metadata": {},
   "outputs": [],
   "source": []
  }
 ],
 "metadata": {
  "kernelspec": {
   "display_name": "Python 3",
   "language": "python",
   "name": "python3"
  },
  "language_info": {
   "codemirror_mode": {
    "name": "ipython",
    "version": 3
   },
   "file_extension": ".py",
   "mimetype": "text/x-python",
   "name": "python",
   "nbconvert_exporter": "python",
   "pygments_lexer": "ipython3",
   "version": "3.7.3"
  }
 },
 "nbformat": 4,
 "nbformat_minor": 2
}
