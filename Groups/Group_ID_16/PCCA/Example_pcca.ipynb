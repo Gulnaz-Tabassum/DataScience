{
 "cells": [
  {
   "cell_type": "code",
   "execution_count": null,
   "metadata": {},
   "outputs": [],
   "source": [
    "# Example1\n",
    "N = 10 # number of instances\n",
    "NVECS = 2 # number of reduced dimensions\n",
    "\n",
    "# Generate random data\n",
    "X = np.random.rand(N, 4)\n",
    "Y = np.random.rand(N, 5)\n",
    "\n",
    "# Center X to it's mean\n",
    "X_mean = X.mean(axis = 0)\n",
    "X = X - X_mean\n",
    "# Center Y to it's mean\n",
    "Y_mean = Y.mean(axis = 0)\n",
    "Y = Y - Y_mean\n",
    "\n",
    "Z, X1, X2 = pcca([X, Y], nvecs = NVECS, nprojs = N)\n",
    "\n"
   ]
  }
 ],
 "metadata": {
  "kernelspec": {
   "display_name": "Python 3",
   "language": "python",
   "name": "python3"
  },
  "language_info": {
   "codemirror_mode": {
    "name": "ipython",
    "version": 3
   },
   "file_extension": ".py",
   "mimetype": "text/x-python",
   "name": "python",
   "nbconvert_exporter": "python",
   "pygments_lexer": "ipython3",
   "version": "3.8.3"
  }
 },
 "nbformat": 4,
 "nbformat_minor": 4
}
