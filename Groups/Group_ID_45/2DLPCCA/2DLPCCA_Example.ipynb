{
 "cells": [
  {
   "cell_type": "markdown",
   "metadata": {},
   "source": [
    "# 2D LPCCA USING COSINE SIMILARITY"
   ]
  },
  {
   "cell_type": "code",
   "execution_count": 2,
   "metadata": {},
   "outputs": [],
   "source": [
    "from lpcca2d import LPCCA2D\n",
    "import pandas as pd\n",
    "import numpy as np"
   ]
  },
  {
   "cell_type": "code",
   "execution_count": 3,
   "metadata": {},
   "outputs": [],
   "source": [
    "x=pd.read_csv(r'mfeat-mor.csv',delim_whitespace=True,header=None)\n",
    "y=pd.read_csv(r'mfeat-fou.csv',delim_whitespace=True,header=None)"
   ]
  },
  {
   "cell_type": "code",
   "execution_count": 4,
   "metadata": {},
   "outputs": [
    {
     "name": "stdout",
     "output_type": "stream",
     "text": [
      "Enter the K value where K is the number of nearest neighbors to consider:\n",
      "5\n"
     ]
    }
   ],
   "source": [
    "print(\"Enter the K value where K is the number of nearest neighbors to consider:\")\n",
    "k=int(input())"
   ]
  },
  {
   "cell_type": "code",
   "execution_count": 5,
   "metadata": {},
   "outputs": [
    {
     "name": "stdout",
     "output_type": "stream",
     "text": [
      "Reduced Dimension Matrix X :\n",
      "[[-1.62413566e+03  5.78728717e-01 -2.21778256e+00 -1.89176552e+00\n",
      "  -5.60718227e+01  4.33700458e+01]\n",
      " [-1.61298899e+03  5.93628012e-01 -2.02198984e+00 -1.80019439e+00\n",
      "  -5.31028718e+01  3.82019263e+01]\n",
      " [-1.57286314e+03  5.83383389e-01 -2.17195397e+00 -1.86354090e+00\n",
      "  -5.53324064e+01  4.39769716e+01]\n",
      " ...\n",
      " [-3.76845221e+03  1.03894925e+00 -9.45429610e-01 -9.35961432e-01\n",
      "  -4.98076567e+01 -5.41445438e+01]\n",
      " [-4.11999227e+03  1.01933417e+00 -1.15130396e+00 -1.05426575e+00\n",
      "  -5.23938825e+01 -6.29929416e+01]\n",
      " [-3.80963489e+03  1.04061730e+00 -8.77098202e-01 -9.25107254e-01\n",
      "  -4.93061960e+01 -5.66993768e+01]]\n",
      "Reduced Dimension Matrix Y :\n",
      "[[-1.03101753 -0.12045259  0.18346625 ... -0.16019767  0.22318989\n",
      "   0.63973346]\n",
      " [-0.97082907 -0.11550143  0.22819767 ... -0.16707169  0.22759659\n",
      "   0.66395092]\n",
      " [-0.91398479 -0.07536262  0.22333286 ... -0.21285555  0.26499496\n",
      "   0.69774244]\n",
      " ...\n",
      " [-1.07750706 -0.0725814   0.14682246 ...  0.07610384  0.31770067\n",
      "   0.4666356 ]\n",
      " [-0.97620905 -0.06647461  0.08972301 ... -0.0922767   0.25342377\n",
      "   0.5031186 ]\n",
      " [-0.94574539 -0.06804859  0.14620032 ... -0.0783169   0.22431426\n",
      "   0.46893566]]\n"
     ]
    }
   ],
   "source": [
    "lpcca2D=LPCCA2D(x,y,k)\n",
    "ProjectionVectorX,ProjectionVectorY=lpcca2D.fit_transform()\n",
    "print(\"Reduced Dimension Matrix X :\")\n",
    "print(ProjectionVectorX)\n",
    "print(\"Reduced Dimension Matrix Y :\")\n",
    "print(ProjectionVectorY)"
   ]
  },
  {
   "cell_type": "markdown",
   "metadata": {},
   "source": [
    "# Example 1 using 4X3 and 4X2 Matrix "
   ]
  },
  {
   "cell_type": "code",
   "execution_count": 6,
   "metadata": {},
   "outputs": [],
   "source": [
    "X = [[0.7, 0.5, 1.], [1.,0.1,0.9], [2.,2.,2.], [4.1,3.,3.]]\n",
    "Y = [[0.2, -0.9], [0.7, 1.2], [7.2, 3.9], [12.9, 11.3]]\n",
    "X=pd.DataFrame(X)\n",
    "Y=pd.DataFrame(Y)"
   ]
  },
  {
   "cell_type": "code",
   "execution_count": 7,
   "metadata": {},
   "outputs": [
    {
     "name": "stdout",
     "output_type": "stream",
     "text": [
      "Reduced Dimension Matrix X :\n",
      "[[ 1.19417385 -0.05920774 -0.55717435]\n",
      " [ 1.33706342  0.14143374 -0.11071544]\n",
      " [ 2.99299047 -1.08304688 -1.36712016]\n",
      " [ 5.38832211 -1.89558808 -1.47740676]]\n",
      "Reduced Dimension Matrix Y :\n",
      "[[-6.78248579e-01 -6.24482878e-01]\n",
      " [ 1.38923973e+00 -3.60277443e-03]\n",
      " [ 6.98555324e+00 -4.27224132e+00]\n",
      " [ 1.62464520e+01 -5.49115617e+00]]\n"
     ]
    }
   ],
   "source": [
    "lpcca2D=LPCCA2D(X,Y,3)\n",
    "ProjectionVectorX,ProjectionVectorY=lpcca2D.fit_transform()\n",
    "print(\"Reduced Dimension Matrix X :\")\n",
    "print(ProjectionVectorX)\n",
    "print(\"Reduced Dimension Matrix Y :\")\n",
    "print(ProjectionVectorY)"
   ]
  },
  {
   "cell_type": "markdown",
   "metadata": {},
   "source": [
    "# Example 2 using 4X3 and 4X2 Matrix"
   ]
  },
  {
   "cell_type": "code",
   "execution_count": 8,
   "metadata": {},
   "outputs": [],
   "source": [
    "X = [[0.2, 0.3, 1.4], [1.1,0.3,0.4], [2.1,2.3,2.8], [3.2,1.2,3.5]]\n",
    "Y = [[0.2, -0.1], [0.7, 1.3], [7.2, 4.9], [13.9, 11.3]]\n",
    "X=pd.DataFrame(X)\n",
    "Y=pd.DataFrame(Y)"
   ]
  },
  {
   "cell_type": "code",
   "execution_count": 9,
   "metadata": {},
   "outputs": [
    {
     "name": "stdout",
     "output_type": "stream",
     "text": [
      "Reduced Dimension Matrix X :\n",
      "[[-1.27462054 -0.06227483 -0.67931166]\n",
      " [-0.99743615  0.39717556  0.55441203]\n",
      " [-4.13145505 -0.55868731  0.39868242]\n",
      " [-4.7834187   1.00484977  0.19794575]]\n",
      "Reduced Dimension Matrix Y :\n",
      "[[ -0.10359978   0.19815924]\n",
      " [ -1.32857094  -0.64412673]\n",
      " [ -8.70581009   0.24263289]\n",
      " [-17.88441745  -1.02352935]]\n"
     ]
    }
   ],
   "source": [
    "lpcca2D=LPCCA2D(X,Y,3)\n",
    "ProjectionVectorX,ProjectionVectorY=lpcca2D.fit_transform()\n",
    "print(\"Reduced Dimension Matrix X :\")\n",
    "print(ProjectionVectorX)\n",
    "print(\"Reduced Dimension Matrix Y :\")\n",
    "print(ProjectionVectorY)"
   ]
  },
  {
   "cell_type": "code",
   "execution_count": null,
   "metadata": {},
   "outputs": [],
   "source": []
  }
 ],
 "metadata": {
  "kernelspec": {
   "display_name": "Python 3",
   "language": "python",
   "name": "python3"
  },
  "language_info": {
   "codemirror_mode": {
    "name": "ipython",
    "version": 3
   },
   "file_extension": ".py",
   "mimetype": "text/x-python",
   "name": "python",
   "nbconvert_exporter": "python",
   "pygments_lexer": "ipython3",
   "version": "3.8.5"
  }
 },
 "nbformat": 4,
 "nbformat_minor": 4
}
