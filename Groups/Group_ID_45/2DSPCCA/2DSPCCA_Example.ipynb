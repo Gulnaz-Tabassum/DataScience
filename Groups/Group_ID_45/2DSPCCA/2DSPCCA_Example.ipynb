{
 "cells": [
  {
   "cell_type": "markdown",
   "metadata": {},
   "source": [
    "# 2D SPCCA"
   ]
  },
  {
   "cell_type": "code",
   "execution_count": 10,
   "metadata": {},
   "outputs": [],
   "source": [
    "from spcca2d import SPCCA2D\n",
    "import pandas as pd\n",
    "import numpy as np"
   ]
  },
  {
   "cell_type": "code",
   "execution_count": 11,
   "metadata": {},
   "outputs": [],
   "source": [
    "x=pd.read_csv(r'mfeat-mor.csv',delim_whitespace=True,header=None)\n",
    "y=pd.read_csv(r'mfeat-fou.csv',delim_whitespace=True,header=None)"
   ]
  },
  {
   "cell_type": "code",
   "execution_count": 12,
   "metadata": {},
   "outputs": [
    {
     "name": "stdout",
     "output_type": "stream",
     "text": [
      "Enter the K value where K is the number of nearest neighbors to consider:\n",
      "3\n"
     ]
    }
   ],
   "source": [
    "print(\"Enter the K value where K is the number of nearest neighbors to consider:\")\n",
    "k=int(input())"
   ]
  },
  {
   "cell_type": "code",
   "execution_count": 13,
   "metadata": {},
   "outputs": [
    {
     "name": "stdout",
     "output_type": "stream",
     "text": [
      "Reduced Dimension Matrix X :\n",
      "[[-1.14612366e+03 -8.24000051e+01  1.10671844e+00 -1.20930114e+00\n",
      "  -8.17003069e+01 -1.14707613e+03]\n",
      " [-1.13845041e+03 -7.79060554e+01  1.04279674e+00 -1.16849206e+00\n",
      "  -7.72715911e+01 -1.13925783e+03]\n",
      " [-1.10989871e+03 -8.13654791e+01  1.08705215e+00 -1.19674696e+00\n",
      "  -8.07049561e+01 -1.11080658e+03]\n",
      " ...\n",
      " [-2.66395736e+03 -6.74062145e+01 -2.42940975e-01 -9.09620135e-01\n",
      "  -6.68230411e+01 -2.66476429e+03]\n",
      " [-2.91248742e+03 -7.07598853e+01 -1.60827681e-01 -9.62027661e-01\n",
      "  -6.98877196e+01 -2.91351641e+03]\n",
      " [-2.69314297e+03 -6.65509900e+01 -2.50424121e-01 -9.04845592e-01\n",
      "  -6.59996183e+01 -2.69391196e+03]]\n",
      "Reduced Dimension Matrix Y :\n",
      "[[-0.89755259 -0.3284455   0.18450625 ... -0.12449919  0.06522297\n",
      "   0.49201895]\n",
      " [-0.85171999 -0.35682165  0.23604607 ... -0.11502197  0.09312587\n",
      "   0.43923014]\n",
      " [-0.85428583 -0.34201337  0.21914897 ... -0.14107332  0.04925706\n",
      "   0.41531466]\n",
      " ...\n",
      " [-0.95538801 -0.17889467  0.06654858 ... -0.21742447  0.01269367\n",
      "   0.58114303]\n",
      " [-0.91468058 -0.22298302  0.13934782 ... -0.19604888 -0.03233132\n",
      "   0.55798828]\n",
      " [-0.84778594 -0.25563435  0.12301935 ... -0.23859261 -0.02317193\n",
      "   0.61001117]]\n"
     ]
    }
   ],
   "source": [
    "spcca2D=SPCCA2D(x,y,k)\n",
    "ProjectionVectorX,ProjectionVectorY=spcca2D.fit_transform()\n",
    "print(\"Reduced Dimension Matrix X :\")\n",
    "print(ProjectionVectorX)\n",
    "print(\"Reduced Dimension Matrix Y :\")\n",
    "print(ProjectionVectorY)"
   ]
  },
  {
   "cell_type": "markdown",
   "metadata": {},
   "source": [
    "# Example 1 using 4X3 and 4X2 Matrix"
   ]
  },
  {
   "cell_type": "code",
   "execution_count": 14,
   "metadata": {},
   "outputs": [],
   "source": [
    "X = [[0.7, 0.5, 1.], [1.,0.1,0.9], [2.,2.,2.], [4.1,3.,3.]]\n",
    "Y = [[0.2, -0.9], [0.7, 1.2], [7.2, 3.9], [12.9, 11.3]]\n",
    "X=pd.DataFrame(X)\n",
    "Y=pd.DataFrame(Y)"
   ]
  },
  {
   "cell_type": "code",
   "execution_count": 15,
   "metadata": {},
   "outputs": [
    {
     "name": "stdout",
     "output_type": "stream",
     "text": [
      "Reduced Dimension Matrix X :\n",
      "[[ 1.11034833  0.08723552  0.70676484]\n",
      " [ 1.00304682  0.58530838  0.68652107]\n",
      " [ 3.30329169 -0.04910311  1.04204266]\n",
      " [ 5.68063708  0.73910397  1.4121217 ]]\n",
      "Reduced Dimension Matrix Y :\n",
      "[[  0.18483241  -0.90323695]\n",
      " [ -1.12889248   0.80969239]\n",
      " [ -8.16482743   0.62096141]\n",
      " [-16.38914638   5.04934462]]\n"
     ]
    }
   ],
   "source": [
    "spcca2D=SPCCA2D(X,Y,3)\n",
    "ProjectionVectorX,ProjectionVectorY=spcca2D.fit_transform()\n",
    "print(\"Reduced Dimension Matrix X :\")\n",
    "print(ProjectionVectorX)\n",
    "print(\"Reduced Dimension Matrix Y :\")\n",
    "print(ProjectionVectorY)"
   ]
  },
  {
   "cell_type": "markdown",
   "metadata": {},
   "source": [
    "# Example 2 using 4X3 and 4X2 Matrix"
   ]
  },
  {
   "cell_type": "code",
   "execution_count": 16,
   "metadata": {},
   "outputs": [],
   "source": [
    "X = [[0.2, 0.3, 1.4], [1.1,0.3,0.4], [2.1,2.3,2.8], [3.2,1.2,3.5]]\n",
    "Y = [[0.2, -0.1], [0.7, 1.3], [7.2, 4.9], [13.9, 11.3]]\n",
    "X=pd.DataFrame(X)\n",
    "Y=pd.DataFrame(Y)"
   ]
  },
  {
   "cell_type": "code",
   "execution_count": 17,
   "metadata": {},
   "outputs": [
    {
     "name": "stdout",
     "output_type": "stream",
     "text": [
      "Reduced Dimension Matrix X :\n",
      "[[-1.21916941  0.26378173  0.73078393]\n",
      " [-0.1457697  -0.45276787  1.1107441 ]\n",
      " [-2.80274877 -1.47572837  2.73985859]\n",
      " [-2.46958317 -0.61927506  4.17703931]]\n",
      "Reduced Dimension Matrix Y :\n",
      "[[ -0.14274079  -0.17211934]\n",
      " [ -1.16453578   0.90766537]\n",
      " [ -8.5641325    1.58291959]\n",
      " [-17.27515772   4.74013983]]\n"
     ]
    }
   ],
   "source": [
    "spcca2D=SPCCA2D(X,Y,3)\n",
    "ProjectionVectorX,ProjectionVectorY=spcca2D.fit_transform()\n",
    "print(\"Reduced Dimension Matrix X :\")\n",
    "print(ProjectionVectorX)\n",
    "print(\"Reduced Dimension Matrix Y :\")\n",
    "print(ProjectionVectorY)"
   ]
  }
 ],
 "metadata": {
  "kernelspec": {
   "display_name": "Python 3",
   "language": "python",
   "name": "python3"
  },
  "language_info": {
   "codemirror_mode": {
    "name": "ipython",
    "version": 3
   },
   "file_extension": ".py",
   "mimetype": "text/x-python",
   "name": "python",
   "nbconvert_exporter": "python",
   "pygments_lexer": "ipython3",
   "version": "3.8.5"
  }
 },
 "nbformat": 4,
 "nbformat_minor": 4
}
